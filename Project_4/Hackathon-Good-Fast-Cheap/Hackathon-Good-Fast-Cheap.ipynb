{
 "cells": [
  {
   "cell_type": "markdown",
   "metadata": {},
   "source": [
    "## Hackaton-Good-Fast-Cheap"
   ]
  },
  {
   "cell_type": "markdown",
   "metadata": {},
   "source": [
    "## This is a Group Project with the following members:\n",
    "### - Eileen Palmer\n",
    "### - Jurgen Arias\n",
    "### - Larry Curran\n",
    "### - Djuwita Carney"
   ]
  },
  {
   "cell_type": "code",
   "execution_count": 1,
   "metadata": {},
   "outputs": [],
   "source": [
    "import pandas as pd\n",
    "import numpy as np\n",
    "from sklearn.model_selection import train_test_split\n",
    "from sklearn.model_selection import train_test_split, GridSearchCV\n",
    "from sklearn.linear_model import LogisticRegression\n",
    "import seaborn as sns\n",
    "import matplotlib.pyplot as plt\n",
    "from sklearn.linear_model import LinearRegression\n",
    "from sklearn.preprocessing import PolynomialFeatures, StandardScaler\n",
    "from sklearn.model_selection import train_test_split, cross_val_score, cross_val_predict\n",
    "from sklearn.metrics import r2_score\n",
    "\n",
    "%matplotlib inline\n",
    "\n",
    "\n",
    "import warnings\n",
    "warnings.filterwarnings('ignore')"
   ]
  },
  {
   "cell_type": "code",
   "execution_count": 2,
   "metadata": {},
   "outputs": [],
   "source": [
    "## Read Data\n",
    "\n",
    "df = pd.read_csv('./data/large_train_sample.csv')"
   ]
  },
  {
   "cell_type": "code",
   "execution_count": 3,
   "metadata": {},
   "outputs": [
    {
     "data": {
      "text/plain": [
       "(32561, 14)"
      ]
     },
     "execution_count": 3,
     "metadata": {},
     "output_type": "execute_result"
    }
   ],
   "source": [
    "df.shape"
   ]
  },
  {
   "cell_type": "code",
   "execution_count": 4,
   "metadata": {},
   "outputs": [
    {
     "data": {
      "text/plain": [
       "age               0\n",
       "workclass         0\n",
       "fnlwgt            0\n",
       "education         0\n",
       "education-num     0\n",
       "marital-status    0\n",
       "occupation        0\n",
       "relationship      0\n",
       "sex               0\n",
       "capital-gain      0\n",
       "capital-loss      0\n",
       "hours-per-week    0\n",
       "native-country    0\n",
       "wage              0\n",
       "dtype: int64"
      ]
     },
     "execution_count": 4,
     "metadata": {},
     "output_type": "execute_result"
    }
   ],
   "source": [
    "## Check missing data\n",
    "\n",
    "df.isna().sum()"
   ]
  },
  {
   "cell_type": "code",
   "execution_count": 5,
   "metadata": {},
   "outputs": [],
   "source": [
    "## Drop 'education' column since it is also represented by 'education-num' column\n",
    "\n",
    "df.drop(['education','fnlwgt'], inplace = True, axis = 1)"
   ]
  },
  {
   "cell_type": "code",
   "execution_count": 6,
   "metadata": {},
   "outputs": [],
   "source": [
    "## Similarly, for occupations, one column was created using index from 1 to 12\n",
    "\n",
    "df['occupation']= df.occupation.map({\n",
    "     ' ?': 5,                    #0.275439\n",
    "    ' Adm-clerical': 8,         #0.333810\n",
    "    ' Armed-Forces': 4,          #0.200000\n",
    "    ' Craft-repair': 10,             #0.472984\n",
    "     ' Exec-managerial': 15,         #0.746158\n",
    "     ' Farming-fishing' : 6,         #0.296800\n",
    "     ' Handlers-cleaners': 3,        #0.179553\n",
    "     ' Machine-op-inspct': 7,        #0.314822\n",
    "     ' Other-service': 2,            #0.119844\n",
    "     ' Priv-house-serv': 1,          #0.013333\n",
    "     ' Prof-specialty': 14,           #0.717243\n",
    "     ' Protective-serv': 13,         #0.609277\n",
    "     ' Sales': 11,                   #0.542067\n",
    "     ' Tech-support': 12,            #0.584942\n",
    "     ' Transport-moving': 9          #0.443815\n",
    "})"
   ]
  },
  {
   "cell_type": "code",
   "execution_count": 7,
   "metadata": {},
   "outputs": [
    {
     "data": {
      "text/plain": [
       " <=50K    0.75919\n",
       " >50K     0.24081\n",
       "Name: wage, dtype: float64"
      ]
     },
     "execution_count": 7,
     "metadata": {},
     "output_type": "execute_result"
    }
   ],
   "source": [
    "## Check the unbalanceness of the data\n",
    "\n",
    "df['wage'].value_counts(normalize=True)"
   ]
  },
  {
   "cell_type": "code",
   "execution_count": 8,
   "metadata": {},
   "outputs": [],
   "source": [
    "## Binarize 'wage'\n",
    "\n",
    "df['wage'] = df['wage'].map({' <=50K' : 0, ' >50K' : 1})"
   ]
  },
  {
   "cell_type": "code",
   "execution_count": 9,
   "metadata": {},
   "outputs": [
    {
     "data": {
      "text/plain": [
       "1    24720\n",
       "0    24720\n",
       "Name: wage, dtype: int64"
      ]
     },
     "execution_count": 9,
     "metadata": {},
     "output_type": "execute_result"
    }
   ],
   "source": [
    "# Bootstrapping to balance the data\n",
    "\n",
    "np.random.seed(123)\n",
    "high = df[df['wage'] == 1]\n",
    "new_data = high.sample(n=16_879, replace=True)\n",
    "df = pd.concat([df, new_data], axis=0)\n",
    "df['wage'].value_counts()"
   ]
  },
  {
   "cell_type": "code",
   "execution_count": 10,
   "metadata": {},
   "outputs": [],
   "source": [
    "# Reindexing\n",
    "\n",
    "df = df.reset_index(drop=True)"
   ]
  },
  {
   "cell_type": "code",
   "execution_count": 11,
   "metadata": {},
   "outputs": [
    {
     "data": {
      "text/plain": [
       "<Figure size 720x1440 with 0 Axes>"
      ]
     },
     "metadata": {},
     "output_type": "display_data"
    },
    {
     "data": {
      "image/png": "[encoded data removed]",
      "text/plain": [
       "<Figure size 432x432 with 2 Axes>"
      ]
     },
     "metadata": {
      "needs_background": "light"
     },
     "output_type": "display_data"
    }
   ],
   "source": [
    "## Ploy Correlation Coefficients\n",
    "\n",
    "import seaborn as sns\n",
    "plt.figure(figsize = (10,20))\n",
    "plt.figure(figsize=(6,6))\n",
    "sns.heatmap(df.corr().abs()[['wage']].sort_values(by=['wage'],ascending=False), annot = True, cmap='coolwarm');"
   ]
  },
  {
   "cell_type": "code",
   "execution_count": 12,
   "metadata": {},
   "outputs": [],
   "source": [
    "## Create dummies for classification variables\n",
    "\n",
    "df = pd.get_dummies(df, drop_first = True)"
   ]
  },
  {
   "cell_type": "markdown",
   "metadata": {},
   "source": [
    "### Feature Engineering"
   ]
  },
  {
   "cell_type": "code",
   "execution_count": 13,
   "metadata": {},
   "outputs": [],
   "source": [
    "## Create Polynomial Features to improve the model scores\n",
    "\n",
    "\n",
    "poly = PolynomialFeatures(degree=2, include_bias=False)\n",
    "P0 = df[['marital-status_ Married-civ-spouse', 'marital-status_ Never-married']]\n",
    "features = list(P0.columns)\n",
    "P_poly = poly.fit_transform(P0)\n",
    "P1 = pd.DataFrame(P_poly, columns=poly.get_feature_names(features))\n",
    "P = P0.merge(P1, left_index=True, right_index=True)\n",
    "P.drop(columns=['marital-status_ Married-civ-spouse_x', 'marital-status_ Married-civ-spouse_y',\n",
    "                'marital-status_ Never-married_x', 'marital-status_ Never-married_y'], inplace=True)\n",
    "\n",
    "df = P.merge(df, left_index=True, right_index=True)\n",
    "\n",
    "poly = PolynomialFeatures(degree=2, include_bias=False)\n",
    "P0 = df[['age', 'education-num']]\n",
    "features = list(P0.columns)\n",
    "P_poly = poly.fit_transform(P0)\n",
    "P1 = pd.DataFrame(P_poly, columns=poly.get_feature_names(features))\n",
    "P = P0.merge(P1, left_index=True, right_index=True)\n",
    "P.drop(columns=['age_y', 'education-num_y', 'age_x', 'education-num_x'], inplace=True)\n",
    "\n",
    "df = P.merge(df, left_index=True, right_index=True)"
   ]
  },
  {
   "cell_type": "code",
   "execution_count": 14,
   "metadata": {},
   "outputs": [],
   "source": [
    "#### Create a correlation coefficien heatmap to deermined the varianles that have strongest correlation with 'wage'"
   ]
  },
  {
   "cell_type": "code",
   "execution_count": 15,
   "metadata": {},
   "outputs": [],
   "source": [
    "## Get features from all variables\n",
    "\n",
    "X = df.drop('wage', axis=1)\n",
    "y = df['wage']"
   ]
  },
  {
   "cell_type": "code",
   "execution_count": 16,
   "metadata": {},
   "outputs": [],
   "source": [
    "## Scaling\n",
    "\n",
    "ss= StandardScaler()\n",
    "X_sc = ss.fit_transform(X)"
   ]
  },
  {
   "cell_type": "code",
   "execution_count": 17,
   "metadata": {},
   "outputs": [],
   "source": [
    "## Transform X_sc array to DataFrame\n",
    "\n",
    "X_sc = pd.DataFrame(X_sc, columns=X.columns)"
   ]
  },
  {
   "cell_type": "code",
   "execution_count": 18,
   "metadata": {},
   "outputs": [],
   "source": [
    "# Split Train and Test data\n",
    "\n",
    "X_train, X_test, y_train, y_test = train_test_split(X_sc,y,stratify = y, random_state = 42)"
   ]
  },
  {
   "cell_type": "markdown",
   "metadata": {},
   "source": [
    "### Determine the 20 best features by performing Logistic regression using all available features and sorting the absolute values of the coefficients"
   ]
  },
  {
   "cell_type": "code",
   "execution_count": 19,
   "metadata": {},
   "outputs": [
    {
     "data": {
      "text/plain": [
       "LogisticRegression(C=1000000000.0, class_weight=None, dual=False,\n",
       "                   fit_intercept=True, intercept_scaling=1, l1_ratio=None,\n",
       "                   max_iter=100, multi_class='warn', n_jobs=None, penalty='l2',\n",
       "                   random_state=None, solver='warn', tol=0.0001, verbose=0,\n",
       "                   warm_start=False)"
      ]
     },
     "execution_count": 19,
     "metadata": {},
     "output_type": "execute_result"
    }
   ],
   "source": [
    "from sklearn.model_selection import cross_val_score\n",
    "\n",
    "\n",
    "lr = LogisticRegression(C=1e9)\n",
    "lr.fit(X_sc, y)"
   ]
  },
  {
   "cell_type": "code",
   "execution_count": 20,
   "metadata": {},
   "outputs": [
    {
     "data": {
      "text/html": [
       "<div>\n",
       "<style scoped>\n",
       "    .dataframe tbody tr th:only-of-type {\n",
       "        vertical-align: middle;\n",
       "    }\n",
       "\n",
       "    .dataframe tbody tr th {\n",
       "        vertical-align: top;\n",
       "    }\n",
       "\n",
       "    .dataframe thead th {\n",
       "        text-align: right;\n",
       "    }\n",
       "</style>\n",
       "<table border=\"1\" class=\"dataframe\">\n",
       "  <thead>\n",
       "    <tr style=\"text-align: right;\">\n",
       "      <th></th>\n",
       "      <th>feature</th>\n",
       "      <th>coef</th>\n",
       "      <th>coefs_abs</th>\n",
       "    </tr>\n",
       "  </thead>\n",
       "  <tbody>\n",
       "    <tr>\n",
       "      <td>9</td>\n",
       "      <td>capital-gain</td>\n",
       "      <td>3.263907</td>\n",
       "      <td>3.263907</td>\n",
       "    </tr>\n",
       "    <tr>\n",
       "      <td>6</td>\n",
       "      <td>age</td>\n",
       "      <td>3.108763</td>\n",
       "      <td>3.108763</td>\n",
       "    </tr>\n",
       "    <tr>\n",
       "      <td>0</td>\n",
       "      <td>age^2</td>\n",
       "      <td>-2.552811</td>\n",
       "      <td>2.552811</td>\n",
       "    </tr>\n",
       "    <tr>\n",
       "      <td>21</td>\n",
       "      <td>marital-status_ Married-civ-spouse</td>\n",
       "      <td>0.612484</td>\n",
       "      <td>0.612484</td>\n",
       "    </tr>\n",
       "    <tr>\n",
       "      <td>3</td>\n",
       "      <td>marital-status_ Married-civ-spouse^2</td>\n",
       "      <td>0.612484</td>\n",
       "      <td>0.612484</td>\n",
       "    </tr>\n",
       "    <tr>\n",
       "      <td>8</td>\n",
       "      <td>occupation</td>\n",
       "      <td>0.523538</td>\n",
       "      <td>0.523538</td>\n",
       "    </tr>\n",
       "    <tr>\n",
       "      <td>7</td>\n",
       "      <td>education-num</td>\n",
       "      <td>0.520848</td>\n",
       "      <td>0.520848</td>\n",
       "    </tr>\n",
       "    <tr>\n",
       "      <td>31</td>\n",
       "      <td>sex_ Male</td>\n",
       "      <td>0.419417</td>\n",
       "      <td>0.419417</td>\n",
       "    </tr>\n",
       "    <tr>\n",
       "      <td>30</td>\n",
       "      <td>relationship_ Wife</td>\n",
       "      <td>0.382095</td>\n",
       "      <td>0.382095</td>\n",
       "    </tr>\n",
       "    <tr>\n",
       "      <td>11</td>\n",
       "      <td>hours-per-week</td>\n",
       "      <td>0.335911</td>\n",
       "      <td>0.335911</td>\n",
       "    </tr>\n",
       "    <tr>\n",
       "      <td>10</td>\n",
       "      <td>capital-loss</td>\n",
       "      <td>0.323975</td>\n",
       "      <td>0.323975</td>\n",
       "    </tr>\n",
       "    <tr>\n",
       "      <td>26</td>\n",
       "      <td>relationship_ Not-in-family</td>\n",
       "      <td>0.314228</td>\n",
       "      <td>0.314228</td>\n",
       "    </tr>\n",
       "    <tr>\n",
       "      <td>2</td>\n",
       "      <td>education-num^2</td>\n",
       "      <td>0.296426</td>\n",
       "      <td>0.296426</td>\n",
       "    </tr>\n",
       "    <tr>\n",
       "      <td>17</td>\n",
       "      <td>workclass_ Self-emp-not-inc</td>\n",
       "      <td>-0.181827</td>\n",
       "      <td>0.181827</td>\n",
       "    </tr>\n",
       "    <tr>\n",
       "      <td>19</td>\n",
       "      <td>workclass_ Without-pay</td>\n",
       "      <td>-0.144962</td>\n",
       "      <td>0.144962</td>\n",
       "    </tr>\n",
       "    <tr>\n",
       "      <td>29</td>\n",
       "      <td>relationship_ Unmarried</td>\n",
       "      <td>0.140834</td>\n",
       "      <td>0.140834</td>\n",
       "    </tr>\n",
       "    <tr>\n",
       "      <td>1</td>\n",
       "      <td>age education-num</td>\n",
       "      <td>-0.124888</td>\n",
       "      <td>0.124888</td>\n",
       "    </tr>\n",
       "    <tr>\n",
       "      <td>59</td>\n",
       "      <td>native-country_ Outlying-US(Guam-USVI-etc)</td>\n",
       "      <td>-0.124708</td>\n",
       "      <td>0.124708</td>\n",
       "    </tr>\n",
       "    <tr>\n",
       "      <td>70</td>\n",
       "      <td>native-country_ United-States</td>\n",
       "      <td>0.115285</td>\n",
       "      <td>0.115285</td>\n",
       "    </tr>\n",
       "    <tr>\n",
       "      <td>13</td>\n",
       "      <td>workclass_ Local-gov</td>\n",
       "      <td>-0.111505</td>\n",
       "      <td>0.111505</td>\n",
       "    </tr>\n",
       "  </tbody>\n",
       "</table>\n",
       "</div>"
      ],
      "text/plain": [
       "                                       feature      coef  coefs_abs\n",
       "9                                 capital-gain  3.263907   3.263907\n",
       "6                                          age  3.108763   3.108763\n",
       "0                                        age^2 -2.552811   2.552811\n",
       "21          marital-status_ Married-civ-spouse  0.612484   0.612484\n",
       "3         marital-status_ Married-civ-spouse^2  0.612484   0.612484\n",
       "8                                   occupation  0.523538   0.523538\n",
       "7                                education-num  0.520848   0.520848\n",
       "31                                   sex_ Male  0.419417   0.419417\n",
       "30                          relationship_ Wife  0.382095   0.382095\n",
       "11                              hours-per-week  0.335911   0.335911\n",
       "10                                capital-loss  0.323975   0.323975\n",
       "26                 relationship_ Not-in-family  0.314228   0.314228\n",
       "2                              education-num^2  0.296426   0.296426\n",
       "17                 workclass_ Self-emp-not-inc -0.181827   0.181827\n",
       "19                      workclass_ Without-pay -0.144962   0.144962\n",
       "29                     relationship_ Unmarried  0.140834   0.140834\n",
       "1                            age education-num -0.124888   0.124888\n",
       "59  native-country_ Outlying-US(Guam-USVI-etc) -0.124708   0.124708\n",
       "70               native-country_ United-States  0.115285   0.115285\n",
       "13                        workclass_ Local-gov -0.111505   0.111505"
      ]
     },
     "execution_count": 20,
     "metadata": {},
     "output_type": "execute_result"
    }
   ],
   "source": [
    "## Generate and sort the regression coefficients\n",
    "\n",
    "coefs_df = pd.DataFrame(X_sc.columns)\n",
    "coefs_df.columns = ['feature']\n",
    "coefs_df['coef'] = list(lr.coef_[0])\n",
    "\n",
    "coefs_df['coefs_abs'] = abs(coefs_df['coef'])\n",
    "coefs_df.sort_values(by='coefs_abs', ascending=False).head(20)\n"
   ]
  },
  {
   "cell_type": "code",
   "execution_count": 21,
   "metadata": {},
   "outputs": [],
   "source": [
    "features = list(coefs_df.sort_values(by='coefs_abs', ascending=False).head(20)['feature'])\n"
   ]
  },
  {
   "cell_type": "code",
   "execution_count": 22,
   "metadata": {},
   "outputs": [
    {
     "data": {
      "text/plain": [
       "array([0.81444175, 0.81966019, 0.81286408])"
      ]
     },
     "execution_count": 22,
     "metadata": {},
     "output_type": "execute_result"
    }
   ],
   "source": [
    "cross_val_score(lr,X,y, cv = 3)"
   ]
  },
  {
   "cell_type": "markdown",
   "metadata": {},
   "source": [
    "### Logistic Regression"
   ]
  },
  {
   "cell_type": "code",
   "execution_count": 23,
   "metadata": {},
   "outputs": [],
   "source": [
    "X = df[features]\n",
    "y = df['wage']"
   ]
  },
  {
   "cell_type": "code",
   "execution_count": 24,
   "metadata": {},
   "outputs": [],
   "source": [
    "## Splitting data to train and test data\n",
    "\n",
    "X_train, X_test, y_train, y_test = train_test_split(X, y, random_state=42)"
   ]
  },
  {
   "cell_type": "code",
   "execution_count": 25,
   "metadata": {},
   "outputs": [
    {
     "data": {
      "text/plain": [
       "LogisticRegression(C=1000000000.0, class_weight=None, dual=False,\n",
       "                   fit_intercept=True, intercept_scaling=1, l1_ratio=None,\n",
       "                   max_iter=100, multi_class='warn', n_jobs=None, penalty='l2',\n",
       "                   random_state=None, solver='warn', tol=0.0001, verbose=0,\n",
       "                   warm_start=False)"
      ]
     },
     "execution_count": 25,
     "metadata": {},
     "output_type": "execute_result"
    }
   ],
   "source": [
    "## Logistic linear modeling\n",
    "\n",
    "from sklearn import datasets, linear_model\n",
    "from sklearn.model_selection import cross_val_score\n",
    "\n",
    "\n",
    "lr = LogisticRegression(C=1e9)\n",
    "lr.fit(X_train, y_train)"
   ]
  },
  {
   "cell_type": "code",
   "execution_count": 26,
   "metadata": {},
   "outputs": [
    {
     "data": {
      "text/plain": [
       "0.818311758360302"
      ]
     },
     "execution_count": 26,
     "metadata": {},
     "output_type": "execute_result"
    }
   ],
   "source": [
    "lr.score(X_train, y_train)"
   ]
  },
  {
   "cell_type": "code",
   "execution_count": 27,
   "metadata": {},
   "outputs": [
    {
     "data": {
      "text/plain": [
       "0.8189320388349515"
      ]
     },
     "execution_count": 27,
     "metadata": {},
     "output_type": "execute_result"
    }
   ],
   "source": [
    "lr.score(X_test, y_test)"
   ]
  },
  {
   "cell_type": "code",
   "execution_count": 28,
   "metadata": {},
   "outputs": [],
   "source": [
    "from sklearn.ensemble import RandomForestClassifier, ExtraTreesClassifier\n",
    "from sklearn.model_selection import train_test_split, cross_val_score\n",
    "from sklearn.metrics import accuracy_score"
   ]
  },
  {
   "cell_type": "code",
   "execution_count": 29,
   "metadata": {},
   "outputs": [],
   "source": [
    "rf = RandomForestClassifier()"
   ]
  },
  {
   "cell_type": "code",
   "execution_count": 30,
   "metadata": {},
   "outputs": [],
   "source": [
    "et = ExtraTreesClassifier()"
   ]
  },
  {
   "cell_type": "markdown",
   "metadata": {},
   "source": [
    "## Grid Search for RandomForestClassifier\n",
    "---\n"
   ]
  },
  {
   "cell_type": "code",
   "execution_count": 31,
   "metadata": {},
   "outputs": [
    {
     "name": "stdout",
     "output_type": "stream",
     "text": [
      "0.8931499460625674\n"
     ]
    },
    {
     "data": {
      "text/plain": [
       "{'max_depth': None, 'n_estimators': 150}"
      ]
     },
     "execution_count": 31,
     "metadata": {},
     "output_type": "execute_result"
    }
   ],
   "source": [
    "rf_params = {\n",
    "    'n_estimators': [10, 50, 100, 150, 200],\n",
    "    'max_depth': [None, 1, 2, 3, 4, 5],\n",
    "}\n",
    "\n",
    "\n",
    "\n",
    "gs_rf = GridSearchCV(rf, param_grid=rf_params, cv=5)\n",
    "gs_rf.fit(X_train, y_train)\n",
    "print(gs_rf.best_score_)\n",
    "gs_rf.best_params_"
   ]
  },
  {
   "cell_type": "code",
   "execution_count": null,
   "metadata": {},
   "outputs": [],
   "source": [
    "gs_rf.score(X_train, y_train)"
   ]
  },
  {
   "cell_type": "code",
   "execution_count": null,
   "metadata": {},
   "outputs": [],
   "source": [
    "gs_rf.score(X_test, y_test)"
   ]
  },
  {
   "cell_type": "markdown",
   "metadata": {},
   "source": [
    "#### Calculate RMSE"
   ]
  },
  {
   "cell_type": "code",
   "execution_count": null,
   "metadata": {},
   "outputs": [],
   "source": [
    "from sklearn.metrics import mean_squared_error\n",
    "from math import sqrt"
   ]
  },
  {
   "cell_type": "code",
   "execution_count": null,
   "metadata": {},
   "outputs": [],
   "source": [
    "## For FandomForest Model\n",
    "\n",
    "\n",
    "rmse= sqrt(mean_squared_error(y_test, y_hat))\n",
    "rmse"
   ]
  },
  {
   "cell_type": "code",
   "execution_count": null,
   "metadata": {},
   "outputs": [],
   "source": []
  },
  {
   "cell_type": "markdown",
   "metadata": {},
   "source": [
    "### SVM Model"
   ]
  },
  {
   "cell_type": "code",
   "execution_count": null,
   "metadata": {},
   "outputs": [],
   "source": [
    "# # Instantiate SVM.\n",
    "# from sklearn.svm import SVC\n",
    "# #Setting a pipeline\n",
    "# pipe = Pipeline([\n",
    "#     ('ss', StandardScaler()),\n",
    "#     ('svc', SVC()) \n",
    "# ])\n",
    "# # Hyperparameters\n",
    "# svc_params = {\n",
    "#     'svc__kernel': ['poly', 'rbf', 'sigmoid'],\n",
    "#     'svc__C' : [.1, 1, 100],\n",
    "#     'svc__gamma': [0.1, 1, 100],\n",
    "# #     'svc__degrees': [0, 1, 2, 3, 4, 5, 6]\n",
    "# }\n",
    "# # Gridsearching\n",
    "# pipe_gs = GridSearchCV(pipe, svc_params, cv=3)\n",
    "# pipe_gs.fit(X_train, y_train)\n",
    "# printpipe_gs.best_score_"
   ]
  },
  {
   "cell_type": "code",
   "execution_count": null,
   "metadata": {},
   "outputs": [],
   "source": []
  },
  {
   "cell_type": "markdown",
   "metadata": {},
   "source": [
    "### Gradient Boosting"
   ]
  },
  {
   "cell_type": "code",
   "execution_count": null,
   "metadata": {},
   "outputs": [],
   "source": [
    "# GRADIENT BOOSTING\n",
    "\n",
    "X_train, X_test, y_train, y_test = train_test_split(X,\n",
    "                                                    y,\n",
    "                                                    random_state=42)\n",
    "\n",
    "# Instantiate pipeline\n",
    "pipe = Pipeline([\n",
    "    ('gbc', GradientBoostingClassifier(random_state=42))\n",
    "])\n",
    "\n",
    "# Set up parameters\n",
    "pipe_params = {\n",
    "    'gbc__n_estimators' : [50, 100],\n",
    "    'gbc__learning_rate' : [0.1, 0.5],\n",
    "    'gbc__max_depth': [1, 2, 3, 4]\n",
    "    \n",
    "}\n",
    "\n",
    "# Instantiate GridSearch\n",
    "gs = GridSearchCV(pipe, pipe_params, cv=3)\n",
    "\n",
    "# Fit models\n",
    "gs.fit(X_train, y_train)\n",
    "\n",
    "print(gs.best_score_)\n",
    "print(gs.best_params_)\n",
    "\n",
    "# Save best model\n",
    "gbc = gs.best_estimator_\n",
    "\n",
    "print(gbc.score(X_train, y_train))\n",
    "print(gbc.score(X_test, y_test))\n",
    "\n"
   ]
  },
  {
   "cell_type": "code",
   "execution_count": null,
   "metadata": {},
   "outputs": [],
   "source": []
  },
  {
   "cell_type": "code",
   "execution_count": null,
   "metadata": {},
   "outputs": [],
   "source": []
  }
 ],
 "metadata": {
  "kernelspec": {
   "display_name": "Python 3",
   "language": "python",
   "name": "python3"
  },
  "language_info": {
   "codemirror_mode": {
    "name": "ipython",
    "version": 3
   },
   "file_extension": ".py",
   "mimetype": "text/x-python",
   "name": "python",
   "nbconvert_exporter": "python",
   "pygments_lexer": "ipython3",
   "version": "3.7.3"
  }
 },
 "nbformat": 4,
 "nbformat_minor": 4
}
