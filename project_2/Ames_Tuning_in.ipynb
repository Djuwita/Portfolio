{
 "cells": [
  {
   "cell_type": "markdown",
   "metadata": {},
   "source": [
    "# Project 2: Ames Housing Sale Price Prediction Model\n",
    "\n",
    "> Authors: Djuwita Carney\n",
    "\n",
    "---"
   ]
  },
  {
   "cell_type": "markdown",
   "metadata": {},
   "source": [
    "## Objective\n",
    "To make a prediction of housing price in Ames, Iowa as a function of many aspects of housing conditions"
   ]
  },
  {
   "cell_type": "markdown",
   "metadata": {},
   "source": [
    "## Imports"
   ]
  },
  {
   "cell_type": "code",
   "execution_count": 1,
   "metadata": {},
   "outputs": [],
   "source": [
    "import pandas as pd\n",
    "import numpy as np\n",
    "import seaborn as sns\n",
    "import matplotlib.pyplot as plt\n",
    "from sklearn.linear_model import LinearRegression, LassoCV, RidgeCV\n",
    "from sklearn.preprocessing import PolynomialFeatures, StandardScaler\n",
    "from sklearn.model_selection import train_test_split, cross_val_score, cross_val_predict\n",
    "from sklearn.metrics import r2_score\n",
    "\n",
    "%matplotlib inline"
   ]
  },
  {
   "cell_type": "markdown",
   "metadata": {},
   "source": [
    "## Read Data\n",
    "The `train` dataset consists of comprehensive housing data in Ames Iowa "
   ]
  },
  {
   "cell_type": "code",
   "execution_count": 5,
   "metadata": {},
   "outputs": [
    {
     "name": "stdout",
     "output_type": "stream",
     "text": [
      "/Users/djuwitacarney\n"
     ]
    }
   ],
   "source": [
    "cd"
   ]
  },
  {
   "cell_type": "code",
   "execution_count": 6,
   "metadata": {},
   "outputs": [
    {
     "name": "stdout",
     "output_type": "stream",
     "text": [
      "/Users/djuwitacarney/Documents/GA/Submissions/project_2\n"
     ]
    }
   ],
   "source": [
    "cd Documents/GA/Submissions/Project_2"
   ]
  },
  {
   "cell_type": "code",
   "execution_count": 7,
   "metadata": {},
   "outputs": [],
   "source": [
    "# Read in the dummy_train data in the data folder in this repository. dummy_train data is the clean train data with dummy columns for the qualitative variables\n",
    "dummy_train = pd.read_csv('./datasets/dummy_train.csv')"
   ]
  },
  {
   "cell_type": "code",
   "execution_count": 8,
   "metadata": {},
   "outputs": [],
   "source": [
    "# Read in the clean_test file. This is the file with clean test data data with dummy columns for the qualitative variables.\n",
    "test = pd.read_csv('./datasets/clean_test.csv')"
   ]
  },
  {
   "cell_type": "markdown",
   "metadata": {},
   "source": [
    "# Prepare regression parameters"
   ]
  },
  {
   "cell_type": "code",
   "execution_count": 9,
   "metadata": {},
   "outputs": [
    {
     "data": {
      "text/plain": [
       "Index(['PID', 'Lot Area', 'Overall Qual', 'Year Built', 'Year Remod/Add',\n",
       "       'Mas Vnr Area', 'BsmtFin SF 1', 'Bsmt Unf SF', 'Total Bsmt SF',\n",
       "       '1st Flr SF',\n",
       "       ...\n",
       "       'Paved Drive_Y', 'Sale Type_COD', 'Sale Type_CWD', 'Sale Type_Con',\n",
       "       'Sale Type_ConLD', 'Sale Type_ConLI', 'Sale Type_ConLw',\n",
       "       'Sale Type_New', 'Sale Type_Oth', 'Sale Type_WD '],\n",
       "      dtype='object', length=230)"
      ]
     },
     "execution_count": 9,
     "metadata": {},
     "output_type": "execute_result"
    }
   ],
   "source": [
    "# Identify common variables between Train and Test data for fitting to be possible\n",
    "\n",
    "dummy_train_cols = dummy_train.columns\n",
    "test_cols = test.columns\n",
    "\n",
    "common_cols = dummy_train_cols.intersection(test_cols)\n",
    "common_cols"
   ]
  },
  {
   "cell_type": "code",
   "execution_count": 10,
   "metadata": {},
   "outputs": [],
   "source": [
    "test = test.loc[:, test.columns.isin(list(common_cols))]"
   ]
  },
  {
   "cell_type": "code",
   "execution_count": 11,
   "metadata": {},
   "outputs": [],
   "source": [
    "features = common_cols\n",
    "X_train = dummy_train[features]\n",
    "y_train = dummy_train['SalePrice']\n",
    "X_test = test"
   ]
  },
  {
   "cell_type": "code",
   "execution_count": 12,
   "metadata": {},
   "outputs": [],
   "source": [
    "lr = LinearRegression()"
   ]
  },
  {
   "cell_type": "code",
   "execution_count": 13,
   "metadata": {},
   "outputs": [
    {
     "data": {
      "text/plain": [
       "551545.6434108664"
      ]
     },
     "execution_count": 13,
     "metadata": {},
     "output_type": "execute_result"
    }
   ],
   "source": [
    "lr.fit(X_train, y_train)\n",
    "y_pred = lr.predict(X_train)\n",
    "y_test = lr.predict(X_test)\n",
    "y_pred.max()"
   ]
  },
  {
   "cell_type": "code",
   "execution_count": 14,
   "metadata": {},
   "outputs": [
    {
     "name": "stdout",
     "output_type": "stream",
     "text": [
      "1884 183850 551545.6434108664\n"
     ]
    },
    {
     "name": "stderr",
     "output_type": "stream",
     "text": [
      "/Users/djuwitacarney/opt/anaconda3/lib/python3.7/site-packages/pandas/core/frame.py:3997: SettingWithCopyWarning: \n",
      "A value is trying to be set on a copy of a slice from a DataFrame\n",
      "\n",
      "See the caveats in the documentation: https://pandas.pydata.org/pandas-docs/stable/user_guide/indexing.html#returning-a-view-versus-a-copy\n",
      "  errors=errors,\n"
     ]
    }
   ],
   "source": [
    "## Delete one out lier\n",
    "\n",
    "for i in range(len(y_pred)):\n",
    "    if y_pred[i] == y_pred.max():\n",
    "        print(i, y_train[i], y_pred[i])\n",
    "        y_train.drop(i, inplace = True)  \n",
    "        X_train.drop(i, inplace = True)\n",
    "    else:\n",
    "        pass"
   ]
  },
  {
   "cell_type": "code",
   "execution_count": 15,
   "metadata": {},
   "outputs": [],
   "source": [
    "lr = LinearRegression()"
   ]
  },
  {
   "cell_type": "code",
   "execution_count": 16,
   "metadata": {},
   "outputs": [],
   "source": [
    "lr.fit(X_train, y_train)\n",
    "y_pred = lr.predict(X_train)\n",
    "y_test = lr.predict(X_test)\n"
   ]
  },
  {
   "cell_type": "code",
   "execution_count": null,
   "metadata": {},
   "outputs": [],
   "source": []
  },
  {
   "cell_type": "code",
   "execution_count": 17,
   "metadata": {},
   "outputs": [],
   "source": [
    "## Lasso and Ridge"
   ]
  },
  {
   "cell_type": "code",
   "execution_count": 18,
   "metadata": {},
   "outputs": [],
   "source": [
    "# Instantiate.\n",
    "ss = StandardScaler()\n",
    "\n",
    "# Fit.\n",
    "X_train_sc = ss.fit_transform(X_train)\n",
    "\n",
    "# Fit.\n",
    "X_test_sc = ss.fit_transform(X_test)"
   ]
  },
  {
   "cell_type": "code",
   "execution_count": 19,
   "metadata": {},
   "outputs": [],
   "source": [
    "lasso = LassoCV(n_alphas=100)"
   ]
  },
  {
   "cell_type": "code",
   "execution_count": 20,
   "metadata": {},
   "outputs": [],
   "source": [
    "ridge = RidgeCV(alphas=np.linspace(.1, 10, 100))"
   ]
  },
  {
   "cell_type": "markdown",
   "metadata": {},
   "source": [
    "## Cross validation\n",
    "---\n",
    "\n",
    "Use `cross_val_score` to evaluate all models."
   ]
  },
  {
   "cell_type": "code",
   "execution_count": 21,
   "metadata": {},
   "outputs": [
    {
     "data": {
      "text/plain": [
       "0.8730775368092575"
      ]
     },
     "execution_count": 21,
     "metadata": {},
     "output_type": "execute_result"
    }
   ],
   "source": [
    "lasso_scores = cross_val_score(lasso, X_train_sc, y_train, cv=3)\n",
    "lasso_scores.mean()"
   ]
  },
  {
   "cell_type": "code",
   "execution_count": 22,
   "metadata": {},
   "outputs": [
    {
     "data": {
      "text/plain": [
       "0.869267233121786"
      ]
     },
     "execution_count": 22,
     "metadata": {},
     "output_type": "execute_result"
    }
   ],
   "source": [
    "ridge_scores = cross_val_score(ridge, X_train_sc, y_train, cv=3)\n",
    "ridge_scores.mean()"
   ]
  },
  {
   "cell_type": "code",
   "execution_count": null,
   "metadata": {},
   "outputs": [],
   "source": []
  },
  {
   "cell_type": "markdown",
   "metadata": {},
   "source": [
    "## Ridge Model Fitting and Evaluation\n",
    "---"
   ]
  },
  {
   "cell_type": "code",
   "execution_count": 23,
   "metadata": {},
   "outputs": [
    {
     "data": {
      "text/plain": [
       "RidgeCV(alphas=array([ 0.1,  0.2,  0.3,  0.4,  0.5,  0.6,  0.7,  0.8,  0.9,  1. ,  1.1,\n",
       "        1.2,  1.3,  1.4,  1.5,  1.6,  1.7,  1.8,  1.9,  2. ,  2.1,  2.2,\n",
       "        2.3,  2.4,  2.5,  2.6,  2.7,  2.8,  2.9,  3. ,  3.1,  3.2,  3.3,\n",
       "        3.4,  3.5,  3.6,  3.7,  3.8,  3.9,  4. ,  4.1,  4.2,  4.3,  4.4,\n",
       "        4.5,  4.6,  4.7,  4.8,  4.9,  5. ,  5.1,  5.2,  5.3,  5.4,  5.5,\n",
       "        5.6,  5.7,  5.8,  5.9,  6. ,  6.1,  6.2,  6.3,  6.4,  6.5,  6.6,\n",
       "        6.7,  6.8,  6.9,  7. ,  7.1,  7.2,  7.3,  7.4,  7.5,  7.6,  7.7,\n",
       "        7.8,  7.9,  8. ,  8.1,  8.2,  8.3,  8.4,  8.5,  8.6,  8.7,  8.8,\n",
       "        8.9,  9. ,  9.1,  9.2,  9.3,  9.4,  9.5,  9.6,  9.7,  9.8,  9.9,\n",
       "       10. ]),\n",
       "        cv=None, fit_intercept=True, gcv_mode=None, normalize=False,\n",
       "        scoring=None, store_cv_values=False)"
      ]
     },
     "execution_count": 23,
     "metadata": {},
     "output_type": "execute_result"
    }
   ],
   "source": [
    "ridge.fit(X_train_sc, y_train)"
   ]
  },
  {
   "cell_type": "code",
   "execution_count": 24,
   "metadata": {},
   "outputs": [
    {
     "data": {
      "text/plain": [
       "0.9256849049573573"
      ]
     },
     "execution_count": 24,
     "metadata": {},
     "output_type": "execute_result"
    }
   ],
   "source": [
    "ridge.score(X_train_sc, y_train)"
   ]
  },
  {
   "cell_type": "code",
   "execution_count": 25,
   "metadata": {},
   "outputs": [
    {
     "data": {
      "text/plain": [
       "0.9875727313005646"
      ]
     },
     "execution_count": 25,
     "metadata": {},
     "output_type": "execute_result"
    }
   ],
   "source": [
    "ridge.score(X_test_sc, y_test)"
   ]
  },
  {
   "cell_type": "code",
   "execution_count": 26,
   "metadata": {},
   "outputs": [],
   "source": [
    "pred = ridge.predict(X_test_sc)"
   ]
  },
  {
   "cell_type": "code",
   "execution_count": 27,
   "metadata": {},
   "outputs": [
    {
     "data": {
      "text/plain": [
       "0.9875727313005644"
      ]
     },
     "execution_count": 27,
     "metadata": {},
     "output_type": "execute_result"
    }
   ],
   "source": [
    "r2_score(y_test, pred)"
   ]
  },
  {
   "cell_type": "code",
   "execution_count": 28,
   "metadata": {},
   "outputs": [],
   "source": [
    "residuals_ridge = y_test - pred"
   ]
  },
  {
   "cell_type": "markdown",
   "metadata": {},
   "source": [
    "## Lasso Model Fitting and Evaluation"
   ]
  },
  {
   "cell_type": "code",
   "execution_count": 29,
   "metadata": {},
   "outputs": [
    {
     "data": {
      "text/plain": [
       "LassoCV(alphas=None, copy_X=True, cv=None, eps=0.001, fit_intercept=True,\n",
       "        max_iter=1000, n_alphas=100, n_jobs=None, normalize=False,\n",
       "        positive=False, precompute='auto', random_state=None,\n",
       "        selection='cyclic', tol=0.0001, verbose=False)"
      ]
     },
     "execution_count": 29,
     "metadata": {},
     "output_type": "execute_result"
    }
   ],
   "source": [
    "lasso.fit(X_train_sc, y_train)"
   ]
  },
  {
   "cell_type": "code",
   "execution_count": 30,
   "metadata": {},
   "outputs": [
    {
     "data": {
      "text/plain": [
       "0.9191863971677321"
      ]
     },
     "execution_count": 30,
     "metadata": {},
     "output_type": "execute_result"
    }
   ],
   "source": [
    "lasso.score(X_train_sc, y_train)"
   ]
  },
  {
   "cell_type": "code",
   "execution_count": 31,
   "metadata": {},
   "outputs": [
    {
     "data": {
      "text/plain": [
       "0.9802310778962371"
      ]
     },
     "execution_count": 31,
     "metadata": {},
     "output_type": "execute_result"
    }
   ],
   "source": [
    "lasso.score(X_test_sc, y_test)"
   ]
  },
  {
   "cell_type": "code",
   "execution_count": 32,
   "metadata": {},
   "outputs": [],
   "source": [
    "pred = lasso.predict(X_test_sc)"
   ]
  },
  {
   "cell_type": "code",
   "execution_count": 33,
   "metadata": {},
   "outputs": [
    {
     "data": {
      "text/plain": [
       "0.9802310778962371"
      ]
     },
     "execution_count": 33,
     "metadata": {},
     "output_type": "execute_result"
    }
   ],
   "source": [
    "r2_score(y_test, pred)"
   ]
  },
  {
   "cell_type": "code",
   "execution_count": 34,
   "metadata": {},
   "outputs": [],
   "source": [
    "residuals_lasso = y_test - pred"
   ]
  },
  {
   "cell_type": "code",
   "execution_count": 35,
   "metadata": {},
   "outputs": [
    {
     "data": {
      "text/plain": [
       "Text(0, 0.5, 'Ridge_residuals')"
      ]
     },
     "execution_count": 35,
     "metadata": {},
     "output_type": "execute_result"
    },
    {
     "data": {
      "image/png": "[encoded data removed]",
      "text/plain": [
       "<Figure size 432x288 with 1 Axes>"
      ]
     },
     "metadata": {
      "needs_background": "light"
     },
     "output_type": "display_data"
    }
   ],
   "source": [
    "plt.scatter(pred, residuals_ridge)\n",
    "plt.xlabel('prediction')\n",
    "plt.ylabel('Ridge_residuals')"
   ]
  },
  {
   "cell_type": "code",
   "execution_count": 36,
   "metadata": {},
   "outputs": [],
   "source": [
    "residuals_lasso = y_test - pred"
   ]
  },
  {
   "cell_type": "code",
   "execution_count": 37,
   "metadata": {},
   "outputs": [
    {
     "data": {
      "text/plain": [
       "Text(0, 0.5, 'Lasso_residuals')"
      ]
     },
     "execution_count": 37,
     "metadata": {},
     "output_type": "execute_result"
    },
    {
     "data": {
      "image/png": "[encoded data removed]",
      "text/plain": [
       "<Figure size 432x288 with 1 Axes>"
      ]
     },
     "metadata": {
      "needs_background": "light"
     },
     "output_type": "display_data"
    }
   ],
   "source": [
    "plt.scatter(pred, residuals_lasso)\n",
    "plt.xlabel('prediction')\n",
    "plt.ylabel('Lasso_residuals')"
   ]
  },
  {
   "cell_type": "markdown",
   "metadata": {},
   "source": [
    "# Lasso scores for  test is higher than train score, indicating an under predicting model. Residuals lie around zero, except for a few outliers. The number of outliers is less than those of Ridge, how ever the residuals for those outliers are larger"
   ]
  },
  {
   "cell_type": "markdown",
   "metadata": {},
   "source": [
    "## Cross validation\n",
    "---\n",
    "\n",
    "Use `cross_val_score` to evaluate all models."
   ]
  },
  {
   "cell_type": "code",
   "execution_count": 39,
   "metadata": {},
   "outputs": [
    {
     "data": {
      "text/plain": [
       "0.8734296785053027"
      ]
     },
     "execution_count": 39,
     "metadata": {},
     "output_type": "execute_result"
    }
   ],
   "source": [
    "lr_scores = cross_val_score(lr, X_train, y_train, cv=5)\n",
    "lr_scores.mean()"
   ]
  },
  {
   "cell_type": "code",
   "execution_count": 41,
   "metadata": {},
   "outputs": [
    {
     "data": {
      "text/plain": [
       "0.8793247534897841"
      ]
     },
     "execution_count": 41,
     "metadata": {},
     "output_type": "execute_result"
    }
   ],
   "source": [
    "lasso_scores = cross_val_score(lasso, X_train_sc, y_train, cv=5)\n",
    "lasso_scores.mean()"
   ]
  },
  {
   "cell_type": "code",
   "execution_count": 42,
   "metadata": {},
   "outputs": [
    {
     "data": {
      "text/plain": [
       "0.8761787977676878"
      ]
     },
     "execution_count": 42,
     "metadata": {},
     "output_type": "execute_result"
    }
   ],
   "source": [
    "ridge_scores = cross_val_score(ridge, X_train_sc, y_train, cv=5)\n",
    "ridge_scores.mean()"
   ]
  },
  {
   "cell_type": "code",
   "execution_count": null,
   "metadata": {},
   "outputs": [],
   "source": []
  },
  {
   "cell_type": "code",
   "execution_count": null,
   "metadata": {},
   "outputs": [],
   "source": []
  },
  {
   "cell_type": "code",
   "execution_count": 43,
   "metadata": {},
   "outputs": [],
   "source": [
    "# Read in test file. to get the Id.\n",
    "test_org = pd.read_csv('./datasets/test.csv')"
   ]
  },
  {
   "cell_type": "raw",
   "metadata": {},
   "source": [
    "test_org.head()"
   ]
  },
  {
   "cell_type": "code",
   "execution_count": 44,
   "metadata": {},
   "outputs": [
    {
     "data": {
      "text/plain": [
       "(879, 1)"
      ]
     },
     "execution_count": 44,
     "metadata": {},
     "output_type": "execute_result"
    }
   ],
   "source": [
    "id_number = test_org['Id']\n",
    "id_number = pd.DataFrame(id_number)\n",
    "id_number.dropna()\n",
    "id_number.shape"
   ]
  },
  {
   "cell_type": "code",
   "execution_count": 45,
   "metadata": {},
   "outputs": [],
   "source": [
    "# Save prediction to csv file for submission\n",
    "pred = pd.DataFrame(pred)\n",
    "frame = [id_number, pred]\n",
    "result = pd.concat(frame, axis = 1)\n",
    "result.columns = ['Id','SalePrice']\n",
    "\n",
    "result.to_csv(r'\\Users\\carne\\Documents\\Djuwita_DSI\\Submissions\\project_2\\datasets\\result2.csv', index = False)"
   ]
  },
  {
   "cell_type": "code",
   "execution_count": 47,
   "metadata": {},
   "outputs": [
    {
     "data": {
      "image/png": "[encoded data removed]",
      "text/plain": [
       "<Figure size 2160x720 with 1 Axes>"
      ]
     },
     "metadata": {
      "needs_background": "light"
     },
     "output_type": "display_data"
    }
   ],
   "source": [
    "# A:\n",
    "\n",
    "# Plot between true price and the predicted price\n",
    "#\n",
    "y0 = [0,600_000] # this line represents an ideal prediction line\n",
    "y1 = [0, 600_000]\n",
    "\n",
    "f = plt.figure(figsize=(30,10))\n",
    "\n",
    "ax = f.add_subplot(121)\n",
    "ax.plot(y0, y1, 'k--', label='Perfect Prediction', color = 'red')\n",
    "ax.scatter(y_train,y_pred,\n",
    "            color = 'black')\n",
    "legend = ax.legend(loc='upper left', shadow=True, fontsize='x-large')\n",
    "\n",
    "plt.xlabel('True Price', fontsize = 20)\n",
    "plt.ylabel('Predicted Price', fontsize = 20)\n",
    "\n",
    "# Put a background color on the legend.\n",
    "legend.get_frame().set_facecolor('grey')\n",
    "\n",
    "# Create a title.\n",
    "plt.title('True Price vs Predicted Price', fontsize = 24);"
   ]
  },
  {
   "cell_type": "markdown",
   "metadata": {},
   "source": [
    "## Perform OSL"
   ]
  },
  {
   "cell_type": "code",
   "execution_count": 48,
   "metadata": {},
   "outputs": [
    {
     "data": {
      "text/html": [
       "<table class=\"simpletable\">\n",
       "<caption>OLS Regression Results</caption>\n",
       "<tr>\n",
       "  <th>Dep. Variable:</th>        <td>SalePrice</td>    <th>  R-squared:         </th> <td>   0.927</td> \n",
       "</tr>\n",
       "<tr>\n",
       "  <th>Model:</th>                   <td>OLS</td>       <th>  Adj. R-squared:    </th> <td>   0.918</td> \n",
       "</tr>\n",
       "<tr>\n",
       "  <th>Method:</th>             <td>Least Squares</td>  <th>  F-statistic:       </th> <td>   112.5</td> \n",
       "</tr>\n",
       "<tr>\n",
       "  <th>Date:</th>             <td>Mon, 18 May 2020</td> <th>  Prob (F-statistic):</th>  <td>  0.00</td>  \n",
       "</tr>\n",
       "<tr>\n",
       "  <th>Time:</th>                 <td>09:18:02</td>     <th>  Log-Likelihood:    </th> <td> -23343.</td> \n",
       "</tr>\n",
       "<tr>\n",
       "  <th>No. Observations:</th>      <td>  2049</td>      <th>  AIC:               </th> <td>4.710e+04</td>\n",
       "</tr>\n",
       "<tr>\n",
       "  <th>Df Residuals:</th>          <td>  1841</td>      <th>  BIC:               </th> <td>4.827e+04</td>\n",
       "</tr>\n",
       "<tr>\n",
       "  <th>Df Model:</th>              <td>   207</td>      <th>                     </th>     <td> </td>    \n",
       "</tr>\n",
       "<tr>\n",
       "  <th>Covariance Type:</th>      <td>nonrobust</td>    <th>                     </th>     <td> </td>    \n",
       "</tr>\n",
       "</table>\n",
       "<table class=\"simpletable\">\n",
       "<tr>\n",
       "            <td></td>              <th>coef</th>     <th>std err</th>      <th>t</th>      <th>P>|t|</th>  <th>[0.025</th>    <th>0.975]</th>  \n",
       "</tr>\n",
       "<tr>\n",
       "  <th>PID</th>                  <td> 2.197e-06</td> <td> 7.93e-06</td> <td>    0.277</td> <td> 0.782</td> <td>-1.34e-05</td> <td> 1.78e-05</td>\n",
       "</tr>\n",
       "<tr>\n",
       "  <th>Lot Area</th>             <td>    0.5395</td> <td>    0.120</td> <td>    4.508</td> <td> 0.000</td> <td>    0.305</td> <td>    0.774</td>\n",
       "</tr>\n",
       "<tr>\n",
       "  <th>Overall Qual</th>         <td> 8019.6102</td> <td>  798.318</td> <td>   10.046</td> <td> 0.000</td> <td> 6453.906</td> <td> 9585.314</td>\n",
       "</tr>\n",
       "<tr>\n",
       "  <th>Year Built</th>           <td>  138.1164</td> <td>   58.951</td> <td>    2.343</td> <td> 0.019</td> <td>   22.499</td> <td>  253.734</td>\n",
       "</tr>\n",
       "<tr>\n",
       "  <th>Year Remod/Add</th>       <td>  210.9711</td> <td>   43.193</td> <td>    4.884</td> <td> 0.000</td> <td>  126.259</td> <td>  295.683</td>\n",
       "</tr>\n",
       "<tr>\n",
       "  <th>Mas Vnr Area</th>         <td>   24.3094</td> <td>    4.961</td> <td>    4.900</td> <td> 0.000</td> <td>   14.580</td> <td>   34.038</td>\n",
       "</tr>\n",
       "<tr>\n",
       "  <th>BsmtFin SF 1</th>         <td>    1.1621</td> <td>    6.004</td> <td>    0.194</td> <td> 0.847</td> <td>  -10.613</td> <td>   12.937</td>\n",
       "</tr>\n",
       "<tr>\n",
       "  <th>Bsmt Unf SF</th>          <td>  -11.0678</td> <td>    6.077</td> <td>   -1.821</td> <td> 0.069</td> <td>  -22.987</td> <td>    0.851</td>\n",
       "</tr>\n",
       "<tr>\n",
       "  <th>Total Bsmt SF</th>        <td>   24.3973</td> <td>    6.567</td> <td>    3.715</td> <td> 0.000</td> <td>   11.517</td> <td>   37.277</td>\n",
       "</tr>\n",
       "<tr>\n",
       "  <th>1st Flr SF</th>           <td>   19.0247</td> <td>   12.587</td> <td>    1.511</td> <td> 0.131</td> <td>   -5.661</td> <td>   43.710</td>\n",
       "</tr>\n",
       "<tr>\n",
       "  <th>2nd Flr SF</th>           <td>   24.4855</td> <td>   11.911</td> <td>    2.056</td> <td> 0.040</td> <td>    1.125</td> <td>   47.846</td>\n",
       "</tr>\n",
       "<tr>\n",
       "  <th>Gr Liv Area</th>          <td>   25.5733</td> <td>   12.359</td> <td>    2.069</td> <td> 0.039</td> <td>    1.333</td> <td>   49.813</td>\n",
       "</tr>\n",
       "<tr>\n",
       "  <th>Bsmt Full Bath</th>       <td> 3741.2839</td> <td> 1478.813</td> <td>    2.530</td> <td> 0.011</td> <td>  840.957</td> <td> 6641.611</td>\n",
       "</tr>\n",
       "<tr>\n",
       "  <th>Full Bath</th>            <td> 3796.2900</td> <td> 1714.704</td> <td>    2.214</td> <td> 0.027</td> <td>  433.321</td> <td> 7159.259</td>\n",
       "</tr>\n",
       "<tr>\n",
       "  <th>Half Bath</th>            <td> 1782.8847</td> <td> 1635.561</td> <td>    1.090</td> <td> 0.276</td> <td>-1424.865</td> <td> 4990.634</td>\n",
       "</tr>\n",
       "<tr>\n",
       "  <th>Bedroom AbvGr</th>        <td>-3145.2582</td> <td> 1061.175</td> <td>   -2.964</td> <td> 0.003</td> <td>-5226.492</td> <td>-1064.025</td>\n",
       "</tr>\n",
       "<tr>\n",
       "  <th>Kitchen AbvGr</th>        <td>-1.264e+04</td> <td> 4920.375</td> <td>   -2.568</td> <td> 0.010</td> <td>-2.23e+04</td> <td>-2986.860</td>\n",
       "</tr>\n",
       "<tr>\n",
       "  <th>TotRms AbvGrd</th>        <td> 1462.1224</td> <td>  742.937</td> <td>    1.968</td> <td> 0.049</td> <td>    5.035</td> <td> 2919.210</td>\n",
       "</tr>\n",
       "<tr>\n",
       "  <th>Fireplaces</th>           <td> 3716.2988</td> <td> 1103.373</td> <td>    3.368</td> <td> 0.001</td> <td> 1552.304</td> <td> 5880.293</td>\n",
       "</tr>\n",
       "<tr>\n",
       "  <th>Garage Yr Blt</th>        <td>  -66.7907</td> <td>   45.205</td> <td>   -1.477</td> <td> 0.140</td> <td> -155.450</td> <td>   21.869</td>\n",
       "</tr>\n",
       "<tr>\n",
       "  <th>Garage Cars</th>          <td> 6490.1217</td> <td> 1868.229</td> <td>    3.474</td> <td> 0.001</td> <td> 2826.050</td> <td> 1.02e+04</td>\n",
       "</tr>\n",
       "<tr>\n",
       "  <th>Garage Area</th>          <td>    8.8154</td> <td>    6.551</td> <td>    1.346</td> <td> 0.179</td> <td>   -4.034</td> <td>   21.665</td>\n",
       "</tr>\n",
       "<tr>\n",
       "  <th>Wood Deck SF</th>         <td>   11.7195</td> <td>    4.679</td> <td>    2.505</td> <td> 0.012</td> <td>    2.544</td> <td>   20.896</td>\n",
       "</tr>\n",
       "<tr>\n",
       "  <th>Open Porch SF</th>        <td>    3.0531</td> <td>    9.155</td> <td>    0.333</td> <td> 0.739</td> <td>  -14.903</td> <td>   21.009</td>\n",
       "</tr>\n",
       "<tr>\n",
       "  <th>Enclosed Porch</th>       <td>    8.4884</td> <td>   10.194</td> <td>    0.833</td> <td> 0.405</td> <td>  -11.504</td> <td>   28.481</td>\n",
       "</tr>\n",
       "<tr>\n",
       "  <th>Screen Porch</th>         <td>   65.5539</td> <td>    9.773</td> <td>    6.707</td> <td> 0.000</td> <td>   46.386</td> <td>   84.722</td>\n",
       "</tr>\n",
       "<tr>\n",
       "  <th>Street_Grvl</th>          <td>-8.087e+04</td> <td> 1.52e+04</td> <td>   -5.325</td> <td> 0.000</td> <td>-1.11e+05</td> <td>-5.11e+04</td>\n",
       "</tr>\n",
       "<tr>\n",
       "  <th>Street_Pave</th>          <td>-7.437e+04</td> <td> 1.51e+04</td> <td>   -4.938</td> <td> 0.000</td> <td>-1.04e+05</td> <td>-4.48e+04</td>\n",
       "</tr>\n",
       "<tr>\n",
       "  <th>Lot Shape_IR1</th>        <td>-2.996e+04</td> <td> 7331.235</td> <td>   -4.086</td> <td> 0.000</td> <td>-4.43e+04</td> <td>-1.56e+04</td>\n",
       "</tr>\n",
       "<tr>\n",
       "  <th>Lot Shape_IR2</th>        <td>-2.845e+04</td> <td> 7850.159</td> <td>   -3.624</td> <td> 0.000</td> <td>-4.38e+04</td> <td>-1.31e+04</td>\n",
       "</tr>\n",
       "<tr>\n",
       "  <th>Lot Shape_IR3</th>        <td>-6.676e+04</td> <td> 9720.051</td> <td>   -6.868</td> <td> 0.000</td> <td>-8.58e+04</td> <td>-4.77e+04</td>\n",
       "</tr>\n",
       "<tr>\n",
       "  <th>Lot Shape_Reg</th>        <td>-3.007e+04</td> <td> 7355.283</td> <td>   -4.088</td> <td> 0.000</td> <td>-4.45e+04</td> <td>-1.56e+04</td>\n",
       "</tr>\n",
       "<tr>\n",
       "  <th>Land Contour_Bnk</th>     <td>-4.352e+04</td> <td> 7439.653</td> <td>   -5.850</td> <td> 0.000</td> <td>-5.81e+04</td> <td>-2.89e+04</td>\n",
       "</tr>\n",
       "<tr>\n",
       "  <th>Land Contour_HLS</th>     <td>-3.313e+04</td> <td> 7699.677</td> <td>   -4.303</td> <td> 0.000</td> <td>-4.82e+04</td> <td> -1.8e+04</td>\n",
       "</tr>\n",
       "<tr>\n",
       "  <th>Land Contour_Low</th>     <td> -3.85e+04</td> <td> 7884.166</td> <td>   -4.883</td> <td> 0.000</td> <td> -5.4e+04</td> <td> -2.3e+04</td>\n",
       "</tr>\n",
       "<tr>\n",
       "  <th>Land Contour_Lvl</th>     <td>-4.008e+04</td> <td> 7338.191</td> <td>   -5.462</td> <td> 0.000</td> <td>-5.45e+04</td> <td>-2.57e+04</td>\n",
       "</tr>\n",
       "<tr>\n",
       "  <th>Utilities_AllPub</th>     <td> 3.369e+04</td> <td> 2.46e+04</td> <td>    1.372</td> <td> 0.170</td> <td>-1.45e+04</td> <td> 8.19e+04</td>\n",
       "</tr>\n",
       "<tr>\n",
       "  <th>Utilities_NoSewr</th>     <td> 3.745e+04</td> <td> 3.65e+04</td> <td>    1.026</td> <td> 0.305</td> <td>-3.41e+04</td> <td> 1.09e+05</td>\n",
       "</tr>\n",
       "<tr>\n",
       "  <th>Lot Config_Corner</th>    <td>-2.998e+04</td> <td> 5971.923</td> <td>   -5.021</td> <td> 0.000</td> <td>-4.17e+04</td> <td>-1.83e+04</td>\n",
       "</tr>\n",
       "<tr>\n",
       "  <th>Lot Config_CulDSac</th>   <td>-2.365e+04</td> <td> 6243.871</td> <td>   -3.788</td> <td> 0.000</td> <td>-3.59e+04</td> <td>-1.14e+04</td>\n",
       "</tr>\n",
       "<tr>\n",
       "  <th>Lot Config_FR2</th>       <td>-3.246e+04</td> <td> 6437.502</td> <td>   -5.043</td> <td> 0.000</td> <td>-4.51e+04</td> <td>-1.98e+04</td>\n",
       "</tr>\n",
       "<tr>\n",
       "  <th>Lot Config_FR3</th>       <td>-3.951e+04</td> <td> 9050.486</td> <td>   -4.365</td> <td> 0.000</td> <td>-5.73e+04</td> <td>-2.18e+04</td>\n",
       "</tr>\n",
       "<tr>\n",
       "  <th>Lot Config_Inside</th>    <td>-2.963e+04</td> <td> 5967.955</td> <td>   -4.964</td> <td> 0.000</td> <td>-4.13e+04</td> <td>-1.79e+04</td>\n",
       "</tr>\n",
       "<tr>\n",
       "  <th>Land Slope_Gtl</th>       <td>-5.442e+04</td> <td> 1.02e+04</td> <td>   -5.349</td> <td> 0.000</td> <td>-7.44e+04</td> <td>-3.45e+04</td>\n",
       "</tr>\n",
       "<tr>\n",
       "  <th>Land Slope_Mod</th>       <td> -5.44e+04</td> <td> 1.02e+04</td> <td>   -5.324</td> <td> 0.000</td> <td>-7.44e+04</td> <td>-3.44e+04</td>\n",
       "</tr>\n",
       "<tr>\n",
       "  <th>Land Slope_Sev</th>       <td>-4.642e+04</td> <td>  1.1e+04</td> <td>   -4.213</td> <td> 0.000</td> <td> -6.8e+04</td> <td>-2.48e+04</td>\n",
       "</tr>\n",
       "<tr>\n",
       "  <th>Neighborhood_Blmngtn</th> <td>-6.686e+04</td> <td>  1.5e+04</td> <td>   -4.459</td> <td> 0.000</td> <td>-9.63e+04</td> <td>-3.75e+04</td>\n",
       "</tr>\n",
       "<tr>\n",
       "  <th>Neighborhood_Blueste</th> <td>-6.851e+04</td> <td> 1.67e+04</td> <td>   -4.095</td> <td> 0.000</td> <td>-1.01e+05</td> <td>-3.57e+04</td>\n",
       "</tr>\n",
       "<tr>\n",
       "  <th>Neighborhood_BrDale</th>  <td>-6.355e+04</td> <td> 1.53e+04</td> <td>   -4.164</td> <td> 0.000</td> <td>-9.35e+04</td> <td>-3.36e+04</td>\n",
       "</tr>\n",
       "<tr>\n",
       "  <th>Neighborhood_BrkSide</th> <td>-7.941e+04</td> <td> 1.44e+04</td> <td>   -5.533</td> <td> 0.000</td> <td>-1.08e+05</td> <td>-5.13e+04</td>\n",
       "</tr>\n",
       "<tr>\n",
       "  <th>Neighborhood_ClearCr</th> <td>-7.798e+04</td> <td> 1.47e+04</td> <td>   -5.305</td> <td> 0.000</td> <td>-1.07e+05</td> <td>-4.91e+04</td>\n",
       "</tr>\n",
       "<tr>\n",
       "  <th>Neighborhood_CollgCr</th> <td>-7.975e+04</td> <td> 1.39e+04</td> <td>   -5.750</td> <td> 0.000</td> <td>-1.07e+05</td> <td>-5.25e+04</td>\n",
       "</tr>\n",
       "<tr>\n",
       "  <th>Neighborhood_Crawfor</th> <td>-6.478e+04</td> <td> 1.42e+04</td> <td>   -4.575</td> <td> 0.000</td> <td>-9.26e+04</td> <td> -3.7e+04</td>\n",
       "</tr>\n",
       "<tr>\n",
       "  <th>Neighborhood_Edwards</th> <td>-8.763e+04</td> <td>  1.4e+04</td> <td>   -6.282</td> <td> 0.000</td> <td>-1.15e+05</td> <td>-6.03e+04</td>\n",
       "</tr>\n",
       "<tr>\n",
       "  <th>Neighborhood_Gilbert</th> <td> -8.14e+04</td> <td> 1.43e+04</td> <td>   -5.697</td> <td> 0.000</td> <td>-1.09e+05</td> <td>-5.34e+04</td>\n",
       "</tr>\n",
       "<tr>\n",
       "  <th>Neighborhood_Greens</th>  <td>-5.746e+04</td> <td> 1.98e+04</td> <td>   -2.909</td> <td> 0.004</td> <td>-9.62e+04</td> <td>-1.87e+04</td>\n",
       "</tr>\n",
       "<tr>\n",
       "  <th>Neighborhood_IDOTRR</th>  <td>-8.541e+04</td> <td> 1.44e+04</td> <td>   -5.941</td> <td> 0.000</td> <td>-1.14e+05</td> <td>-5.72e+04</td>\n",
       "</tr>\n",
       "<tr>\n",
       "  <th>Neighborhood_MeadowV</th> <td>-7.174e+04</td> <td>  1.5e+04</td> <td>   -4.797</td> <td> 0.000</td> <td>-1.01e+05</td> <td>-4.24e+04</td>\n",
       "</tr>\n",
       "<tr>\n",
       "  <th>Neighborhood_Mitchel</th> <td>-8.098e+04</td> <td>  1.4e+04</td> <td>   -5.778</td> <td> 0.000</td> <td>-1.08e+05</td> <td>-5.35e+04</td>\n",
       "</tr>\n",
       "<tr>\n",
       "  <th>Neighborhood_NAmes</th>   <td>-8.188e+04</td> <td> 1.43e+04</td> <td>   -5.745</td> <td> 0.000</td> <td> -1.1e+05</td> <td>-5.39e+04</td>\n",
       "</tr>\n",
       "<tr>\n",
       "  <th>Neighborhood_NPkVill</th> <td>-6.673e+04</td> <td> 1.95e+04</td> <td>   -3.416</td> <td> 0.001</td> <td>-1.05e+05</td> <td>-2.84e+04</td>\n",
       "</tr>\n",
       "<tr>\n",
       "  <th>Neighborhood_NWAmes</th>  <td>-8.304e+04</td> <td> 1.44e+04</td> <td>   -5.766</td> <td> 0.000</td> <td>-1.11e+05</td> <td>-5.48e+04</td>\n",
       "</tr>\n",
       "<tr>\n",
       "  <th>Neighborhood_NoRidge</th> <td>-4.802e+04</td> <td> 1.46e+04</td> <td>   -3.283</td> <td> 0.001</td> <td>-7.67e+04</td> <td>-1.93e+04</td>\n",
       "</tr>\n",
       "<tr>\n",
       "  <th>Neighborhood_NridgHt</th> <td>-4.853e+04</td> <td> 1.43e+04</td> <td>   -3.400</td> <td> 0.001</td> <td>-7.65e+04</td> <td>-2.05e+04</td>\n",
       "</tr>\n",
       "<tr>\n",
       "  <th>Neighborhood_OldTown</th> <td>-8.879e+04</td> <td> 1.42e+04</td> <td>   -6.258</td> <td> 0.000</td> <td>-1.17e+05</td> <td> -6.1e+04</td>\n",
       "</tr>\n",
       "<tr>\n",
       "  <th>Neighborhood_SWISU</th>   <td> -8.26e+04</td> <td> 1.47e+04</td> <td>   -5.618</td> <td> 0.000</td> <td>-1.11e+05</td> <td>-5.38e+04</td>\n",
       "</tr>\n",
       "<tr>\n",
       "  <th>Neighborhood_Sawyer</th>  <td> -7.87e+04</td> <td> 1.41e+04</td> <td>   -5.585</td> <td> 0.000</td> <td>-1.06e+05</td> <td>-5.11e+04</td>\n",
       "</tr>\n",
       "<tr>\n",
       "  <th>Neighborhood_SawyerW</th> <td> -8.03e+04</td> <td> 1.41e+04</td> <td>   -5.703</td> <td> 0.000</td> <td>-1.08e+05</td> <td>-5.27e+04</td>\n",
       "</tr>\n",
       "<tr>\n",
       "  <th>Neighborhood_Somerst</th> <td>-6.326e+04</td> <td> 1.42e+04</td> <td>   -4.461</td> <td> 0.000</td> <td>-9.11e+04</td> <td>-3.54e+04</td>\n",
       "</tr>\n",
       "<tr>\n",
       "  <th>Neighborhood_StoneBr</th> <td>-3.515e+04</td> <td> 1.46e+04</td> <td>   -2.402</td> <td> 0.016</td> <td>-6.39e+04</td> <td>-6454.097</td>\n",
       "</tr>\n",
       "<tr>\n",
       "  <th>Neighborhood_Timber</th>  <td>-7.753e+04</td> <td> 1.42e+04</td> <td>   -5.473</td> <td> 0.000</td> <td>-1.05e+05</td> <td>-4.97e+04</td>\n",
       "</tr>\n",
       "<tr>\n",
       "  <th>Neighborhood_Veenker</th> <td>-7.484e+04</td> <td> 1.54e+04</td> <td>   -4.863</td> <td> 0.000</td> <td>-1.05e+05</td> <td>-4.47e+04</td>\n",
       "</tr>\n",
       "<tr>\n",
       "  <th>Condition 1_Artery</th>   <td>-2.029e+04</td> <td> 4693.805</td> <td>   -4.322</td> <td> 0.000</td> <td>-2.95e+04</td> <td>-1.11e+04</td>\n",
       "</tr>\n",
       "<tr>\n",
       "  <th>Condition 1_Feedr</th>    <td>-1.853e+04</td> <td> 4385.320</td> <td>   -4.226</td> <td> 0.000</td> <td>-2.71e+04</td> <td>-9932.224</td>\n",
       "</tr>\n",
       "<tr>\n",
       "  <th>Condition 1_Norm</th>     <td>-1.083e+04</td> <td> 3992.865</td> <td>   -2.712</td> <td> 0.007</td> <td>-1.87e+04</td> <td>-2995.645</td>\n",
       "</tr>\n",
       "<tr>\n",
       "  <th>Condition 1_PosA</th>     <td>-3276.4637</td> <td> 7819.209</td> <td>   -0.419</td> <td> 0.675</td> <td>-1.86e+04</td> <td> 1.21e+04</td>\n",
       "</tr>\n",
       "<tr>\n",
       "  <th>Condition 1_PosN</th>     <td>-3011.0354</td> <td> 5852.791</td> <td>   -0.514</td> <td> 0.607</td> <td>-1.45e+04</td> <td> 8467.771</td>\n",
       "</tr>\n",
       "<tr>\n",
       "  <th>Condition 1_RRAe</th>     <td>-2.823e+04</td> <td> 6348.115</td> <td>   -4.447</td> <td> 0.000</td> <td>-4.07e+04</td> <td>-1.58e+04</td>\n",
       "</tr>\n",
       "<tr>\n",
       "  <th>Condition 1_RRAn</th>     <td>-1.593e+04</td> <td> 5487.453</td> <td>   -2.903</td> <td> 0.004</td> <td>-2.67e+04</td> <td>-5165.152</td>\n",
       "</tr>\n",
       "<tr>\n",
       "  <th>Condition 1_RRNe</th>     <td>-3.076e+04</td> <td> 1.33e+04</td> <td>   -2.318</td> <td> 0.021</td> <td>-5.68e+04</td> <td>-4729.491</td>\n",
       "</tr>\n",
       "<tr>\n",
       "  <th>Condition 1_RRNn</th>     <td>-2.438e+04</td> <td> 9574.201</td> <td>   -2.547</td> <td> 0.011</td> <td>-4.32e+04</td> <td>-5605.904</td>\n",
       "</tr>\n",
       "<tr>\n",
       "  <th>Condition 2_Feedr</th>    <td> 4757.4833</td> <td> 1.12e+04</td> <td>    0.424</td> <td> 0.672</td> <td>-1.73e+04</td> <td> 2.68e+04</td>\n",
       "</tr>\n",
       "<tr>\n",
       "  <th>Condition 2_Norm</th>     <td> 2559.3744</td> <td> 8549.026</td> <td>    0.299</td> <td> 0.765</td> <td>-1.42e+04</td> <td> 1.93e+04</td>\n",
       "</tr>\n",
       "<tr>\n",
       "  <th>Condition 2_PosA</th>     <td> 1.434e+04</td> <td> 1.75e+04</td> <td>    0.819</td> <td> 0.413</td> <td>   -2e+04</td> <td> 4.87e+04</td>\n",
       "</tr>\n",
       "<tr>\n",
       "  <th>Condition 2_PosN</th>     <td>-1.271e+04</td> <td> 1.67e+04</td> <td>   -0.760</td> <td> 0.448</td> <td>-4.55e+04</td> <td> 2.01e+04</td>\n",
       "</tr>\n",
       "<tr>\n",
       "  <th>Bldg Type_1Fam</th>       <td>-1.465e+04</td> <td> 5904.160</td> <td>   -2.482</td> <td> 0.013</td> <td>-2.62e+04</td> <td>-3072.075</td>\n",
       "</tr>\n",
       "<tr>\n",
       "  <th>Bldg Type_2fmCon</th>     <td>-2.273e+04</td> <td> 6651.096</td> <td>   -3.417</td> <td> 0.001</td> <td>-3.58e+04</td> <td>-9685.018</td>\n",
       "</tr>\n",
       "<tr>\n",
       "  <th>Bldg Type_Duplex</th>     <td>-2.701e+04</td> <td> 7128.122</td> <td>   -3.789</td> <td> 0.000</td> <td> -4.1e+04</td> <td> -1.3e+04</td>\n",
       "</tr>\n",
       "<tr>\n",
       "  <th>Bldg Type_Twnhs</th>      <td>-4.836e+04</td> <td> 6817.103</td> <td>   -7.094</td> <td> 0.000</td> <td>-6.17e+04</td> <td> -3.5e+04</td>\n",
       "</tr>\n",
       "<tr>\n",
       "  <th>Bldg Type_TwnhsE</th>     <td>-4.248e+04</td> <td> 6281.427</td> <td>   -6.763</td> <td> 0.000</td> <td>-5.48e+04</td> <td>-3.02e+04</td>\n",
       "</tr>\n",
       "<tr>\n",
       "  <th>House Style_1.5Fin</th>   <td>-2.019e+04</td> <td> 4283.600</td> <td>   -4.714</td> <td> 0.000</td> <td>-2.86e+04</td> <td>-1.18e+04</td>\n",
       "</tr>\n",
       "<tr>\n",
       "  <th>House Style_1.5Unf</th>   <td>-1.493e+04</td> <td> 7595.512</td> <td>   -1.966</td> <td> 0.049</td> <td>-2.98e+04</td> <td>  -33.536</td>\n",
       "</tr>\n",
       "<tr>\n",
       "  <th>House Style_1Story</th>   <td>-1.478e+04</td> <td> 4806.404</td> <td>   -3.076</td> <td> 0.002</td> <td>-2.42e+04</td> <td>-5357.657</td>\n",
       "</tr>\n",
       "<tr>\n",
       "  <th>House Style_2.5Fin</th>   <td>-2.346e+04</td> <td> 1.08e+04</td> <td>   -2.172</td> <td> 0.030</td> <td>-4.46e+04</td> <td>-2275.661</td>\n",
       "</tr>\n",
       "<tr>\n",
       "  <th>House Style_2.5Unf</th>   <td>-1.626e+04</td> <td> 7223.529</td> <td>   -2.251</td> <td> 0.024</td> <td>-3.04e+04</td> <td>-2094.719</td>\n",
       "</tr>\n",
       "<tr>\n",
       "  <th>House Style_2Story</th>   <td>-2.422e+04</td> <td> 4401.235</td> <td>   -5.504</td> <td> 0.000</td> <td>-3.29e+04</td> <td>-1.56e+04</td>\n",
       "</tr>\n",
       "<tr>\n",
       "  <th>House Style_SFoyer</th>   <td>-1.891e+04</td> <td> 5775.333</td> <td>   -3.274</td> <td> 0.001</td> <td>-3.02e+04</td> <td>-7580.170</td>\n",
       "</tr>\n",
       "<tr>\n",
       "  <th>House Style_SLvl</th>     <td>-2.248e+04</td> <td> 4987.782</td> <td>   -4.507</td> <td> 0.000</td> <td>-3.23e+04</td> <td>-1.27e+04</td>\n",
       "</tr>\n",
       "<tr>\n",
       "  <th>Roof Style_Flat</th>      <td>  2.82e+04</td> <td> 1.09e+04</td> <td>    2.585</td> <td> 0.010</td> <td> 6805.092</td> <td> 4.96e+04</td>\n",
       "</tr>\n",
       "<tr>\n",
       "  <th>Roof Style_Gable</th>     <td>-2.494e+04</td> <td> 6189.218</td> <td>   -4.029</td> <td> 0.000</td> <td>-3.71e+04</td> <td>-1.28e+04</td>\n",
       "</tr>\n",
       "<tr>\n",
       "  <th>Roof Style_Gambrel</th>   <td>-2.884e+04</td> <td> 8318.529</td> <td>   -3.467</td> <td> 0.001</td> <td>-4.52e+04</td> <td>-1.25e+04</td>\n",
       "</tr>\n",
       "<tr>\n",
       "  <th>Roof Style_Hip</th>       <td>  -2.4e+04</td> <td> 6262.920</td> <td>   -3.831</td> <td> 0.000</td> <td>-3.63e+04</td> <td>-1.17e+04</td>\n",
       "</tr>\n",
       "<tr>\n",
       "  <th>Roof Style_Mansard</th>   <td>-6.051e+04</td> <td> 1.03e+04</td> <td>   -5.879</td> <td> 0.000</td> <td>-8.07e+04</td> <td>-4.03e+04</td>\n",
       "</tr>\n",
       "<tr>\n",
       "  <th>Roof Style_Shed</th>      <td>-4.515e+04</td> <td> 1.41e+04</td> <td>   -3.207</td> <td> 0.001</td> <td>-7.28e+04</td> <td>-1.75e+04</td>\n",
       "</tr>\n",
       "<tr>\n",
       "  <th>Roof Matl_CompShg</th>    <td> 2.738e+05</td> <td> 2.04e+04</td> <td>   13.446</td> <td> 0.000</td> <td> 2.34e+05</td> <td> 3.14e+05</td>\n",
       "</tr>\n",
       "<tr>\n",
       "  <th>Roof Matl_Tar&Grv</th>    <td> 2.287e+05</td> <td> 2.03e+04</td> <td>   11.240</td> <td> 0.000</td> <td> 1.89e+05</td> <td> 2.69e+05</td>\n",
       "</tr>\n",
       "<tr>\n",
       "  <th>Roof Matl_WdShake</th>    <td> 2.901e+05</td> <td> 2.43e+04</td> <td>   11.919</td> <td> 0.000</td> <td> 2.42e+05</td> <td> 3.38e+05</td>\n",
       "</tr>\n",
       "<tr>\n",
       "  <th>Roof Matl_WdShngl</th>    <td> 3.166e+05</td> <td> 2.31e+04</td> <td>   13.728</td> <td> 0.000</td> <td> 2.71e+05</td> <td> 3.62e+05</td>\n",
       "</tr>\n",
       "<tr>\n",
       "  <th>Exterior 1st_AsbShng</th> <td> 1.758e+04</td> <td> 1.55e+04</td> <td>    1.137</td> <td> 0.256</td> <td>-1.27e+04</td> <td> 4.79e+04</td>\n",
       "</tr>\n",
       "<tr>\n",
       "  <th>Exterior 1st_AsphShn</th> <td>-8299.8758</td> <td>  3.3e+04</td> <td>   -0.251</td> <td> 0.802</td> <td>-7.31e+04</td> <td> 5.65e+04</td>\n",
       "</tr>\n",
       "<tr>\n",
       "  <th>Exterior 1st_BrkComm</th> <td>-1.837e+04</td> <td> 2.45e+04</td> <td>   -0.749</td> <td> 0.454</td> <td>-6.65e+04</td> <td> 2.97e+04</td>\n",
       "</tr>\n",
       "<tr>\n",
       "  <th>Exterior 1st_BrkFace</th> <td> 3.047e+04</td> <td> 1.37e+04</td> <td>    2.226</td> <td> 0.026</td> <td> 3623.578</td> <td> 5.73e+04</td>\n",
       "</tr>\n",
       "<tr>\n",
       "  <th>Exterior 1st_CemntBd</th> <td> 3.581e+04</td> <td> 2.23e+04</td> <td>    1.608</td> <td> 0.108</td> <td>-7870.063</td> <td> 7.95e+04</td>\n",
       "</tr>\n",
       "<tr>\n",
       "  <th>Exterior 1st_HdBoard</th> <td> 8618.8501</td> <td> 1.35e+04</td> <td>    0.641</td> <td> 0.522</td> <td>-1.78e+04</td> <td>  3.5e+04</td>\n",
       "</tr>\n",
       "<tr>\n",
       "  <th>Exterior 1st_MetalSd</th> <td> 1.367e+04</td> <td>  1.5e+04</td> <td>    0.911</td> <td> 0.363</td> <td>-1.58e+04</td> <td> 4.31e+04</td>\n",
       "</tr>\n",
       "<tr>\n",
       "  <th>Exterior 1st_Plywood</th> <td> 1.222e+04</td> <td> 1.36e+04</td> <td>    0.901</td> <td> 0.368</td> <td>-1.44e+04</td> <td> 3.88e+04</td>\n",
       "</tr>\n",
       "<tr>\n",
       "  <th>Exterior 1st_Stucco</th>  <td> 5632.9003</td> <td> 1.46e+04</td> <td>    0.385</td> <td> 0.700</td> <td>-2.31e+04</td> <td> 3.43e+04</td>\n",
       "</tr>\n",
       "<tr>\n",
       "  <th>Exterior 1st_VinylSd</th> <td> 5892.6510</td> <td> 1.37e+04</td> <td>    0.429</td> <td> 0.668</td> <td> -2.1e+04</td> <td> 3.28e+04</td>\n",
       "</tr>\n",
       "<tr>\n",
       "  <th>Exterior 1st_Wd Sdng</th> <td> 3626.8286</td> <td> 1.35e+04</td> <td>    0.268</td> <td> 0.789</td> <td>-2.29e+04</td> <td> 3.02e+04</td>\n",
       "</tr>\n",
       "<tr>\n",
       "  <th>Exterior 1st_WdShing</th> <td> 9951.7982</td> <td> 1.38e+04</td> <td>    0.720</td> <td> 0.472</td> <td>-1.72e+04</td> <td> 3.71e+04</td>\n",
       "</tr>\n",
       "<tr>\n",
       "  <th>Exterior 2nd_AsbShng</th> <td> 1503.0594</td> <td>  1.4e+04</td> <td>    0.107</td> <td> 0.915</td> <td> -2.6e+04</td> <td>  2.9e+04</td>\n",
       "</tr>\n",
       "<tr>\n",
       "  <th>Exterior 2nd_AsphShn</th> <td> 3.897e+04</td> <td>  2.1e+04</td> <td>    1.860</td> <td> 0.063</td> <td>-2131.305</td> <td> 8.01e+04</td>\n",
       "</tr>\n",
       "<tr>\n",
       "  <th>Exterior 2nd_Brk Cmn</th> <td> 2.228e+04</td> <td> 1.89e+04</td> <td>    1.176</td> <td> 0.240</td> <td>-1.49e+04</td> <td> 5.94e+04</td>\n",
       "</tr>\n",
       "<tr>\n",
       "  <th>Exterior 2nd_BrkFace</th> <td> 3066.2322</td> <td> 1.17e+04</td> <td>    0.263</td> <td> 0.793</td> <td>-1.98e+04</td> <td> 2.59e+04</td>\n",
       "</tr>\n",
       "<tr>\n",
       "  <th>Exterior 2nd_CBlock</th>  <td> 1.933e+04</td> <td> 2.86e+04</td> <td>    0.677</td> <td> 0.499</td> <td>-3.67e+04</td> <td> 7.53e+04</td>\n",
       "</tr>\n",
       "<tr>\n",
       "  <th>Exterior 2nd_CmentBd</th> <td>-8440.4115</td> <td>  2.1e+04</td> <td>   -0.402</td> <td> 0.687</td> <td>-4.96e+04</td> <td> 3.27e+04</td>\n",
       "</tr>\n",
       "<tr>\n",
       "  <th>Exterior 2nd_HdBoard</th> <td> 1.199e+04</td> <td> 1.16e+04</td> <td>    1.030</td> <td> 0.303</td> <td>-1.08e+04</td> <td> 3.48e+04</td>\n",
       "</tr>\n",
       "<tr>\n",
       "  <th>Exterior 2nd_ImStucc</th> <td> 5949.9631</td> <td> 1.31e+04</td> <td>    0.453</td> <td> 0.651</td> <td>-1.98e+04</td> <td> 3.17e+04</td>\n",
       "</tr>\n",
       "<tr>\n",
       "  <th>Exterior 2nd_MetalSd</th> <td> 1.239e+04</td> <td> 1.29e+04</td> <td>    0.957</td> <td> 0.339</td> <td> -1.3e+04</td> <td> 3.78e+04</td>\n",
       "</tr>\n",
       "<tr>\n",
       "  <th>Exterior 2nd_Plywood</th> <td> 1.138e+04</td> <td> 1.15e+04</td> <td>    0.986</td> <td> 0.324</td> <td>-1.13e+04</td> <td>  3.4e+04</td>\n",
       "</tr>\n",
       "<tr>\n",
       "  <th>Exterior 2nd_Stucco</th>  <td> 8303.8029</td> <td> 1.21e+04</td> <td>    0.684</td> <td> 0.494</td> <td>-1.55e+04</td> <td> 3.21e+04</td>\n",
       "</tr>\n",
       "<tr>\n",
       "  <th>Exterior 2nd_VinylSd</th> <td> 1.928e+04</td> <td> 1.22e+04</td> <td>    1.578</td> <td> 0.115</td> <td>-4683.325</td> <td> 4.33e+04</td>\n",
       "</tr>\n",
       "<tr>\n",
       "  <th>Exterior 2nd_Wd Sdng</th> <td> 1.817e+04</td> <td> 1.13e+04</td> <td>    1.610</td> <td> 0.108</td> <td>-3959.993</td> <td> 4.03e+04</td>\n",
       "</tr>\n",
       "<tr>\n",
       "  <th>Exterior 2nd_Wd Shng</th> <td> 1.174e+04</td> <td> 1.17e+04</td> <td>    1.001</td> <td> 0.317</td> <td>-1.12e+04</td> <td> 3.47e+04</td>\n",
       "</tr>\n",
       "<tr>\n",
       "  <th>Mas Vnr Type_BrkCmn</th>  <td>-5.084e+04</td> <td> 8924.726</td> <td>   -5.697</td> <td> 0.000</td> <td>-6.83e+04</td> <td>-3.33e+04</td>\n",
       "</tr>\n",
       "<tr>\n",
       "  <th>Mas Vnr Type_BrkFace</th> <td>-3.762e+04</td> <td> 7340.747</td> <td>   -5.125</td> <td> 0.000</td> <td> -5.2e+04</td> <td>-2.32e+04</td>\n",
       "</tr>\n",
       "<tr>\n",
       "  <th>Mas Vnr Type_None</th>    <td>-3.371e+04</td> <td> 7270.496</td> <td>   -4.637</td> <td> 0.000</td> <td> -4.8e+04</td> <td>-1.95e+04</td>\n",
       "</tr>\n",
       "<tr>\n",
       "  <th>Mas Vnr Type_Stone</th>   <td>-3.305e+04</td> <td> 7453.395</td> <td>   -4.435</td> <td> 0.000</td> <td>-4.77e+04</td> <td>-1.84e+04</td>\n",
       "</tr>\n",
       "<tr>\n",
       "  <th>Exter Qual_Ex</th>        <td>-2.039e+04</td> <td> 7927.547</td> <td>   -2.572</td> <td> 0.010</td> <td>-3.59e+04</td> <td>-4838.179</td>\n",
       "</tr>\n",
       "<tr>\n",
       "  <th>Exter Qual_Fa</th>        <td>-4.222e+04</td> <td> 8611.325</td> <td>   -4.903</td> <td> 0.000</td> <td>-5.91e+04</td> <td>-2.53e+04</td>\n",
       "</tr>\n",
       "<tr>\n",
       "  <th>Exter Qual_Gd</th>        <td>-4.445e+04</td> <td> 7437.043</td> <td>   -5.977</td> <td> 0.000</td> <td> -5.9e+04</td> <td>-2.99e+04</td>\n",
       "</tr>\n",
       "<tr>\n",
       "  <th>Exter Qual_TA</th>        <td>-4.818e+04</td> <td> 7242.445</td> <td>   -6.652</td> <td> 0.000</td> <td>-6.24e+04</td> <td> -3.4e+04</td>\n",
       "</tr>\n",
       "<tr>\n",
       "  <th>Exter Cond_Ex</th>        <td>-2.532e+04</td> <td> 1.04e+04</td> <td>   -2.435</td> <td> 0.015</td> <td>-4.57e+04</td> <td>-4923.094</td>\n",
       "</tr>\n",
       "<tr>\n",
       "  <th>Exter Cond_Fa</th>        <td>-3.555e+04</td> <td> 7824.357</td> <td>   -4.544</td> <td> 0.000</td> <td>-5.09e+04</td> <td>-2.02e+04</td>\n",
       "</tr>\n",
       "<tr>\n",
       "  <th>Exter Cond_Gd</th>        <td>-2.982e+04</td> <td> 7498.317</td> <td>   -3.977</td> <td> 0.000</td> <td>-4.45e+04</td> <td>-1.51e+04</td>\n",
       "</tr>\n",
       "<tr>\n",
       "  <th>Exter Cond_Po</th>        <td>-3.416e+04</td> <td> 1.75e+04</td> <td>   -1.952</td> <td> 0.051</td> <td>-6.85e+04</td> <td>  154.703</td>\n",
       "</tr>\n",
       "<tr>\n",
       "  <th>Exter Cond_TA</th>        <td>-3.038e+04</td> <td> 7415.743</td> <td>   -4.097</td> <td> 0.000</td> <td>-4.49e+04</td> <td>-1.58e+04</td>\n",
       "</tr>\n",
       "<tr>\n",
       "  <th>Foundation_BrkTil</th>    <td>-3.026e+04</td> <td> 5925.710</td> <td>   -5.106</td> <td> 0.000</td> <td>-4.19e+04</td> <td>-1.86e+04</td>\n",
       "</tr>\n",
       "<tr>\n",
       "  <th>Foundation_CBlock</th>    <td>-2.766e+04</td> <td> 5879.972</td> <td>   -4.703</td> <td> 0.000</td> <td>-3.92e+04</td> <td>-1.61e+04</td>\n",
       "</tr>\n",
       "<tr>\n",
       "  <th>Foundation_PConc</th>     <td>-2.509e+04</td> <td> 6176.285</td> <td>   -4.062</td> <td> 0.000</td> <td>-3.72e+04</td> <td> -1.3e+04</td>\n",
       "</tr>\n",
       "<tr>\n",
       "  <th>Foundation_Slab</th>      <td>-2.688e+04</td> <td> 8403.527</td> <td>   -3.199</td> <td> 0.001</td> <td>-4.34e+04</td> <td>-1.04e+04</td>\n",
       "</tr>\n",
       "<tr>\n",
       "  <th>Foundation_Stone</th>     <td>-2.778e+04</td> <td> 1.13e+04</td> <td>   -2.464</td> <td> 0.014</td> <td>-4.99e+04</td> <td>-5672.905</td>\n",
       "</tr>\n",
       "<tr>\n",
       "  <th>Foundation_Wood</th>      <td>-1.757e+04</td> <td> 1.52e+04</td> <td>   -1.155</td> <td> 0.248</td> <td>-4.74e+04</td> <td> 1.23e+04</td>\n",
       "</tr>\n",
       "<tr>\n",
       "  <th>Bsmt Qual_Ex</th>         <td>-2.315e+04</td> <td> 8593.808</td> <td>   -2.694</td> <td> 0.007</td> <td>   -4e+04</td> <td>-6293.994</td>\n",
       "</tr>\n",
       "<tr>\n",
       "  <th>Bsmt Qual_Fa</th>         <td>-3.258e+04</td> <td> 8035.019</td> <td>   -4.054</td> <td> 0.000</td> <td>-4.83e+04</td> <td>-1.68e+04</td>\n",
       "</tr>\n",
       "<tr>\n",
       "  <th>Bsmt Qual_Gd</th>         <td>-3.808e+04</td> <td> 8286.112</td> <td>   -4.596</td> <td> 0.000</td> <td>-5.43e+04</td> <td>-2.18e+04</td>\n",
       "</tr>\n",
       "<tr>\n",
       "  <th>Bsmt Qual_Po</th>         <td>-2.699e+04</td> <td> 2.21e+04</td> <td>   -1.222</td> <td> 0.222</td> <td>-7.03e+04</td> <td> 1.63e+04</td>\n",
       "</tr>\n",
       "<tr>\n",
       "  <th>Bsmt Qual_TA</th>         <td>-3.444e+04</td> <td> 7920.420</td> <td>   -4.348</td> <td> 0.000</td> <td>   -5e+04</td> <td>-1.89e+04</td>\n",
       "</tr>\n",
       "<tr>\n",
       "  <th>Bsmt Cond_Fa</th>         <td>-7448.8730</td> <td> 9191.393</td> <td>   -0.810</td> <td> 0.418</td> <td>-2.55e+04</td> <td> 1.06e+04</td>\n",
       "</tr>\n",
       "<tr>\n",
       "  <th>Bsmt Cond_Gd</th>         <td> -571.2951</td> <td> 9102.349</td> <td>   -0.063</td> <td> 0.950</td> <td>-1.84e+04</td> <td> 1.73e+04</td>\n",
       "</tr>\n",
       "<tr>\n",
       "  <th>Bsmt Cond_TA</th>         <td>-1823.2057</td> <td> 8754.124</td> <td>   -0.208</td> <td> 0.835</td> <td> -1.9e+04</td> <td> 1.53e+04</td>\n",
       "</tr>\n",
       "<tr>\n",
       "  <th>Bsmt Exposure_Av</th>     <td>-3.948e+04</td> <td> 7245.517</td> <td>   -5.449</td> <td> 0.000</td> <td>-5.37e+04</td> <td>-2.53e+04</td>\n",
       "</tr>\n",
       "<tr>\n",
       "  <th>Bsmt Exposure_Gd</th>     <td>-2.703e+04</td> <td> 7355.985</td> <td>   -3.675</td> <td> 0.000</td> <td>-4.15e+04</td> <td>-1.26e+04</td>\n",
       "</tr>\n",
       "<tr>\n",
       "  <th>Bsmt Exposure_Mn</th>     <td>-4.455e+04</td> <td> 7234.059</td> <td>   -6.158</td> <td> 0.000</td> <td>-5.87e+04</td> <td>-3.04e+04</td>\n",
       "</tr>\n",
       "<tr>\n",
       "  <th>Bsmt Exposure_No</th>     <td>-4.417e+04</td> <td> 7156.998</td> <td>   -6.172</td> <td> 0.000</td> <td>-5.82e+04</td> <td>-3.01e+04</td>\n",
       "</tr>\n",
       "<tr>\n",
       "  <th>BsmtFin Type 1_ALQ</th>   <td>-2.436e+04</td> <td> 5020.031</td> <td>   -4.853</td> <td> 0.000</td> <td>-3.42e+04</td> <td>-1.45e+04</td>\n",
       "</tr>\n",
       "<tr>\n",
       "  <th>BsmtFin Type 1_BLQ</th>   <td>  -2.6e+04</td> <td> 5000.299</td> <td>   -5.200</td> <td> 0.000</td> <td>-3.58e+04</td> <td>-1.62e+04</td>\n",
       "</tr>\n",
       "<tr>\n",
       "  <th>BsmtFin Type 1_GLQ</th>   <td>-2.155e+04</td> <td> 5048.134</td> <td>   -4.268</td> <td> 0.000</td> <td>-3.14e+04</td> <td>-1.16e+04</td>\n",
       "</tr>\n",
       "<tr>\n",
       "  <th>BsmtFin Type 1_LwQ</th>   <td>-2.905e+04</td> <td> 5153.415</td> <td>   -5.637</td> <td> 0.000</td> <td>-3.92e+04</td> <td>-1.89e+04</td>\n",
       "</tr>\n",
       "<tr>\n",
       "  <th>BsmtFin Type 1_Rec</th>   <td>-2.801e+04</td> <td> 5011.968</td> <td>   -5.588</td> <td> 0.000</td> <td>-3.78e+04</td> <td>-1.82e+04</td>\n",
       "</tr>\n",
       "<tr>\n",
       "  <th>BsmtFin Type 1_Unf</th>   <td>-2.627e+04</td> <td> 4944.160</td> <td>   -5.313</td> <td> 0.000</td> <td> -3.6e+04</td> <td>-1.66e+04</td>\n",
       "</tr>\n",
       "<tr>\n",
       "  <th>BsmtFin Type 2_ALQ</th>   <td>  306.0334</td> <td> 1.12e+04</td> <td>    0.027</td> <td> 0.978</td> <td>-2.17e+04</td> <td> 2.23e+04</td>\n",
       "</tr>\n",
       "<tr>\n",
       "  <th>BsmtFin Type 2_BLQ</th>   <td>-5413.2190</td> <td> 1.08e+04</td> <td>   -0.501</td> <td> 0.617</td> <td>-2.66e+04</td> <td> 1.58e+04</td>\n",
       "</tr>\n",
       "<tr>\n",
       "  <th>BsmtFin Type 2_GLQ</th>   <td> 1.816e+04</td> <td>  1.2e+04</td> <td>    1.515</td> <td> 0.130</td> <td>-5340.237</td> <td> 4.17e+04</td>\n",
       "</tr>\n",
       "<tr>\n",
       "  <th>BsmtFin Type 2_LwQ</th>   <td>-5956.0873</td> <td> 1.07e+04</td> <td>   -0.555</td> <td> 0.579</td> <td> -2.7e+04</td> <td> 1.51e+04</td>\n",
       "</tr>\n",
       "<tr>\n",
       "  <th>BsmtFin Type 2_Rec</th>   <td>-3775.8637</td> <td> 1.06e+04</td> <td>   -0.358</td> <td> 0.721</td> <td>-2.45e+04</td> <td> 1.69e+04</td>\n",
       "</tr>\n",
       "<tr>\n",
       "  <th>BsmtFin Type 2_Unf</th>   <td> -673.2935</td> <td> 1.02e+04</td> <td>   -0.066</td> <td> 0.947</td> <td>-2.07e+04</td> <td> 1.93e+04</td>\n",
       "</tr>\n",
       "<tr>\n",
       "  <th>Heating_GasA</th>         <td> 8148.9472</td> <td> 1.02e+04</td> <td>    0.801</td> <td> 0.423</td> <td>-1.18e+04</td> <td> 2.81e+04</td>\n",
       "</tr>\n",
       "<tr>\n",
       "  <th>Heating_GasW</th>         <td> 5589.6261</td> <td> 1.15e+04</td> <td>    0.488</td> <td> 0.625</td> <td>-1.69e+04</td> <td>  2.8e+04</td>\n",
       "</tr>\n",
       "<tr>\n",
       "  <th>Heating_Grav</th>         <td>-9172.1922</td> <td> 1.49e+04</td> <td>   -0.616</td> <td> 0.538</td> <td>-3.84e+04</td> <td> 2.01e+04</td>\n",
       "</tr>\n",
       "<tr>\n",
       "  <th>Heating QC_Ex</th>        <td> 1.398e+04</td> <td> 1.65e+04</td> <td>    0.850</td> <td> 0.396</td> <td>-1.83e+04</td> <td> 4.62e+04</td>\n",
       "</tr>\n",
       "<tr>\n",
       "  <th>Heating QC_Fa</th>        <td> 1.084e+04</td> <td> 1.66e+04</td> <td>    0.655</td> <td> 0.513</td> <td>-2.16e+04</td> <td> 4.33e+04</td>\n",
       "</tr>\n",
       "<tr>\n",
       "  <th>Heating QC_Gd</th>        <td> 1.278e+04</td> <td> 1.65e+04</td> <td>    0.775</td> <td> 0.438</td> <td>-1.96e+04</td> <td> 4.51e+04</td>\n",
       "</tr>\n",
       "<tr>\n",
       "  <th>Heating QC_TA</th>        <td> 8486.2581</td> <td> 1.65e+04</td> <td>    0.515</td> <td> 0.606</td> <td>-2.38e+04</td> <td> 4.08e+04</td>\n",
       "</tr>\n",
       "<tr>\n",
       "  <th>Central Air_N</th>        <td> -7.76e+04</td> <td> 1.43e+04</td> <td>   -5.442</td> <td> 0.000</td> <td>-1.06e+05</td> <td>-4.96e+04</td>\n",
       "</tr>\n",
       "<tr>\n",
       "  <th>Central Air_Y</th>        <td>-7.763e+04</td> <td> 1.43e+04</td> <td>   -5.429</td> <td> 0.000</td> <td>-1.06e+05</td> <td>-4.96e+04</td>\n",
       "</tr>\n",
       "<tr>\n",
       "  <th>Electrical_FuseA</th>     <td>-1.744e+04</td> <td> 3.59e+04</td> <td>   -0.486</td> <td> 0.627</td> <td>-8.78e+04</td> <td> 5.29e+04</td>\n",
       "</tr>\n",
       "<tr>\n",
       "  <th>Electrical_FuseF</th>     <td>-1.558e+04</td> <td> 3.63e+04</td> <td>   -0.429</td> <td> 0.668</td> <td>-8.67e+04</td> <td> 5.56e+04</td>\n",
       "</tr>\n",
       "<tr>\n",
       "  <th>Electrical_FuseP</th>     <td>-1.511e+04</td> <td> 3.72e+04</td> <td>   -0.406</td> <td> 0.685</td> <td>-8.81e+04</td> <td> 5.79e+04</td>\n",
       "</tr>\n",
       "<tr>\n",
       "  <th>Electrical_SBrkr</th>     <td>-1.771e+04</td> <td> 3.59e+04</td> <td>   -0.493</td> <td> 0.622</td> <td>-8.82e+04</td> <td> 5.28e+04</td>\n",
       "</tr>\n",
       "<tr>\n",
       "  <th>Kitchen Qual_Ex</th>      <td>-2.023e+04</td> <td> 7724.184</td> <td>   -2.619</td> <td> 0.009</td> <td>-3.54e+04</td> <td>-5078.572</td>\n",
       "</tr>\n",
       "<tr>\n",
       "  <th>Kitchen Qual_Fa</th>      <td> -4.81e+04</td> <td> 7518.828</td> <td>   -6.397</td> <td> 0.000</td> <td>-6.28e+04</td> <td>-3.34e+04</td>\n",
       "</tr>\n",
       "<tr>\n",
       "  <th>Kitchen Qual_Gd</th>      <td>-4.303e+04</td> <td> 7403.711</td> <td>   -5.812</td> <td> 0.000</td> <td>-5.76e+04</td> <td>-2.85e+04</td>\n",
       "</tr>\n",
       "<tr>\n",
       "  <th>Kitchen Qual_TA</th>      <td>-4.387e+04</td> <td> 7168.886</td> <td>   -6.120</td> <td> 0.000</td> <td>-5.79e+04</td> <td>-2.98e+04</td>\n",
       "</tr>\n",
       "<tr>\n",
       "  <th>Functional_Maj1</th>      <td> 2.129e+04</td> <td> 1.54e+04</td> <td>    1.383</td> <td> 0.167</td> <td>-8900.304</td> <td> 5.15e+04</td>\n",
       "</tr>\n",
       "<tr>\n",
       "  <th>Functional_Maj2</th>      <td> 3.287e+04</td> <td> 1.71e+04</td> <td>    1.926</td> <td> 0.054</td> <td> -604.071</td> <td> 6.63e+04</td>\n",
       "</tr>\n",
       "<tr>\n",
       "  <th>Functional_Min1</th>      <td> 4.049e+04</td> <td> 1.41e+04</td> <td>    2.864</td> <td> 0.004</td> <td> 1.28e+04</td> <td> 6.82e+04</td>\n",
       "</tr>\n",
       "<tr>\n",
       "  <th>Functional_Min2</th>      <td> 4.231e+04</td> <td> 1.42e+04</td> <td>    2.984</td> <td> 0.003</td> <td> 1.45e+04</td> <td> 7.01e+04</td>\n",
       "</tr>\n",
       "<tr>\n",
       "  <th>Functional_Mod</th>       <td> 3.858e+04</td> <td> 1.41e+04</td> <td>    2.728</td> <td> 0.006</td> <td> 1.08e+04</td> <td> 6.63e+04</td>\n",
       "</tr>\n",
       "<tr>\n",
       "  <th>Functional_Typ</th>       <td> 5.065e+04</td> <td> 1.36e+04</td> <td>    3.718</td> <td> 0.000</td> <td> 2.39e+04</td> <td> 7.74e+04</td>\n",
       "</tr>\n",
       "<tr>\n",
       "  <th>Garage Type_2Types</th>   <td>-3.302e+04</td> <td> 6753.955</td> <td>   -4.890</td> <td> 0.000</td> <td>-4.63e+04</td> <td>-1.98e+04</td>\n",
       "</tr>\n",
       "<tr>\n",
       "  <th>Garage Type_Attchd</th>   <td>-2.391e+04</td> <td> 5250.955</td> <td>   -4.554</td> <td> 0.000</td> <td>-3.42e+04</td> <td>-1.36e+04</td>\n",
       "</tr>\n",
       "<tr>\n",
       "  <th>Garage Type_Basment</th>  <td>-2.685e+04</td> <td> 6494.626</td> <td>   -4.134</td> <td> 0.000</td> <td>-3.96e+04</td> <td>-1.41e+04</td>\n",
       "</tr>\n",
       "<tr>\n",
       "  <th>Garage Type_BuiltIn</th>  <td>-2.129e+04</td> <td> 5751.072</td> <td>   -3.701</td> <td> 0.000</td> <td>-3.26e+04</td> <td>   -1e+04</td>\n",
       "</tr>\n",
       "<tr>\n",
       "  <th>Garage Type_CarPort</th>  <td> -2.77e+04</td> <td> 7965.403</td> <td>   -3.478</td> <td> 0.001</td> <td>-4.33e+04</td> <td>-1.21e+04</td>\n",
       "</tr>\n",
       "<tr>\n",
       "  <th>Garage Type_Detchd</th>   <td>-2.246e+04</td> <td> 5281.427</td> <td>   -4.253</td> <td> 0.000</td> <td>-3.28e+04</td> <td>-1.21e+04</td>\n",
       "</tr>\n",
       "<tr>\n",
       "  <th>Garage Finish_Fin</th>    <td>-5.157e+04</td> <td> 9609.928</td> <td>   -5.366</td> <td> 0.000</td> <td>-7.04e+04</td> <td>-3.27e+04</td>\n",
       "</tr>\n",
       "<tr>\n",
       "  <th>Garage Finish_RFn</th>    <td>-5.333e+04</td> <td> 9503.940</td> <td>   -5.612</td> <td> 0.000</td> <td> -7.2e+04</td> <td>-3.47e+04</td>\n",
       "</tr>\n",
       "<tr>\n",
       "  <th>Garage Finish_Unf</th>    <td>-5.033e+04</td> <td> 9472.288</td> <td>   -5.314</td> <td> 0.000</td> <td>-6.89e+04</td> <td>-3.18e+04</td>\n",
       "</tr>\n",
       "<tr>\n",
       "  <th>Garage Qual_Fa</th>       <td> -1.09e+04</td> <td> 5029.204</td> <td>   -2.167</td> <td> 0.030</td> <td>-2.08e+04</td> <td>-1034.435</td>\n",
       "</tr>\n",
       "<tr>\n",
       "  <th>Garage Qual_Gd</th>       <td>   1.5e+04</td> <td> 7536.083</td> <td>    1.990</td> <td> 0.047</td> <td>  216.950</td> <td> 2.98e+04</td>\n",
       "</tr>\n",
       "<tr>\n",
       "  <th>Garage Qual_Po</th>       <td>-5.094e+04</td> <td> 2.58e+04</td> <td>   -1.973</td> <td> 0.049</td> <td>-1.02e+05</td> <td> -300.861</td>\n",
       "</tr>\n",
       "<tr>\n",
       "  <th>Garage Qual_TA</th>       <td>-1.071e+04</td> <td> 3843.349</td> <td>   -2.786</td> <td> 0.005</td> <td>-1.82e+04</td> <td>-3170.319</td>\n",
       "</tr>\n",
       "<tr>\n",
       "  <th>Garage Cond_Ex</th>       <td>-2.997e+04</td> <td> 1.49e+04</td> <td>   -2.009</td> <td> 0.045</td> <td>-5.92e+04</td> <td> -718.809</td>\n",
       "</tr>\n",
       "<tr>\n",
       "  <th>Garage Cond_Fa</th>       <td>-3.405e+04</td> <td> 7640.736</td> <td>   -4.456</td> <td> 0.000</td> <td> -4.9e+04</td> <td>-1.91e+04</td>\n",
       "</tr>\n",
       "<tr>\n",
       "  <th>Garage Cond_Gd</th>       <td>-3.256e+04</td> <td> 9465.042</td> <td>   -3.440</td> <td> 0.001</td> <td>-5.11e+04</td> <td> -1.4e+04</td>\n",
       "</tr>\n",
       "<tr>\n",
       "  <th>Garage Cond_Po</th>       <td>-2.951e+04</td> <td>  1.1e+04</td> <td>   -2.692</td> <td> 0.007</td> <td> -5.1e+04</td> <td>-8009.778</td>\n",
       "</tr>\n",
       "<tr>\n",
       "  <th>Garage Cond_TA</th>       <td>-2.914e+04</td> <td> 7241.490</td> <td>   -4.025</td> <td> 0.000</td> <td>-4.33e+04</td> <td>-1.49e+04</td>\n",
       "</tr>\n",
       "<tr>\n",
       "  <th>Paved Drive_N</th>        <td>-5.262e+04</td> <td> 9617.228</td> <td>   -5.472</td> <td> 0.000</td> <td>-7.15e+04</td> <td>-3.38e+04</td>\n",
       "</tr>\n",
       "<tr>\n",
       "  <th>Paved Drive_P</th>        <td>-5.359e+04</td> <td> 9719.347</td> <td>   -5.513</td> <td> 0.000</td> <td>-7.26e+04</td> <td>-3.45e+04</td>\n",
       "</tr>\n",
       "<tr>\n",
       "  <th>Paved Drive_Y</th>        <td>-4.902e+04</td> <td> 9838.403</td> <td>   -4.983</td> <td> 0.000</td> <td>-6.83e+04</td> <td>-2.97e+04</td>\n",
       "</tr>\n",
       "<tr>\n",
       "  <th>Sale Type_COD</th>        <td>-3.021e+04</td> <td> 4843.655</td> <td>   -6.236</td> <td> 0.000</td> <td>-3.97e+04</td> <td>-2.07e+04</td>\n",
       "</tr>\n",
       "<tr>\n",
       "  <th>Sale Type_CWD</th>        <td>-1.273e+04</td> <td> 7706.209</td> <td>   -1.652</td> <td> 0.099</td> <td>-2.78e+04</td> <td> 2381.889</td>\n",
       "</tr>\n",
       "<tr>\n",
       "  <th>Sale Type_Con</th>        <td>  1.11e+04</td> <td> 1.12e+04</td> <td>    0.988</td> <td> 0.323</td> <td>-1.09e+04</td> <td> 3.31e+04</td>\n",
       "</tr>\n",
       "<tr>\n",
       "  <th>Sale Type_ConLD</th>      <td>-1.943e+04</td> <td> 6905.668</td> <td>   -2.814</td> <td> 0.005</td> <td> -3.3e+04</td> <td>-5887.900</td>\n",
       "</tr>\n",
       "<tr>\n",
       "  <th>Sale Type_ConLI</th>      <td>-2.807e+04</td> <td> 8869.040</td> <td>   -3.165</td> <td> 0.002</td> <td>-4.55e+04</td> <td>-1.07e+04</td>\n",
       "</tr>\n",
       "<tr>\n",
       "  <th>Sale Type_ConLw</th>      <td>-2.435e+04</td> <td> 1.01e+04</td> <td>   -2.399</td> <td> 0.017</td> <td>-4.43e+04</td> <td>-4439.871</td>\n",
       "</tr>\n",
       "<tr>\n",
       "  <th>Sale Type_New</th>        <td>-1.304e+04</td> <td> 4758.287</td> <td>   -2.741</td> <td> 0.006</td> <td>-2.24e+04</td> <td>-3708.944</td>\n",
       "</tr>\n",
       "<tr>\n",
       "  <th>Sale Type_Oth</th>        <td>-1.467e+04</td> <td> 1.11e+04</td> <td>   -1.325</td> <td> 0.185</td> <td>-3.64e+04</td> <td> 7048.374</td>\n",
       "</tr>\n",
       "<tr>\n",
       "  <th>Sale Type_WD </th>        <td>-2.384e+04</td> <td> 4152.788</td> <td>   -5.741</td> <td> 0.000</td> <td> -3.2e+04</td> <td>-1.57e+04</td>\n",
       "</tr>\n",
       "</table>\n",
       "<table class=\"simpletable\">\n",
       "<tr>\n",
       "  <th>Omnibus:</th>       <td>531.774</td> <th>  Durbin-Watson:     </th> <td>   1.990</td> \n",
       "</tr>\n",
       "<tr>\n",
       "  <th>Prob(Omnibus):</th> <td> 0.000</td>  <th>  Jarque-Bera (JB):  </th> <td>18984.674</td>\n",
       "</tr>\n",
       "<tr>\n",
       "  <th>Skew:</th>          <td> 0.509</td>  <th>  Prob(JB):          </th> <td>    0.00</td> \n",
       "</tr>\n",
       "<tr>\n",
       "  <th>Kurtosis:</th>      <td>17.877</td>  <th>  Cond. No.          </th> <td>1.00e+16</td> \n",
       "</tr>\n",
       "</table><br/><br/>Warnings:<br/>[1] Standard Errors assume that the covariance matrix of the errors is correctly specified.<br/>[2] The smallest eigenvalue is 1.11e-11. This might indicate that there are<br/>strong multicollinearity problems or that the design matrix is singular."
      ],
      "text/plain": [
       "<class 'statsmodels.iolib.summary.Summary'>\n",
       "\"\"\"\n",
       "                            OLS Regression Results                            \n",
       "==============================================================================\n",
       "Dep. Variable:              SalePrice   R-squared:                       0.927\n",
       "Model:                            OLS   Adj. R-squared:                  0.918\n",
       "Method:                 Least Squares   F-statistic:                     112.5\n",
       "Date:                Mon, 18 May 2020   Prob (F-statistic):               0.00\n",
       "Time:                        09:18:02   Log-Likelihood:                -23343.\n",
       "No. Observations:                2049   AIC:                         4.710e+04\n",
       "Df Residuals:                    1841   BIC:                         4.827e+04\n",
       "Df Model:                         207                                         \n",
       "Covariance Type:            nonrobust                                         \n",
       "========================================================================================\n",
       "                           coef    std err          t      P>|t|      [0.025      0.975]\n",
       "----------------------------------------------------------------------------------------\n",
       "PID                   2.197e-06   7.93e-06      0.277      0.782   -1.34e-05    1.78e-05\n",
       "Lot Area                 0.5395      0.120      4.508      0.000       0.305       0.774\n",
       "Overall Qual          8019.6102    798.318     10.046      0.000    6453.906    9585.314\n",
       "Year Built             138.1164     58.951      2.343      0.019      22.499     253.734\n",
       "Year Remod/Add         210.9711     43.193      4.884      0.000     126.259     295.683\n",
       "Mas Vnr Area            24.3094      4.961      4.900      0.000      14.580      34.038\n",
       "BsmtFin SF 1             1.1621      6.004      0.194      0.847     -10.613      12.937\n",
       "Bsmt Unf SF            -11.0678      6.077     -1.821      0.069     -22.987       0.851\n",
       "Total Bsmt SF           24.3973      6.567      3.715      0.000      11.517      37.277\n",
       "1st Flr SF              19.0247     12.587      1.511      0.131      -5.661      43.710\n",
       "2nd Flr SF              24.4855     11.911      2.056      0.040       1.125      47.846\n",
       "Gr Liv Area             25.5733     12.359      2.069      0.039       1.333      49.813\n",
       "Bsmt Full Bath        3741.2839   1478.813      2.530      0.011     840.957    6641.611\n",
       "Full Bath             3796.2900   1714.704      2.214      0.027     433.321    7159.259\n",
       "Half Bath             1782.8847   1635.561      1.090      0.276   -1424.865    4990.634\n",
       "Bedroom AbvGr        -3145.2582   1061.175     -2.964      0.003   -5226.492   -1064.025\n",
       "Kitchen AbvGr        -1.264e+04   4920.375     -2.568      0.010   -2.23e+04   -2986.860\n",
       "TotRms AbvGrd         1462.1224    742.937      1.968      0.049       5.035    2919.210\n",
       "Fireplaces            3716.2988   1103.373      3.368      0.001    1552.304    5880.293\n",
       "Garage Yr Blt          -66.7907     45.205     -1.477      0.140    -155.450      21.869\n",
       "Garage Cars           6490.1217   1868.229      3.474      0.001    2826.050    1.02e+04\n",
       "Garage Area              8.8154      6.551      1.346      0.179      -4.034      21.665\n",
       "Wood Deck SF            11.7195      4.679      2.505      0.012       2.544      20.896\n",
       "Open Porch SF            3.0531      9.155      0.333      0.739     -14.903      21.009\n",
       "Enclosed Porch           8.4884     10.194      0.833      0.405     -11.504      28.481\n",
       "Screen Porch            65.5539      9.773      6.707      0.000      46.386      84.722\n",
       "Street_Grvl          -8.087e+04   1.52e+04     -5.325      0.000   -1.11e+05   -5.11e+04\n",
       "Street_Pave          -7.437e+04   1.51e+04     -4.938      0.000   -1.04e+05   -4.48e+04\n",
       "Lot Shape_IR1        -2.996e+04   7331.235     -4.086      0.000   -4.43e+04   -1.56e+04\n",
       "Lot Shape_IR2        -2.845e+04   7850.159     -3.624      0.000   -4.38e+04   -1.31e+04\n",
       "Lot Shape_IR3        -6.676e+04   9720.051     -6.868      0.000   -8.58e+04   -4.77e+04\n",
       "Lot Shape_Reg        -3.007e+04   7355.283     -4.088      0.000   -4.45e+04   -1.56e+04\n",
       "Land Contour_Bnk     -4.352e+04   7439.653     -5.850      0.000   -5.81e+04   -2.89e+04\n",
       "Land Contour_HLS     -3.313e+04   7699.677     -4.303      0.000   -4.82e+04    -1.8e+04\n",
       "Land Contour_Low      -3.85e+04   7884.166     -4.883      0.000    -5.4e+04    -2.3e+04\n",
       "Land Contour_Lvl     -4.008e+04   7338.191     -5.462      0.000   -5.45e+04   -2.57e+04\n",
       "Utilities_AllPub      3.369e+04   2.46e+04      1.372      0.170   -1.45e+04    8.19e+04\n",
       "Utilities_NoSewr      3.745e+04   3.65e+04      1.026      0.305   -3.41e+04    1.09e+05\n",
       "Lot Config_Corner    -2.998e+04   5971.923     -5.021      0.000   -4.17e+04   -1.83e+04\n",
       "Lot Config_CulDSac   -2.365e+04   6243.871     -3.788      0.000   -3.59e+04   -1.14e+04\n",
       "Lot Config_FR2       -3.246e+04   6437.502     -5.043      0.000   -4.51e+04   -1.98e+04\n",
       "Lot Config_FR3       -3.951e+04   9050.486     -4.365      0.000   -5.73e+04   -2.18e+04\n",
       "Lot Config_Inside    -2.963e+04   5967.955     -4.964      0.000   -4.13e+04   -1.79e+04\n",
       "Land Slope_Gtl       -5.442e+04   1.02e+04     -5.349      0.000   -7.44e+04   -3.45e+04\n",
       "Land Slope_Mod        -5.44e+04   1.02e+04     -5.324      0.000   -7.44e+04   -3.44e+04\n",
       "Land Slope_Sev       -4.642e+04    1.1e+04     -4.213      0.000    -6.8e+04   -2.48e+04\n",
       "Neighborhood_Blmngtn -6.686e+04    1.5e+04     -4.459      0.000   -9.63e+04   -3.75e+04\n",
       "Neighborhood_Blueste -6.851e+04   1.67e+04     -4.095      0.000   -1.01e+05   -3.57e+04\n",
       "Neighborhood_BrDale  -6.355e+04   1.53e+04     -4.164      0.000   -9.35e+04   -3.36e+04\n",
       "Neighborhood_BrkSide -7.941e+04   1.44e+04     -5.533      0.000   -1.08e+05   -5.13e+04\n",
       "Neighborhood_ClearCr -7.798e+04   1.47e+04     -5.305      0.000   -1.07e+05   -4.91e+04\n",
       "Neighborhood_CollgCr -7.975e+04   1.39e+04     -5.750      0.000   -1.07e+05   -5.25e+04\n",
       "Neighborhood_Crawfor -6.478e+04   1.42e+04     -4.575      0.000   -9.26e+04    -3.7e+04\n",
       "Neighborhood_Edwards -8.763e+04    1.4e+04     -6.282      0.000   -1.15e+05   -6.03e+04\n",
       "Neighborhood_Gilbert  -8.14e+04   1.43e+04     -5.697      0.000   -1.09e+05   -5.34e+04\n",
       "Neighborhood_Greens  -5.746e+04   1.98e+04     -2.909      0.004   -9.62e+04   -1.87e+04\n",
       "Neighborhood_IDOTRR  -8.541e+04   1.44e+04     -5.941      0.000   -1.14e+05   -5.72e+04\n",
       "Neighborhood_MeadowV -7.174e+04    1.5e+04     -4.797      0.000   -1.01e+05   -4.24e+04\n",
       "Neighborhood_Mitchel -8.098e+04    1.4e+04     -5.778      0.000   -1.08e+05   -5.35e+04\n",
       "Neighborhood_NAmes   -8.188e+04   1.43e+04     -5.745      0.000    -1.1e+05   -5.39e+04\n",
       "Neighborhood_NPkVill -6.673e+04   1.95e+04     -3.416      0.001   -1.05e+05   -2.84e+04\n",
       "Neighborhood_NWAmes  -8.304e+04   1.44e+04     -5.766      0.000   -1.11e+05   -5.48e+04\n",
       "Neighborhood_NoRidge -4.802e+04   1.46e+04     -3.283      0.001   -7.67e+04   -1.93e+04\n",
       "Neighborhood_NridgHt -4.853e+04   1.43e+04     -3.400      0.001   -7.65e+04   -2.05e+04\n",
       "Neighborhood_OldTown -8.879e+04   1.42e+04     -6.258      0.000   -1.17e+05    -6.1e+04\n",
       "Neighborhood_SWISU    -8.26e+04   1.47e+04     -5.618      0.000   -1.11e+05   -5.38e+04\n",
       "Neighborhood_Sawyer   -7.87e+04   1.41e+04     -5.585      0.000   -1.06e+05   -5.11e+04\n",
       "Neighborhood_SawyerW  -8.03e+04   1.41e+04     -5.703      0.000   -1.08e+05   -5.27e+04\n",
       "Neighborhood_Somerst -6.326e+04   1.42e+04     -4.461      0.000   -9.11e+04   -3.54e+04\n",
       "Neighborhood_StoneBr -3.515e+04   1.46e+04     -2.402      0.016   -6.39e+04   -6454.097\n",
       "Neighborhood_Timber  -7.753e+04   1.42e+04     -5.473      0.000   -1.05e+05   -4.97e+04\n",
       "Neighborhood_Veenker -7.484e+04   1.54e+04     -4.863      0.000   -1.05e+05   -4.47e+04\n",
       "Condition 1_Artery   -2.029e+04   4693.805     -4.322      0.000   -2.95e+04   -1.11e+04\n",
       "Condition 1_Feedr    -1.853e+04   4385.320     -4.226      0.000   -2.71e+04   -9932.224\n",
       "Condition 1_Norm     -1.083e+04   3992.865     -2.712      0.007   -1.87e+04   -2995.645\n",
       "Condition 1_PosA     -3276.4637   7819.209     -0.419      0.675   -1.86e+04    1.21e+04\n",
       "Condition 1_PosN     -3011.0354   5852.791     -0.514      0.607   -1.45e+04    8467.771\n",
       "Condition 1_RRAe     -2.823e+04   6348.115     -4.447      0.000   -4.07e+04   -1.58e+04\n",
       "Condition 1_RRAn     -1.593e+04   5487.453     -2.903      0.004   -2.67e+04   -5165.152\n",
       "Condition 1_RRNe     -3.076e+04   1.33e+04     -2.318      0.021   -5.68e+04   -4729.491\n",
       "Condition 1_RRNn     -2.438e+04   9574.201     -2.547      0.011   -4.32e+04   -5605.904\n",
       "Condition 2_Feedr     4757.4833   1.12e+04      0.424      0.672   -1.73e+04    2.68e+04\n",
       "Condition 2_Norm      2559.3744   8549.026      0.299      0.765   -1.42e+04    1.93e+04\n",
       "Condition 2_PosA      1.434e+04   1.75e+04      0.819      0.413      -2e+04    4.87e+04\n",
       "Condition 2_PosN     -1.271e+04   1.67e+04     -0.760      0.448   -4.55e+04    2.01e+04\n",
       "Bldg Type_1Fam       -1.465e+04   5904.160     -2.482      0.013   -2.62e+04   -3072.075\n",
       "Bldg Type_2fmCon     -2.273e+04   6651.096     -3.417      0.001   -3.58e+04   -9685.018\n",
       "Bldg Type_Duplex     -2.701e+04   7128.122     -3.789      0.000    -4.1e+04    -1.3e+04\n",
       "Bldg Type_Twnhs      -4.836e+04   6817.103     -7.094      0.000   -6.17e+04    -3.5e+04\n",
       "Bldg Type_TwnhsE     -4.248e+04   6281.427     -6.763      0.000   -5.48e+04   -3.02e+04\n",
       "House Style_1.5Fin   -2.019e+04   4283.600     -4.714      0.000   -2.86e+04   -1.18e+04\n",
       "House Style_1.5Unf   -1.493e+04   7595.512     -1.966      0.049   -2.98e+04     -33.536\n",
       "House Style_1Story   -1.478e+04   4806.404     -3.076      0.002   -2.42e+04   -5357.657\n",
       "House Style_2.5Fin   -2.346e+04   1.08e+04     -2.172      0.030   -4.46e+04   -2275.661\n",
       "House Style_2.5Unf   -1.626e+04   7223.529     -2.251      0.024   -3.04e+04   -2094.719\n",
       "House Style_2Story   -2.422e+04   4401.235     -5.504      0.000   -3.29e+04   -1.56e+04\n",
       "House Style_SFoyer   -1.891e+04   5775.333     -3.274      0.001   -3.02e+04   -7580.170\n",
       "House Style_SLvl     -2.248e+04   4987.782     -4.507      0.000   -3.23e+04   -1.27e+04\n",
       "Roof Style_Flat        2.82e+04   1.09e+04      2.585      0.010    6805.092    4.96e+04\n",
       "Roof Style_Gable     -2.494e+04   6189.218     -4.029      0.000   -3.71e+04   -1.28e+04\n",
       "Roof Style_Gambrel   -2.884e+04   8318.529     -3.467      0.001   -4.52e+04   -1.25e+04\n",
       "Roof Style_Hip         -2.4e+04   6262.920     -3.831      0.000   -3.63e+04   -1.17e+04\n",
       "Roof Style_Mansard   -6.051e+04   1.03e+04     -5.879      0.000   -8.07e+04   -4.03e+04\n",
       "Roof Style_Shed      -4.515e+04   1.41e+04     -3.207      0.001   -7.28e+04   -1.75e+04\n",
       "Roof Matl_CompShg     2.738e+05   2.04e+04     13.446      0.000    2.34e+05    3.14e+05\n",
       "Roof Matl_Tar&Grv     2.287e+05   2.03e+04     11.240      0.000    1.89e+05    2.69e+05\n",
       "Roof Matl_WdShake     2.901e+05   2.43e+04     11.919      0.000    2.42e+05    3.38e+05\n",
       "Roof Matl_WdShngl     3.166e+05   2.31e+04     13.728      0.000    2.71e+05    3.62e+05\n",
       "Exterior 1st_AsbShng  1.758e+04   1.55e+04      1.137      0.256   -1.27e+04    4.79e+04\n",
       "Exterior 1st_AsphShn -8299.8758    3.3e+04     -0.251      0.802   -7.31e+04    5.65e+04\n",
       "Exterior 1st_BrkComm -1.837e+04   2.45e+04     -0.749      0.454   -6.65e+04    2.97e+04\n",
       "Exterior 1st_BrkFace  3.047e+04   1.37e+04      2.226      0.026    3623.578    5.73e+04\n",
       "Exterior 1st_CemntBd  3.581e+04   2.23e+04      1.608      0.108   -7870.063    7.95e+04\n",
       "Exterior 1st_HdBoard  8618.8501   1.35e+04      0.641      0.522   -1.78e+04     3.5e+04\n",
       "Exterior 1st_MetalSd  1.367e+04    1.5e+04      0.911      0.363   -1.58e+04    4.31e+04\n",
       "Exterior 1st_Plywood  1.222e+04   1.36e+04      0.901      0.368   -1.44e+04    3.88e+04\n",
       "Exterior 1st_Stucco   5632.9003   1.46e+04      0.385      0.700   -2.31e+04    3.43e+04\n",
       "Exterior 1st_VinylSd  5892.6510   1.37e+04      0.429      0.668    -2.1e+04    3.28e+04\n",
       "Exterior 1st_Wd Sdng  3626.8286   1.35e+04      0.268      0.789   -2.29e+04    3.02e+04\n",
       "Exterior 1st_WdShing  9951.7982   1.38e+04      0.720      0.472   -1.72e+04    3.71e+04\n",
       "Exterior 2nd_AsbShng  1503.0594    1.4e+04      0.107      0.915    -2.6e+04     2.9e+04\n",
       "Exterior 2nd_AsphShn  3.897e+04    2.1e+04      1.860      0.063   -2131.305    8.01e+04\n",
       "Exterior 2nd_Brk Cmn  2.228e+04   1.89e+04      1.176      0.240   -1.49e+04    5.94e+04\n",
       "Exterior 2nd_BrkFace  3066.2322   1.17e+04      0.263      0.793   -1.98e+04    2.59e+04\n",
       "Exterior 2nd_CBlock   1.933e+04   2.86e+04      0.677      0.499   -3.67e+04    7.53e+04\n",
       "Exterior 2nd_CmentBd -8440.4115    2.1e+04     -0.402      0.687   -4.96e+04    3.27e+04\n",
       "Exterior 2nd_HdBoard  1.199e+04   1.16e+04      1.030      0.303   -1.08e+04    3.48e+04\n",
       "Exterior 2nd_ImStucc  5949.9631   1.31e+04      0.453      0.651   -1.98e+04    3.17e+04\n",
       "Exterior 2nd_MetalSd  1.239e+04   1.29e+04      0.957      0.339    -1.3e+04    3.78e+04\n",
       "Exterior 2nd_Plywood  1.138e+04   1.15e+04      0.986      0.324   -1.13e+04     3.4e+04\n",
       "Exterior 2nd_Stucco   8303.8029   1.21e+04      0.684      0.494   -1.55e+04    3.21e+04\n",
       "Exterior 2nd_VinylSd  1.928e+04   1.22e+04      1.578      0.115   -4683.325    4.33e+04\n",
       "Exterior 2nd_Wd Sdng  1.817e+04   1.13e+04      1.610      0.108   -3959.993    4.03e+04\n",
       "Exterior 2nd_Wd Shng  1.174e+04   1.17e+04      1.001      0.317   -1.12e+04    3.47e+04\n",
       "Mas Vnr Type_BrkCmn  -5.084e+04   8924.726     -5.697      0.000   -6.83e+04   -3.33e+04\n",
       "Mas Vnr Type_BrkFace -3.762e+04   7340.747     -5.125      0.000    -5.2e+04   -2.32e+04\n",
       "Mas Vnr Type_None    -3.371e+04   7270.496     -4.637      0.000    -4.8e+04   -1.95e+04\n",
       "Mas Vnr Type_Stone   -3.305e+04   7453.395     -4.435      0.000   -4.77e+04   -1.84e+04\n",
       "Exter Qual_Ex        -2.039e+04   7927.547     -2.572      0.010   -3.59e+04   -4838.179\n",
       "Exter Qual_Fa        -4.222e+04   8611.325     -4.903      0.000   -5.91e+04   -2.53e+04\n",
       "Exter Qual_Gd        -4.445e+04   7437.043     -5.977      0.000    -5.9e+04   -2.99e+04\n",
       "Exter Qual_TA        -4.818e+04   7242.445     -6.652      0.000   -6.24e+04    -3.4e+04\n",
       "Exter Cond_Ex        -2.532e+04   1.04e+04     -2.435      0.015   -4.57e+04   -4923.094\n",
       "Exter Cond_Fa        -3.555e+04   7824.357     -4.544      0.000   -5.09e+04   -2.02e+04\n",
       "Exter Cond_Gd        -2.982e+04   7498.317     -3.977      0.000   -4.45e+04   -1.51e+04\n",
       "Exter Cond_Po        -3.416e+04   1.75e+04     -1.952      0.051   -6.85e+04     154.703\n",
       "Exter Cond_TA        -3.038e+04   7415.743     -4.097      0.000   -4.49e+04   -1.58e+04\n",
       "Foundation_BrkTil    -3.026e+04   5925.710     -5.106      0.000   -4.19e+04   -1.86e+04\n",
       "Foundation_CBlock    -2.766e+04   5879.972     -4.703      0.000   -3.92e+04   -1.61e+04\n",
       "Foundation_PConc     -2.509e+04   6176.285     -4.062      0.000   -3.72e+04    -1.3e+04\n",
       "Foundation_Slab      -2.688e+04   8403.527     -3.199      0.001   -4.34e+04   -1.04e+04\n",
       "Foundation_Stone     -2.778e+04   1.13e+04     -2.464      0.014   -4.99e+04   -5672.905\n",
       "Foundation_Wood      -1.757e+04   1.52e+04     -1.155      0.248   -4.74e+04    1.23e+04\n",
       "Bsmt Qual_Ex         -2.315e+04   8593.808     -2.694      0.007      -4e+04   -6293.994\n",
       "Bsmt Qual_Fa         -3.258e+04   8035.019     -4.054      0.000   -4.83e+04   -1.68e+04\n",
       "Bsmt Qual_Gd         -3.808e+04   8286.112     -4.596      0.000   -5.43e+04   -2.18e+04\n",
       "Bsmt Qual_Po         -2.699e+04   2.21e+04     -1.222      0.222   -7.03e+04    1.63e+04\n",
       "Bsmt Qual_TA         -3.444e+04   7920.420     -4.348      0.000      -5e+04   -1.89e+04\n",
       "Bsmt Cond_Fa         -7448.8730   9191.393     -0.810      0.418   -2.55e+04    1.06e+04\n",
       "Bsmt Cond_Gd          -571.2951   9102.349     -0.063      0.950   -1.84e+04    1.73e+04\n",
       "Bsmt Cond_TA         -1823.2057   8754.124     -0.208      0.835    -1.9e+04    1.53e+04\n",
       "Bsmt Exposure_Av     -3.948e+04   7245.517     -5.449      0.000   -5.37e+04   -2.53e+04\n",
       "Bsmt Exposure_Gd     -2.703e+04   7355.985     -3.675      0.000   -4.15e+04   -1.26e+04\n",
       "Bsmt Exposure_Mn     -4.455e+04   7234.059     -6.158      0.000   -5.87e+04   -3.04e+04\n",
       "Bsmt Exposure_No     -4.417e+04   7156.998     -6.172      0.000   -5.82e+04   -3.01e+04\n",
       "BsmtFin Type 1_ALQ   -2.436e+04   5020.031     -4.853      0.000   -3.42e+04   -1.45e+04\n",
       "BsmtFin Type 1_BLQ     -2.6e+04   5000.299     -5.200      0.000   -3.58e+04   -1.62e+04\n",
       "BsmtFin Type 1_GLQ   -2.155e+04   5048.134     -4.268      0.000   -3.14e+04   -1.16e+04\n",
       "BsmtFin Type 1_LwQ   -2.905e+04   5153.415     -5.637      0.000   -3.92e+04   -1.89e+04\n",
       "BsmtFin Type 1_Rec   -2.801e+04   5011.968     -5.588      0.000   -3.78e+04   -1.82e+04\n",
       "BsmtFin Type 1_Unf   -2.627e+04   4944.160     -5.313      0.000    -3.6e+04   -1.66e+04\n",
       "BsmtFin Type 2_ALQ     306.0334   1.12e+04      0.027      0.978   -2.17e+04    2.23e+04\n",
       "BsmtFin Type 2_BLQ   -5413.2190   1.08e+04     -0.501      0.617   -2.66e+04    1.58e+04\n",
       "BsmtFin Type 2_GLQ    1.816e+04    1.2e+04      1.515      0.130   -5340.237    4.17e+04\n",
       "BsmtFin Type 2_LwQ   -5956.0873   1.07e+04     -0.555      0.579    -2.7e+04    1.51e+04\n",
       "BsmtFin Type 2_Rec   -3775.8637   1.06e+04     -0.358      0.721   -2.45e+04    1.69e+04\n",
       "BsmtFin Type 2_Unf    -673.2935   1.02e+04     -0.066      0.947   -2.07e+04    1.93e+04\n",
       "Heating_GasA          8148.9472   1.02e+04      0.801      0.423   -1.18e+04    2.81e+04\n",
       "Heating_GasW          5589.6261   1.15e+04      0.488      0.625   -1.69e+04     2.8e+04\n",
       "Heating_Grav         -9172.1922   1.49e+04     -0.616      0.538   -3.84e+04    2.01e+04\n",
       "Heating QC_Ex         1.398e+04   1.65e+04      0.850      0.396   -1.83e+04    4.62e+04\n",
       "Heating QC_Fa         1.084e+04   1.66e+04      0.655      0.513   -2.16e+04    4.33e+04\n",
       "Heating QC_Gd         1.278e+04   1.65e+04      0.775      0.438   -1.96e+04    4.51e+04\n",
       "Heating QC_TA         8486.2581   1.65e+04      0.515      0.606   -2.38e+04    4.08e+04\n",
       "Central Air_N         -7.76e+04   1.43e+04     -5.442      0.000   -1.06e+05   -4.96e+04\n",
       "Central Air_Y        -7.763e+04   1.43e+04     -5.429      0.000   -1.06e+05   -4.96e+04\n",
       "Electrical_FuseA     -1.744e+04   3.59e+04     -0.486      0.627   -8.78e+04    5.29e+04\n",
       "Electrical_FuseF     -1.558e+04   3.63e+04     -0.429      0.668   -8.67e+04    5.56e+04\n",
       "Electrical_FuseP     -1.511e+04   3.72e+04     -0.406      0.685   -8.81e+04    5.79e+04\n",
       "Electrical_SBrkr     -1.771e+04   3.59e+04     -0.493      0.622   -8.82e+04    5.28e+04\n",
       "Kitchen Qual_Ex      -2.023e+04   7724.184     -2.619      0.009   -3.54e+04   -5078.572\n",
       "Kitchen Qual_Fa       -4.81e+04   7518.828     -6.397      0.000   -6.28e+04   -3.34e+04\n",
       "Kitchen Qual_Gd      -4.303e+04   7403.711     -5.812      0.000   -5.76e+04   -2.85e+04\n",
       "Kitchen Qual_TA      -4.387e+04   7168.886     -6.120      0.000   -5.79e+04   -2.98e+04\n",
       "Functional_Maj1       2.129e+04   1.54e+04      1.383      0.167   -8900.304    5.15e+04\n",
       "Functional_Maj2       3.287e+04   1.71e+04      1.926      0.054    -604.071    6.63e+04\n",
       "Functional_Min1       4.049e+04   1.41e+04      2.864      0.004    1.28e+04    6.82e+04\n",
       "Functional_Min2       4.231e+04   1.42e+04      2.984      0.003    1.45e+04    7.01e+04\n",
       "Functional_Mod        3.858e+04   1.41e+04      2.728      0.006    1.08e+04    6.63e+04\n",
       "Functional_Typ        5.065e+04   1.36e+04      3.718      0.000    2.39e+04    7.74e+04\n",
       "Garage Type_2Types   -3.302e+04   6753.955     -4.890      0.000   -4.63e+04   -1.98e+04\n",
       "Garage Type_Attchd   -2.391e+04   5250.955     -4.554      0.000   -3.42e+04   -1.36e+04\n",
       "Garage Type_Basment  -2.685e+04   6494.626     -4.134      0.000   -3.96e+04   -1.41e+04\n",
       "Garage Type_BuiltIn  -2.129e+04   5751.072     -3.701      0.000   -3.26e+04      -1e+04\n",
       "Garage Type_CarPort   -2.77e+04   7965.403     -3.478      0.001   -4.33e+04   -1.21e+04\n",
       "Garage Type_Detchd   -2.246e+04   5281.427     -4.253      0.000   -3.28e+04   -1.21e+04\n",
       "Garage Finish_Fin    -5.157e+04   9609.928     -5.366      0.000   -7.04e+04   -3.27e+04\n",
       "Garage Finish_RFn    -5.333e+04   9503.940     -5.612      0.000    -7.2e+04   -3.47e+04\n",
       "Garage Finish_Unf    -5.033e+04   9472.288     -5.314      0.000   -6.89e+04   -3.18e+04\n",
       "Garage Qual_Fa        -1.09e+04   5029.204     -2.167      0.030   -2.08e+04   -1034.435\n",
       "Garage Qual_Gd          1.5e+04   7536.083      1.990      0.047     216.950    2.98e+04\n",
       "Garage Qual_Po       -5.094e+04   2.58e+04     -1.973      0.049   -1.02e+05    -300.861\n",
       "Garage Qual_TA       -1.071e+04   3843.349     -2.786      0.005   -1.82e+04   -3170.319\n",
       "Garage Cond_Ex       -2.997e+04   1.49e+04     -2.009      0.045   -5.92e+04    -718.809\n",
       "Garage Cond_Fa       -3.405e+04   7640.736     -4.456      0.000    -4.9e+04   -1.91e+04\n",
       "Garage Cond_Gd       -3.256e+04   9465.042     -3.440      0.001   -5.11e+04    -1.4e+04\n",
       "Garage Cond_Po       -2.951e+04    1.1e+04     -2.692      0.007    -5.1e+04   -8009.778\n",
       "Garage Cond_TA       -2.914e+04   7241.490     -4.025      0.000   -4.33e+04   -1.49e+04\n",
       "Paved Drive_N        -5.262e+04   9617.228     -5.472      0.000   -7.15e+04   -3.38e+04\n",
       "Paved Drive_P        -5.359e+04   9719.347     -5.513      0.000   -7.26e+04   -3.45e+04\n",
       "Paved Drive_Y        -4.902e+04   9838.403     -4.983      0.000   -6.83e+04   -2.97e+04\n",
       "Sale Type_COD        -3.021e+04   4843.655     -6.236      0.000   -3.97e+04   -2.07e+04\n",
       "Sale Type_CWD        -1.273e+04   7706.209     -1.652      0.099   -2.78e+04    2381.889\n",
       "Sale Type_Con          1.11e+04   1.12e+04      0.988      0.323   -1.09e+04    3.31e+04\n",
       "Sale Type_ConLD      -1.943e+04   6905.668     -2.814      0.005    -3.3e+04   -5887.900\n",
       "Sale Type_ConLI      -2.807e+04   8869.040     -3.165      0.002   -4.55e+04   -1.07e+04\n",
       "Sale Type_ConLw      -2.435e+04   1.01e+04     -2.399      0.017   -4.43e+04   -4439.871\n",
       "Sale Type_New        -1.304e+04   4758.287     -2.741      0.006   -2.24e+04   -3708.944\n",
       "Sale Type_Oth        -1.467e+04   1.11e+04     -1.325      0.185   -3.64e+04    7048.374\n",
       "Sale Type_WD         -2.384e+04   4152.788     -5.741      0.000    -3.2e+04   -1.57e+04\n",
       "==============================================================================\n",
       "Omnibus:                      531.774   Durbin-Watson:                   1.990\n",
       "Prob(Omnibus):                  0.000   Jarque-Bera (JB):            18984.674\n",
       "Skew:                           0.509   Prob(JB):                         0.00\n",
       "Kurtosis:                      17.877   Cond. No.                     1.00e+16\n",
       "==============================================================================\n",
       "\n",
       "Warnings:\n",
       "[1] Standard Errors assume that the covariance matrix of the errors is correctly specified.\n",
       "[2] The smallest eigenvalue is 1.11e-11. This might indicate that there are\n",
       "strong multicollinearity problems or that the design matrix is singular.\n",
       "\"\"\""
      ]
     },
     "execution_count": 48,
     "metadata": {},
     "output_type": "execute_result"
    }
   ],
   "source": [
    "# This will produce a summary table where we can see how each prediction variable affects he SalePrice\n",
    "\n",
    "import statsmodels.api as sm\n",
    "lr2 = sm.OLS(y_train, X_train).fit()\n",
    "lr2.summary()"
   ]
  },
  {
   "cell_type": "code",
   "execution_count": null,
   "metadata": {},
   "outputs": [],
   "source": []
  },
  {
   "cell_type": "code",
   "execution_count": 49,
   "metadata": {},
   "outputs": [],
   "source": [
    "# Read in test file. to get the Id.\n",
    "test_org = pd.read_csv('./datasets/test.csv')"
   ]
  },
  {
   "cell_type": "raw",
   "metadata": {},
   "source": [
    "test_org.head()"
   ]
  },
  {
   "cell_type": "code",
   "execution_count": 50,
   "metadata": {},
   "outputs": [
    {
     "data": {
      "text/plain": [
       "(879, 1)"
      ]
     },
     "execution_count": 50,
     "metadata": {},
     "output_type": "execute_result"
    }
   ],
   "source": [
    "id_number = test_org['Id']\n",
    "id_number = pd.DataFrame(id_number)\n",
    "id_number.dropna()\n",
    "id_number.shape"
   ]
  },
  {
   "cell_type": "code",
   "execution_count": 51,
   "metadata": {},
   "outputs": [],
   "source": [
    "# Save prediction to csv file for submission\n",
    "pred = pd.DataFrame(pred)\n",
    "frame = [id_number, pred]\n",
    "result = pd.concat(frame, axis = 1)\n",
    "result.columns = ['Id','SalePrice']\n",
    "\n",
    "result.to_csv(r'\\Users\\carne\\Documents\\Djuwita_DSI\\Submissions\\project_2\\datasets\\result2.csv', index = False)"
   ]
  },
  {
   "cell_type": "code",
   "execution_count": null,
   "metadata": {},
   "outputs": [],
   "source": []
  }
 ],
 "metadata": {
  "anaconda-cloud": {},
  "kernelspec": {
   "display_name": "Python 3",
   "language": "python",
   "name": "python3"
  },
  "language_info": {
   "codemirror_mode": {
    "name": "ipython",
    "version": 3
   },
   "file_extension": ".py",
   "mimetype": "text/x-python",
   "name": "python",
   "nbconvert_exporter": "python",
   "pygments_lexer": "ipython3",
   "version": "3.7.7"
  }
 },
 "nbformat": 4,
 "nbformat_minor": 4
}
