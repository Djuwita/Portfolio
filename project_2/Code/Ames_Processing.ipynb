{
 "cells": [
  {
   "cell_type": "markdown",
   "metadata": {},
   "source": [
    "<img src=\"http://imgur.com/1ZcRyrc.png\" style=\"float: left; margin: 20px; height: 55px\">\n",
    "\n",
    "# Project 2: Ames Housing Sale Price Prediction Model\n",
    "\n",
    "> Authors: Djuwita Carney\n",
    "\n",
    "---"
   ]
  },
  {
   "cell_type": "markdown",
   "metadata": {},
   "source": [
    "## Objective\n",
    "To make a prediction of housing price in Ames, Iowa as a function of many aspects of housing conditions"
   ]
  },
  {
   "cell_type": "markdown",
   "metadata": {},
   "source": [
    "## Imports"
   ]
  },
  {
   "cell_type": "code",
   "execution_count": 1,
   "metadata": {},
   "outputs": [],
   "source": [
    "import pandas as pd\n",
    "import numpy as np\n",
    "import seaborn as sns\n",
    "import matplotlib.pyplot as plt\n",
    "from sklearn.linear_model import LinearRegression, LassoCV, RidgeCV\n",
    "from sklearn.preprocessing import PolynomialFeatures, StandardScaler\n",
    "from sklearn.model_selection import train_test_split, cross_val_score, cross_val_predict\n",
    "from sklearn.metrics import r2_score\n",
    "\n",
    "%matplotlib inline"
   ]
  },
  {
   "cell_type": "code",
   "execution_count": 2,
   "metadata": {},
   "outputs": [
    {
     "name": "stdout",
     "output_type": "stream",
     "text": [
      "C:\\Users\\carne\\Documents\\Djuwita_DSI\\Submissions\\project_2\n"
     ]
    }
   ],
   "source": [
    "cd \\Users\\carne\\Documents\\Djuwita_DSI\\Submissions\\project_2"
   ]
  },
  {
   "cell_type": "markdown",
   "metadata": {},
   "source": [
    "## Read Data\n",
    "The `train` dataset consists of comprehensive housing data in Ames Iowa "
   ]
  },
  {
   "cell_type": "code",
   "execution_count": 3,
   "metadata": {},
   "outputs": [
    {
     "name": "stdout",
     "output_type": "stream",
     "text": [
      "[WinError 3] The system cannot find the path specified: '/djuwita/submissions/Project_2'\n",
      "C:\\Users\\carne\\Documents\\Djuwita_DSI\\Submissions\\project_2\n"
     ]
    }
   ],
   "source": [
    "cd/djuwita/submissions/Project_2"
   ]
  },
  {
   "cell_type": "code",
   "execution_count": 4,
   "metadata": {},
   "outputs": [],
   "source": [
    "# Read in the dummy_train data in the data folder in this repository. dummy_train data is the clean train data with dummy columns for the qualitative variables\n",
    "dummy_train = pd.read_csv('./datasets/dummy_train.csv')"
   ]
  },
  {
   "cell_type": "code",
   "execution_count": 5,
   "metadata": {},
   "outputs": [],
   "source": [
    "# Read in the clean_test file. This is the file with clean test data data with dummy columns for the qualitative variables.\n",
    "test = pd.read_csv('./datasets/clean_test.csv')"
   ]
  },
  {
   "cell_type": "markdown",
   "metadata": {},
   "source": [
    "# Prepare regression parameters"
   ]
  },
  {
   "cell_type": "code",
   "execution_count": 6,
   "metadata": {},
   "outputs": [
    {
     "data": {
      "text/plain": [
       "Index(['PID', 'Lot Area', 'Overall Qual', 'Year Built', 'Year Remod/Add',\n",
       "       'Mas Vnr Area', 'BsmtFin SF 1', 'Bsmt Unf SF', 'Total Bsmt SF',\n",
       "       '1st Flr SF',\n",
       "       ...\n",
       "       'Paved Drive_Y', 'Sale Type_COD', 'Sale Type_CWD', 'Sale Type_Con',\n",
       "       'Sale Type_ConLD', 'Sale Type_ConLI', 'Sale Type_ConLw',\n",
       "       'Sale Type_New', 'Sale Type_Oth', 'Sale Type_WD '],\n",
       "      dtype='object', length=230)"
      ]
     },
     "execution_count": 6,
     "metadata": {},
     "output_type": "execute_result"
    }
   ],
   "source": [
    "# Identify common variables between Train and Test data for fitting to be possible\n",
    "\n",
    "dummy_train_cols = dummy_train.columns\n",
    "test_cols = test.columns\n",
    "\n",
    "common_cols = dummy_train_cols.intersection(test_cols)\n",
    "common_cols"
   ]
  },
  {
   "cell_type": "code",
   "execution_count": 7,
   "metadata": {},
   "outputs": [],
   "source": [
    "test = test.loc[:, test.columns.isin(list(common_cols))]"
   ]
  },
  {
   "cell_type": "code",
   "execution_count": 8,
   "metadata": {},
   "outputs": [],
   "source": [
    "features = common_cols\n",
    "X_train = dummy_train[features]\n",
    "y_train = dummy_train['SalePrice']\n",
    "X_test = test"
   ]
  },
  {
   "cell_type": "code",
   "execution_count": 9,
   "metadata": {},
   "outputs": [],
   "source": [
    "lr = LinearRegression()"
   ]
  },
  {
   "cell_type": "code",
   "execution_count": 10,
   "metadata": {},
   "outputs": [],
   "source": [
    "lr.fit(X_train, y_train)\n",
    "y_pred = lr.predict(X_train)\n",
    "y_test = lr.predict(X_test)"
   ]
  },
  {
   "cell_type": "code",
   "execution_count": null,
   "metadata": {},
   "outputs": [],
   "source": []
  },
  {
   "cell_type": "code",
   "execution_count": 11,
   "metadata": {},
   "outputs": [],
   "source": [
    "## Lasso and Ridge"
   ]
  },
  {
   "cell_type": "code",
   "execution_count": 12,
   "metadata": {},
   "outputs": [],
   "source": [
    "# Instantiate.\n",
    "ss = StandardScaler()\n",
    "\n",
    "# Fit.\n",
    "X_train_sc = ss.fit_transform(X_train)\n",
    "\n",
    "# Fit.\n",
    "X_test_sc = ss.fit_transform(X_test)"
   ]
  },
  {
   "cell_type": "code",
   "execution_count": 13,
   "metadata": {},
   "outputs": [],
   "source": [
    "lasso = LassoCV(n_alphas=100)"
   ]
  },
  {
   "cell_type": "code",
   "execution_count": 14,
   "metadata": {},
   "outputs": [],
   "source": [
    "ridge = RidgeCV(alphas=np.linspace(.1, 10, 100))"
   ]
  },
  {
   "cell_type": "markdown",
   "metadata": {},
   "source": [
    "## Ridge Model Fitting and Evaluation\n",
    "---"
   ]
  },
  {
   "cell_type": "code",
   "execution_count": 15,
   "metadata": {},
   "outputs": [
    {
     "data": {
      "text/plain": [
       "RidgeCV(alphas=array([ 0.1,  0.2,  0.3,  0.4,  0.5,  0.6,  0.7,  0.8,  0.9,  1. ,  1.1,\n",
       "        1.2,  1.3,  1.4,  1.5,  1.6,  1.7,  1.8,  1.9,  2. ,  2.1,  2.2,\n",
       "        2.3,  2.4,  2.5,  2.6,  2.7,  2.8,  2.9,  3. ,  3.1,  3.2,  3.3,\n",
       "        3.4,  3.5,  3.6,  3.7,  3.8,  3.9,  4. ,  4.1,  4.2,  4.3,  4.4,\n",
       "        4.5,  4.6,  4.7,  4.8,  4.9,  5. ,  5.1,  5.2,  5.3,  5.4,  5.5,\n",
       "        5.6,  5.7,  5.8,  5.9,  6. ,  6.1,  6.2,  6.3,  6.4,  6.5,  6.6,\n",
       "        6.7,  6.8,  6.9,  7. ,  7.1,  7.2,  7.3,  7.4,  7.5,  7.6,  7.7,\n",
       "        7.8,  7.9,  8. ,  8.1,  8.2,  8.3,  8.4,  8.5,  8.6,  8.7,  8.8,\n",
       "        8.9,  9. ,  9.1,  9.2,  9.3,  9.4,  9.5,  9.6,  9.7,  9.8,  9.9,\n",
       "       10. ]),\n",
       "        cv=None, fit_intercept=True, gcv_mode=None, normalize=False,\n",
       "        scoring=None, store_cv_values=False)"
      ]
     },
     "execution_count": 15,
     "metadata": {},
     "output_type": "execute_result"
    }
   ],
   "source": [
    "ridge.fit(X_train_sc, y_train)"
   ]
  },
  {
   "cell_type": "code",
   "execution_count": 16,
   "metadata": {},
   "outputs": [
    {
     "data": {
      "text/plain": [
       "0.912186276660647"
      ]
     },
     "execution_count": 16,
     "metadata": {},
     "output_type": "execute_result"
    }
   ],
   "source": [
    "ridge.score(X_train_sc, y_train)"
   ]
  },
  {
   "cell_type": "code",
   "execution_count": 17,
   "metadata": {},
   "outputs": [
    {
     "data": {
      "text/plain": [
       "0.9892867667989035"
      ]
     },
     "execution_count": 17,
     "metadata": {},
     "output_type": "execute_result"
    }
   ],
   "source": [
    "ridge.score(X_test_sc, y_test)"
   ]
  },
  {
   "cell_type": "code",
   "execution_count": 18,
   "metadata": {},
   "outputs": [],
   "source": [
    "pred = ridge.predict(X_test_sc)"
   ]
  },
  {
   "cell_type": "code",
   "execution_count": 19,
   "metadata": {},
   "outputs": [
    {
     "data": {
      "text/plain": [
       "0.9892867667989034"
      ]
     },
     "execution_count": 19,
     "metadata": {},
     "output_type": "execute_result"
    }
   ],
   "source": [
    "r2_score(y_test, pred)"
   ]
  },
  {
   "cell_type": "code",
   "execution_count": 20,
   "metadata": {},
   "outputs": [],
   "source": [
    "residuals_ridge = y_test - pred"
   ]
  },
  {
   "cell_type": "markdown",
   "metadata": {},
   "source": [
    "## Lasso Model Fitting and Evaluation"
   ]
  },
  {
   "cell_type": "code",
   "execution_count": 21,
   "metadata": {},
   "outputs": [
    {
     "name": "stderr",
     "output_type": "stream",
     "text": [
      "C:\\Users\\carne\\Anaconda3\\lib\\site-packages\\sklearn\\model_selection\\_split.py:1978: FutureWarning: The default value of cv will change from 3 to 5 in version 0.22. Specify it explicitly to silence this warning.\n",
      "  warnings.warn(CV_WARNING, FutureWarning)\n"
     ]
    },
    {
     "data": {
      "text/plain": [
       "LassoCV(alphas=None, copy_X=True, cv='warn', eps=0.001, fit_intercept=True,\n",
       "        max_iter=1000, n_alphas=100, n_jobs=None, normalize=False,\n",
       "        positive=False, precompute='auto', random_state=None,\n",
       "        selection='cyclic', tol=0.0001, verbose=False)"
      ]
     },
     "execution_count": 21,
     "metadata": {},
     "output_type": "execute_result"
    }
   ],
   "source": [
    "lasso.fit(X_train_sc, y_train)"
   ]
  },
  {
   "cell_type": "code",
   "execution_count": 22,
   "metadata": {},
   "outputs": [
    {
     "data": {
      "text/plain": [
       "0.9009443863925833"
      ]
     },
     "execution_count": 22,
     "metadata": {},
     "output_type": "execute_result"
    }
   ],
   "source": [
    "lasso.score(X_train_sc, y_train)"
   ]
  },
  {
   "cell_type": "code",
   "execution_count": 23,
   "metadata": {},
   "outputs": [
    {
     "data": {
      "text/plain": [
       "0.9728633230122613"
      ]
     },
     "execution_count": 23,
     "metadata": {},
     "output_type": "execute_result"
    }
   ],
   "source": [
    "lasso.score(X_test_sc, y_test)"
   ]
  },
  {
   "cell_type": "code",
   "execution_count": 24,
   "metadata": {},
   "outputs": [],
   "source": [
    "pred = lasso.predict(X_test_sc)"
   ]
  },
  {
   "cell_type": "code",
   "execution_count": 25,
   "metadata": {},
   "outputs": [
    {
     "data": {
      "text/plain": [
       "0.9728633230122614"
      ]
     },
     "execution_count": 25,
     "metadata": {},
     "output_type": "execute_result"
    }
   ],
   "source": [
    "r2_score(y_test, pred)"
   ]
  },
  {
   "cell_type": "code",
   "execution_count": 26,
   "metadata": {},
   "outputs": [],
   "source": [
    "residuals_lasso = y_test - pred"
   ]
  },
  {
   "cell_type": "code",
   "execution_count": 27,
   "metadata": {},
   "outputs": [
    {
     "data": {
      "text/plain": [
       "Text(0, 0.5, 'Ridge_residuals')"
      ]
     },
     "execution_count": 27,
     "metadata": {},
     "output_type": "execute_result"
    },
    {
     "data": {
      "image/png": "[encoded data removed]",
      "text/plain": [
       "<Figure size 432x288 with 1 Axes>"
      ]
     },
     "metadata": {
      "needs_background": "light"
     },
     "output_type": "display_data"
    }
   ],
   "source": [
    "plt.scatter(pred, residuals_ridge)\n",
    "plt.xlabel('prediction')\n",
    "plt.ylabel('Ridge_residuals')"
   ]
  },
  {
   "cell_type": "code",
   "execution_count": 28,
   "metadata": {},
   "outputs": [],
   "source": [
    "residuals_lasso = y_test - pred"
   ]
  },
  {
   "cell_type": "code",
   "execution_count": 29,
   "metadata": {},
   "outputs": [
    {
     "data": {
      "text/plain": [
       "Text(0, 0.5, 'Lasso_residuals')"
      ]
     },
     "execution_count": 29,
     "metadata": {},
     "output_type": "execute_result"
    },
    {
     "data": {
      "image/png": "[encoded data removed]",
      "text/plain": [
       "<Figure size 432x288 with 1 Axes>"
      ]
     },
     "metadata": {
      "needs_background": "light"
     },
     "output_type": "display_data"
    }
   ],
   "source": [
    "plt.scatter(pred, residuals_lasso)\n",
    "plt.xlabel('prediction')\n",
    "plt.ylabel('Lasso_residuals')"
   ]
  },
  {
   "cell_type": "markdown",
   "metadata": {},
   "source": [
    "## Overall Lasso predictions is better than ridge's. There are less outliers, howevr the residuals for those outliers are larger than those of Ridge's. The Prediction quality of Lasso is slightly better,"
   ]
  },
  {
   "cell_type": "markdown",
   "metadata": {},
   "source": [
    "## Cross validation\n",
    "---\n",
    "\n",
    "Use `cross_val_score` to evaluate all models."
   ]
  },
  {
   "cell_type": "code",
   "execution_count": 30,
   "metadata": {},
   "outputs": [
    {
     "data": {
      "text/plain": [
       "0.8670311797795205"
      ]
     },
     "execution_count": 30,
     "metadata": {},
     "output_type": "execute_result"
    }
   ],
   "source": [
    "lr_scores = cross_val_score(lr, X_train, y_train, cv=3)\n",
    "lr_scores.mean()"
   ]
  },
  {
   "cell_type": "code",
   "execution_count": 31,
   "metadata": {},
   "outputs": [
    {
     "name": "stderr",
     "output_type": "stream",
     "text": [
      "C:\\Users\\carne\\Anaconda3\\lib\\site-packages\\sklearn\\model_selection\\_split.py:1978: FutureWarning: The default value of cv will change from 3 to 5 in version 0.22. Specify it explicitly to silence this warning.\n",
      "  warnings.warn(CV_WARNING, FutureWarning)\n",
      "C:\\Users\\carne\\Anaconda3\\lib\\site-packages\\sklearn\\model_selection\\_split.py:1978: FutureWarning: The default value of cv will change from 3 to 5 in version 0.22. Specify it explicitly to silence this warning.\n",
      "  warnings.warn(CV_WARNING, FutureWarning)\n",
      "C:\\Users\\carne\\Anaconda3\\lib\\site-packages\\sklearn\\model_selection\\_split.py:1978: FutureWarning: The default value of cv will change from 3 to 5 in version 0.22. Specify it explicitly to silence this warning.\n",
      "  warnings.warn(CV_WARNING, FutureWarning)\n"
     ]
    },
    {
     "data": {
      "text/plain": [
       "0.872389225656229"
      ]
     },
     "execution_count": 31,
     "metadata": {},
     "output_type": "execute_result"
    }
   ],
   "source": [
    "lasso_scores = cross_val_score(lasso, X_train_sc, y_train, cv=3)\n",
    "lasso_scores.mean()"
   ]
  },
  {
   "cell_type": "code",
   "execution_count": 32,
   "metadata": {},
   "outputs": [
    {
     "data": {
      "text/plain": [
       "0.8704616922130762"
      ]
     },
     "execution_count": 32,
     "metadata": {},
     "output_type": "execute_result"
    }
   ],
   "source": [
    "ridge_scores = cross_val_score(ridge, X_train_sc, y_train, cv=3)\n",
    "ridge_scores.mean()"
   ]
  },
  {
   "cell_type": "code",
   "execution_count": 33,
   "metadata": {},
   "outputs": [
    {
     "data": {
      "image/png": "[encoded data removed]",
      "text/plain": [
       "<Figure size 2160x720 with 1 Axes>"
      ]
     },
     "metadata": {
      "needs_background": "light"
     },
     "output_type": "display_data"
    }
   ],
   "source": [
    "# A:\n",
    "\n",
    "# Plot between true price and the predicted price\n",
    "#\n",
    "y0 = [0,600000] # this line represents an ideal prediction line\n",
    "y1 = [0,600000]\n",
    "\n",
    "f = plt.figure(figsize=(30,10))\n",
    "\n",
    "ax = f.add_subplot(121)\n",
    "ax.plot(y0, y1, 'k--', label='Perfect Prediction', color = 'red')\n",
    "ax.scatter(y_train,y_pred, label ='predicted price',\n",
    "            color = 'black')\n",
    "legend = ax.legend(loc='upper left', shadow=True, fontsize='x-large')\n",
    "\n",
    "plt.xlabel('1st Floor Square Feet', fontsize = 20)\n",
    "plt.ylabel('Predicted Price', fontsize = 20)\n",
    "\n",
    "# Put a background color on the legend.\n",
    "legend.get_frame().set_facecolor('grey')\n",
    "\n",
    "# Create a title.\n",
    "plt.title('True Price vs Predicted Price', fontsize = 24);"
   ]
  },
  {
   "cell_type": "code",
   "execution_count": null,
   "metadata": {},
   "outputs": [],
   "source": []
  },
  {
   "cell_type": "code",
   "execution_count": 34,
   "metadata": {},
   "outputs": [
    {
     "data": {
      "text/html": [
       "<table class=\"simpletable\">\n",
       "<caption>OLS Regression Results</caption>\n",
       "<tr>\n",
       "  <th>Dep. Variable:</th>        <td>SalePrice</td>    <th>  R-squared:         </th> <td>   0.913</td> \n",
       "</tr>\n",
       "<tr>\n",
       "  <th>Model:</th>                   <td>OLS</td>       <th>  Adj. R-squared:    </th> <td>   0.903</td> \n",
       "</tr>\n",
       "<tr>\n",
       "  <th>Method:</th>             <td>Least Squares</td>  <th>  F-statistic:       </th> <td>   93.68</td> \n",
       "</tr>\n",
       "<tr>\n",
       "  <th>Date:</th>             <td>Fri, 04 Oct 2019</td> <th>  Prob (F-statistic):</th>  <td>  0.00</td>  \n",
       "</tr>\n",
       "<tr>\n",
       "  <th>Time:</th>                 <td>09:40:47</td>     <th>  Log-Likelihood:    </th> <td> -23527.</td> \n",
       "</tr>\n",
       "<tr>\n",
       "  <th>No. Observations:</th>      <td>  2050</td>      <th>  AIC:               </th> <td>4.747e+04</td>\n",
       "</tr>\n",
       "<tr>\n",
       "  <th>Df Residuals:</th>          <td>  1842</td>      <th>  BIC:               </th> <td>4.864e+04</td>\n",
       "</tr>\n",
       "<tr>\n",
       "  <th>Df Model:</th>              <td>   207</td>      <th>                     </th>     <td> </td>    \n",
       "</tr>\n",
       "<tr>\n",
       "  <th>Covariance Type:</th>      <td>nonrobust</td>    <th>                     </th>     <td> </td>    \n",
       "</tr>\n",
       "</table>\n",
       "<table class=\"simpletable\">\n",
       "<tr>\n",
       "            <td></td>              <th>coef</th>     <th>std err</th>      <th>t</th>      <th>P>|t|</th>  <th>[0.025</th>    <th>0.975]</th>  \n",
       "</tr>\n",
       "<tr>\n",
       "  <th>PID</th>                  <td> 4.555e-06</td> <td> 8.63e-06</td> <td>    0.528</td> <td> 0.598</td> <td>-1.24e-05</td> <td> 2.15e-05</td>\n",
       "</tr>\n",
       "<tr>\n",
       "  <th>Lot Area</th>             <td>    0.4509</td> <td>    0.130</td> <td>    3.467</td> <td> 0.001</td> <td>    0.196</td> <td>    0.706</td>\n",
       "</tr>\n",
       "<tr>\n",
       "  <th>Overall Qual</th>         <td> 8214.8453</td> <td>  868.374</td> <td>    9.460</td> <td> 0.000</td> <td> 6511.744</td> <td> 9917.947</td>\n",
       "</tr>\n",
       "<tr>\n",
       "  <th>Year Built</th>           <td>   94.9661</td> <td>   64.079</td> <td>    1.482</td> <td> 0.139</td> <td>  -30.709</td> <td>  220.641</td>\n",
       "</tr>\n",
       "<tr>\n",
       "  <th>Year Remod/Add</th>       <td>  197.8072</td> <td>   46.981</td> <td>    4.210</td> <td> 0.000</td> <td>  105.666</td> <td>  289.948</td>\n",
       "</tr>\n",
       "<tr>\n",
       "  <th>Mas Vnr Area</th>         <td>   15.0466</td> <td>    5.369</td> <td>    2.803</td> <td> 0.005</td> <td>    4.518</td> <td>   25.576</td>\n",
       "</tr>\n",
       "<tr>\n",
       "  <th>BsmtFin SF 1</th>         <td>   -4.2979</td> <td>    6.523</td> <td>   -0.659</td> <td> 0.510</td> <td>  -17.092</td> <td>    8.496</td>\n",
       "</tr>\n",
       "<tr>\n",
       "  <th>Bsmt Unf SF</th>          <td>  -10.6762</td> <td>    6.611</td> <td>   -1.615</td> <td> 0.107</td> <td>  -23.642</td> <td>    2.290</td>\n",
       "</tr>\n",
       "<tr>\n",
       "  <th>Total Bsmt SF</th>        <td>   19.2921</td> <td>    7.138</td> <td>    2.703</td> <td> 0.007</td> <td>    5.293</td> <td>   33.291</td>\n",
       "</tr>\n",
       "<tr>\n",
       "  <th>1st Flr SF</th>           <td>    8.5540</td> <td>   13.678</td> <td>    0.625</td> <td> 0.532</td> <td>  -18.273</td> <td>   35.381</td>\n",
       "</tr>\n",
       "<tr>\n",
       "  <th>2nd Flr SF</th>           <td>   19.1920</td> <td>   12.954</td> <td>    1.482</td> <td> 0.139</td> <td>   -6.214</td> <td>   44.598</td>\n",
       "</tr>\n",
       "<tr>\n",
       "  <th>Gr Liv Area</th>          <td>   28.4488</td> <td>   13.444</td> <td>    2.116</td> <td> 0.034</td> <td>    2.081</td> <td>   54.816</td>\n",
       "</tr>\n",
       "<tr>\n",
       "  <th>Bsmt Full Bath</th>       <td> 6310.3163</td> <td> 1601.548</td> <td>    3.940</td> <td> 0.000</td> <td> 3169.276</td> <td> 9451.356</td>\n",
       "</tr>\n",
       "<tr>\n",
       "  <th>Full Bath</th>            <td> 6010.4323</td> <td> 1860.747</td> <td>    3.230</td> <td> 0.001</td> <td> 2361.037</td> <td> 9659.827</td>\n",
       "</tr>\n",
       "<tr>\n",
       "  <th>Half Bath</th>            <td> 1988.8987</td> <td> 1779.204</td> <td>    1.118</td> <td> 0.264</td> <td>-1500.571</td> <td> 5478.368</td>\n",
       "</tr>\n",
       "<tr>\n",
       "  <th>Bedroom AbvGr</th>        <td> -776.7546</td> <td> 1145.883</td> <td>   -0.678</td> <td> 0.498</td> <td>-3024.121</td> <td> 1470.612</td>\n",
       "</tr>\n",
       "<tr>\n",
       "  <th>Kitchen AbvGr</th>        <td>-1.118e+04</td> <td> 5351.937</td> <td>   -2.088</td> <td> 0.037</td> <td>-2.17e+04</td> <td> -680.003</td>\n",
       "</tr>\n",
       "<tr>\n",
       "  <th>TotRms AbvGrd</th>        <td>  566.6477</td> <td>  806.470</td> <td>    0.703</td> <td> 0.482</td> <td>-1015.044</td> <td> 2148.339</td>\n",
       "</tr>\n",
       "<tr>\n",
       "  <th>Fireplaces</th>           <td> 5094.7517</td> <td> 1197.538</td> <td>    4.254</td> <td> 0.000</td> <td> 2746.078</td> <td> 7443.426</td>\n",
       "</tr>\n",
       "<tr>\n",
       "  <th>Garage Yr Blt</th>        <td>  -74.3183</td> <td>   49.175</td> <td>   -1.511</td> <td> 0.131</td> <td> -170.762</td> <td>   22.126</td>\n",
       "</tr>\n",
       "<tr>\n",
       "  <th>Garage Cars</th>          <td> 7530.6587</td> <td> 2031.424</td> <td>    3.707</td> <td> 0.000</td> <td> 3546.523</td> <td> 1.15e+04</td>\n",
       "</tr>\n",
       "<tr>\n",
       "  <th>Garage Area</th>          <td>    9.2538</td> <td>    7.127</td> <td>    1.298</td> <td> 0.194</td> <td>   -4.724</td> <td>   23.232</td>\n",
       "</tr>\n",
       "<tr>\n",
       "  <th>Wood Deck SF</th>         <td>    8.1267</td> <td>    5.085</td> <td>    1.598</td> <td> 0.110</td> <td>   -1.847</td> <td>   18.100</td>\n",
       "</tr>\n",
       "<tr>\n",
       "  <th>Open Porch SF</th>        <td>  -10.9656</td> <td>    9.925</td> <td>   -1.105</td> <td> 0.269</td> <td>  -30.431</td> <td>    8.500</td>\n",
       "</tr>\n",
       "<tr>\n",
       "  <th>Enclosed Porch</th>       <td>    7.5313</td> <td>   11.089</td> <td>    0.679</td> <td> 0.497</td> <td>  -14.217</td> <td>   29.280</td>\n",
       "</tr>\n",
       "<tr>\n",
       "  <th>Screen Porch</th>         <td>   68.9612</td> <td>   10.630</td> <td>    6.487</td> <td> 0.000</td> <td>   48.113</td> <td>   89.809</td>\n",
       "</tr>\n",
       "<tr>\n",
       "  <th>Street_Grvl</th>          <td>-6.266e+04</td> <td> 1.65e+04</td> <td>   -3.801</td> <td> 0.000</td> <td> -9.5e+04</td> <td>-3.03e+04</td>\n",
       "</tr>\n",
       "<tr>\n",
       "  <th>Street_Pave</th>          <td>-5.586e+04</td> <td> 1.63e+04</td> <td>   -3.417</td> <td> 0.001</td> <td>-8.79e+04</td> <td>-2.38e+04</td>\n",
       "</tr>\n",
       "<tr>\n",
       "  <th>Lot Shape_IR1</th>        <td> -2.34e+04</td> <td> 7965.851</td> <td>   -2.937</td> <td> 0.003</td> <td> -3.9e+04</td> <td>-7771.991</td>\n",
       "</tr>\n",
       "<tr>\n",
       "  <th>Lot Shape_IR2</th>        <td>-1.966e+04</td> <td> 8524.010</td> <td>   -2.307</td> <td> 0.021</td> <td>-3.64e+04</td> <td>-2947.078</td>\n",
       "</tr>\n",
       "<tr>\n",
       "  <th>Lot Shape_IR3</th>        <td>-5.246e+04</td> <td> 1.05e+04</td> <td>   -4.978</td> <td> 0.000</td> <td>-7.31e+04</td> <td>-3.18e+04</td>\n",
       "</tr>\n",
       "<tr>\n",
       "  <th>Lot Shape_Reg</th>        <td>-2.299e+04</td> <td> 7990.505</td> <td>   -2.877</td> <td> 0.004</td> <td>-3.87e+04</td> <td>-7320.339</td>\n",
       "</tr>\n",
       "<tr>\n",
       "  <th>Land Contour_Bnk</th>     <td>-3.863e+04</td> <td> 8088.061</td> <td>   -4.776</td> <td> 0.000</td> <td>-5.45e+04</td> <td>-2.28e+04</td>\n",
       "</tr>\n",
       "<tr>\n",
       "  <th>Land Contour_HLS</th>     <td>-2.163e+04</td> <td> 8348.477</td> <td>   -2.591</td> <td> 0.010</td> <td> -3.8e+04</td> <td>-5255.308</td>\n",
       "</tr>\n",
       "<tr>\n",
       "  <th>Land Contour_Low</th>     <td>-2.941e+04</td> <td> 8559.954</td> <td>   -3.435</td> <td> 0.001</td> <td>-4.62e+04</td> <td>-1.26e+04</td>\n",
       "</tr>\n",
       "<tr>\n",
       "  <th>Land Contour_Lvl</th>     <td>-2.885e+04</td> <td> 7955.209</td> <td>   -3.627</td> <td> 0.000</td> <td>-4.45e+04</td> <td>-1.32e+04</td>\n",
       "</tr>\n",
       "<tr>\n",
       "  <th>Utilities_AllPub</th>     <td> 3.466e+04</td> <td> 2.67e+04</td> <td>    1.297</td> <td> 0.195</td> <td>-1.77e+04</td> <td> 8.71e+04</td>\n",
       "</tr>\n",
       "<tr>\n",
       "  <th>Utilities_NoSewr</th>     <td> 3.958e+04</td> <td> 3.97e+04</td> <td>    0.997</td> <td> 0.319</td> <td>-3.83e+04</td> <td> 1.17e+05</td>\n",
       "</tr>\n",
       "<tr>\n",
       "  <th>Lot Config_Corner</th>    <td>-2.237e+04</td> <td> 6480.963</td> <td>   -3.452</td> <td> 0.001</td> <td>-3.51e+04</td> <td>-9660.223</td>\n",
       "</tr>\n",
       "<tr>\n",
       "  <th>Lot Config_CulDSac</th>   <td>-1.474e+04</td> <td> 6771.959</td> <td>   -2.177</td> <td> 0.030</td> <td> -2.8e+04</td> <td>-1462.132</td>\n",
       "</tr>\n",
       "<tr>\n",
       "  <th>Lot Config_FR2</th>       <td>-2.568e+04</td> <td> 6991.564</td> <td>   -3.674</td> <td> 0.000</td> <td>-3.94e+04</td> <td> -1.2e+04</td>\n",
       "</tr>\n",
       "<tr>\n",
       "  <th>Lot Config_FR3</th>       <td>-3.322e+04</td> <td> 9838.568</td> <td>   -3.377</td> <td> 0.001</td> <td>-5.25e+04</td> <td>-1.39e+04</td>\n",
       "</tr>\n",
       "<tr>\n",
       "  <th>Lot Config_Inside</th>    <td> -2.25e+04</td> <td> 6478.561</td> <td>   -3.473</td> <td> 0.001</td> <td>-3.52e+04</td> <td>-9790.769</td>\n",
       "</tr>\n",
       "<tr>\n",
       "  <th>Land Slope_Gtl</th>       <td>-4.323e+04</td> <td>  1.1e+04</td> <td>   -3.914</td> <td> 0.000</td> <td>-6.49e+04</td> <td>-2.16e+04</td>\n",
       "</tr>\n",
       "<tr>\n",
       "  <th>Land Slope_Mod</th>       <td> -3.99e+04</td> <td> 1.11e+04</td> <td>   -3.601</td> <td> 0.000</td> <td>-6.16e+04</td> <td>-1.82e+04</td>\n",
       "</tr>\n",
       "<tr>\n",
       "  <th>Land Slope_Sev</th>       <td>-3.538e+04</td> <td>  1.2e+04</td> <td>   -2.956</td> <td> 0.003</td> <td>-5.89e+04</td> <td>-1.19e+04</td>\n",
       "</tr>\n",
       "<tr>\n",
       "  <th>Neighborhood_Blmngtn</th> <td>-6.971e+04</td> <td> 1.63e+04</td> <td>   -4.273</td> <td> 0.000</td> <td>-1.02e+05</td> <td>-3.77e+04</td>\n",
       "</tr>\n",
       "<tr>\n",
       "  <th>Neighborhood_Blueste</th> <td>-7.477e+04</td> <td> 1.82e+04</td> <td>   -4.109</td> <td> 0.000</td> <td> -1.1e+05</td> <td>-3.91e+04</td>\n",
       "</tr>\n",
       "<tr>\n",
       "  <th>Neighborhood_BrDale</th>  <td>-6.336e+04</td> <td> 1.66e+04</td> <td>   -3.816</td> <td> 0.000</td> <td>-9.59e+04</td> <td>-3.08e+04</td>\n",
       "</tr>\n",
       "<tr>\n",
       "  <th>Neighborhood_BrkSide</th> <td>-8.557e+04</td> <td> 1.56e+04</td> <td>   -5.482</td> <td> 0.000</td> <td>-1.16e+05</td> <td> -5.5e+04</td>\n",
       "</tr>\n",
       "<tr>\n",
       "  <th>Neighborhood_ClearCr</th> <td>-8.208e+04</td> <td>  1.6e+04</td> <td>   -5.133</td> <td> 0.000</td> <td>-1.13e+05</td> <td>-5.07e+04</td>\n",
       "</tr>\n",
       "<tr>\n",
       "  <th>Neighborhood_CollgCr</th> <td>-8.378e+04</td> <td> 1.51e+04</td> <td>   -5.553</td> <td> 0.000</td> <td>-1.13e+05</td> <td>-5.42e+04</td>\n",
       "</tr>\n",
       "<tr>\n",
       "  <th>Neighborhood_Crawfor</th> <td>-6.896e+04</td> <td> 1.54e+04</td> <td>   -4.477</td> <td> 0.000</td> <td>-9.92e+04</td> <td>-3.88e+04</td>\n",
       "</tr>\n",
       "<tr>\n",
       "  <th>Neighborhood_Edwards</th> <td>-9.648e+04</td> <td> 1.52e+04</td> <td>   -6.361</td> <td> 0.000</td> <td>-1.26e+05</td> <td>-6.67e+04</td>\n",
       "</tr>\n",
       "<tr>\n",
       "  <th>Neighborhood_Gilbert</th> <td>-8.543e+04</td> <td> 1.55e+04</td> <td>   -5.497</td> <td> 0.000</td> <td>-1.16e+05</td> <td>-5.49e+04</td>\n",
       "</tr>\n",
       "<tr>\n",
       "  <th>Neighborhood_Greens</th>  <td>-5.821e+04</td> <td> 2.15e+04</td> <td>   -2.709</td> <td> 0.007</td> <td>   -1e+05</td> <td>-1.61e+04</td>\n",
       "</tr>\n",
       "<tr>\n",
       "  <th>Neighborhood_IDOTRR</th>  <td>-9.188e+04</td> <td> 1.56e+04</td> <td>   -5.877</td> <td> 0.000</td> <td>-1.23e+05</td> <td>-6.12e+04</td>\n",
       "</tr>\n",
       "<tr>\n",
       "  <th>Neighborhood_MeadowV</th> <td>-7.226e+04</td> <td> 1.63e+04</td> <td>   -4.442</td> <td> 0.000</td> <td>-1.04e+05</td> <td>-4.04e+04</td>\n",
       "</tr>\n",
       "<tr>\n",
       "  <th>Neighborhood_Mitchel</th> <td>-8.502e+04</td> <td> 1.52e+04</td> <td>   -5.577</td> <td> 0.000</td> <td>-1.15e+05</td> <td>-5.51e+04</td>\n",
       "</tr>\n",
       "<tr>\n",
       "  <th>Neighborhood_NAmes</th>   <td>-8.711e+04</td> <td> 1.55e+04</td> <td>   -5.620</td> <td> 0.000</td> <td>-1.18e+05</td> <td>-5.67e+04</td>\n",
       "</tr>\n",
       "<tr>\n",
       "  <th>Neighborhood_NPkVill</th> <td>-7.197e+04</td> <td> 2.12e+04</td> <td>   -3.387</td> <td> 0.001</td> <td>-1.14e+05</td> <td>-3.03e+04</td>\n",
       "</tr>\n",
       "<tr>\n",
       "  <th>Neighborhood_NWAmes</th>  <td>-8.566e+04</td> <td> 1.57e+04</td> <td>   -5.468</td> <td> 0.000</td> <td>-1.16e+05</td> <td>-5.49e+04</td>\n",
       "</tr>\n",
       "<tr>\n",
       "  <th>Neighborhood_NoRidge</th> <td>-4.531e+04</td> <td> 1.59e+04</td> <td>   -2.848</td> <td> 0.004</td> <td>-7.65e+04</td> <td>-1.41e+04</td>\n",
       "</tr>\n",
       "<tr>\n",
       "  <th>Neighborhood_NridgHt</th> <td>-4.357e+04</td> <td> 1.55e+04</td> <td>   -2.807</td> <td> 0.005</td> <td> -7.4e+04</td> <td>-1.31e+04</td>\n",
       "</tr>\n",
       "<tr>\n",
       "  <th>Neighborhood_OldTown</th> <td>-9.511e+04</td> <td> 1.54e+04</td> <td>   -6.165</td> <td> 0.000</td> <td>-1.25e+05</td> <td>-6.49e+04</td>\n",
       "</tr>\n",
       "<tr>\n",
       "  <th>Neighborhood_SWISU</th>   <td>-8.746e+04</td> <td>  1.6e+04</td> <td>   -5.469</td> <td> 0.000</td> <td>-1.19e+05</td> <td>-5.61e+04</td>\n",
       "</tr>\n",
       "<tr>\n",
       "  <th>Neighborhood_Sawyer</th>  <td>-8.511e+04</td> <td> 1.53e+04</td> <td>   -5.554</td> <td> 0.000</td> <td>-1.15e+05</td> <td>-5.51e+04</td>\n",
       "</tr>\n",
       "<tr>\n",
       "  <th>Neighborhood_SawyerW</th> <td>-8.378e+04</td> <td> 1.53e+04</td> <td>   -5.471</td> <td> 0.000</td> <td>-1.14e+05</td> <td>-5.37e+04</td>\n",
       "</tr>\n",
       "<tr>\n",
       "  <th>Neighborhood_Somerst</th> <td>-6.343e+04</td> <td> 1.54e+04</td> <td>   -4.111</td> <td> 0.000</td> <td>-9.37e+04</td> <td>-3.32e+04</td>\n",
       "</tr>\n",
       "<tr>\n",
       "  <th>Neighborhood_StoneBr</th> <td> -3.16e+04</td> <td> 1.59e+04</td> <td>   -1.985</td> <td> 0.047</td> <td>-6.28e+04</td> <td> -384.868</td>\n",
       "</tr>\n",
       "<tr>\n",
       "  <th>Neighborhood_Timber</th>  <td>-7.928e+04</td> <td> 1.54e+04</td> <td>   -5.145</td> <td> 0.000</td> <td> -1.1e+05</td> <td>-4.91e+04</td>\n",
       "</tr>\n",
       "<tr>\n",
       "  <th>Neighborhood_Veenker</th> <td> -7.39e+04</td> <td> 1.67e+04</td> <td>   -4.414</td> <td> 0.000</td> <td>-1.07e+05</td> <td>-4.11e+04</td>\n",
       "</tr>\n",
       "<tr>\n",
       "  <th>Condition 1_Artery</th>   <td>-1.633e+04</td> <td> 5100.796</td> <td>   -3.201</td> <td> 0.001</td> <td>-2.63e+04</td> <td>-6322.299</td>\n",
       "</tr>\n",
       "<tr>\n",
       "  <th>Condition 1_Feedr</th>    <td>-1.432e+04</td> <td> 4764.064</td> <td>   -3.005</td> <td> 0.003</td> <td>-2.37e+04</td> <td>-4973.816</td>\n",
       "</tr>\n",
       "<tr>\n",
       "  <th>Condition 1_Norm</th>     <td>-7086.1354</td> <td> 4338.012</td> <td>   -1.633</td> <td> 0.103</td> <td>-1.56e+04</td> <td> 1421.803</td>\n",
       "</tr>\n",
       "<tr>\n",
       "  <th>Condition 1_PosA</th>     <td>  566.2259</td> <td> 8503.100</td> <td>    0.067</td> <td> 0.947</td> <td>-1.61e+04</td> <td> 1.72e+04</td>\n",
       "</tr>\n",
       "<tr>\n",
       "  <th>Condition 1_PosN</th>     <td> 2210.7006</td> <td> 6359.480</td> <td>    0.348</td> <td> 0.728</td> <td>-1.03e+04</td> <td> 1.47e+04</td>\n",
       "</tr>\n",
       "<tr>\n",
       "  <th>Condition 1_RRAe</th>     <td>-2.404e+04</td> <td> 6901.351</td> <td>   -3.483</td> <td> 0.001</td> <td>-3.76e+04</td> <td>-1.05e+04</td>\n",
       "</tr>\n",
       "<tr>\n",
       "  <th>Condition 1_RRAn</th>     <td>-1.234e+04</td> <td> 5965.760</td> <td>   -2.068</td> <td> 0.039</td> <td> -2.4e+04</td> <td> -637.872</td>\n",
       "</tr>\n",
       "<tr>\n",
       "  <th>Condition 1_RRNe</th>     <td>-2.774e+04</td> <td> 1.44e+04</td> <td>   -1.922</td> <td> 0.055</td> <td>-5.61e+04</td> <td>  567.651</td>\n",
       "</tr>\n",
       "<tr>\n",
       "  <th>Condition 1_RRNn</th>     <td>-1.944e+04</td> <td> 1.04e+04</td> <td>   -1.867</td> <td> 0.062</td> <td>-3.99e+04</td> <td>  977.731</td>\n",
       "</tr>\n",
       "<tr>\n",
       "  <th>Condition 2_Feedr</th>    <td> 4754.0801</td> <td> 1.22e+04</td> <td>    0.389</td> <td> 0.697</td> <td>-1.92e+04</td> <td> 2.87e+04</td>\n",
       "</tr>\n",
       "<tr>\n",
       "  <th>Condition 2_Norm</th>     <td>  741.5916</td> <td> 9299.442</td> <td>    0.080</td> <td> 0.936</td> <td>-1.75e+04</td> <td>  1.9e+04</td>\n",
       "</tr>\n",
       "<tr>\n",
       "  <th>Condition 2_PosA</th>     <td> 1.534e+04</td> <td>  1.9e+04</td> <td>    0.806</td> <td> 0.420</td> <td> -2.2e+04</td> <td> 5.27e+04</td>\n",
       "</tr>\n",
       "<tr>\n",
       "  <th>Condition 2_PosN</th>     <td>-6444.1057</td> <td> 1.82e+04</td> <td>   -0.354</td> <td> 0.723</td> <td>-4.21e+04</td> <td> 2.92e+04</td>\n",
       "</tr>\n",
       "<tr>\n",
       "  <th>Bldg Type_1Fam</th>       <td>-6014.9341</td> <td> 6402.532</td> <td>   -0.939</td> <td> 0.348</td> <td>-1.86e+04</td> <td> 6542.050</td>\n",
       "</tr>\n",
       "<tr>\n",
       "  <th>Bldg Type_2fmCon</th>     <td>-1.395e+04</td> <td> 7216.760</td> <td>   -1.933</td> <td> 0.053</td> <td>-2.81e+04</td> <td>  206.818</td>\n",
       "</tr>\n",
       "<tr>\n",
       "  <th>Bldg Type_Duplex</th>     <td>-1.757e+04</td> <td> 7734.261</td> <td>   -2.272</td> <td> 0.023</td> <td>-3.27e+04</td> <td>-2405.936</td>\n",
       "</tr>\n",
       "<tr>\n",
       "  <th>Bldg Type_Twnhs</th>      <td> -4.41e+04</td> <td> 7411.712</td> <td>   -5.950</td> <td> 0.000</td> <td>-5.86e+04</td> <td>-2.96e+04</td>\n",
       "</tr>\n",
       "<tr>\n",
       "  <th>Bldg Type_TwnhsE</th>     <td>-3.688e+04</td> <td> 6825.231</td> <td>   -5.403</td> <td> 0.000</td> <td>-5.03e+04</td> <td>-2.35e+04</td>\n",
       "</tr>\n",
       "<tr>\n",
       "  <th>House Style_1.5Fin</th>   <td>-1.629e+04</td> <td> 4654.193</td> <td>   -3.499</td> <td> 0.000</td> <td>-2.54e+04</td> <td>-7157.077</td>\n",
       "</tr>\n",
       "<tr>\n",
       "  <th>House Style_1.5Unf</th>   <td>-9756.5367</td> <td> 8257.123</td> <td>   -1.182</td> <td> 0.238</td> <td> -2.6e+04</td> <td> 6437.768</td>\n",
       "</tr>\n",
       "<tr>\n",
       "  <th>House Style_1Story</th>   <td>-9095.3232</td> <td> 5217.830</td> <td>   -1.743</td> <td> 0.081</td> <td>-1.93e+04</td> <td> 1138.159</td>\n",
       "</tr>\n",
       "<tr>\n",
       "  <th>House Style_2.5Fin</th>   <td>-1.789e+04</td> <td> 1.17e+04</td> <td>   -1.523</td> <td> 0.128</td> <td>-4.09e+04</td> <td> 5141.693</td>\n",
       "</tr>\n",
       "<tr>\n",
       "  <th>House Style_2.5Unf</th>   <td>-9765.0586</td> <td> 7848.735</td> <td>   -1.244</td> <td> 0.214</td> <td>-2.52e+04</td> <td> 5628.295</td>\n",
       "</tr>\n",
       "<tr>\n",
       "  <th>House Style_2Story</th>   <td>-2.184e+04</td> <td> 4785.821</td> <td>   -4.564</td> <td> 0.000</td> <td>-3.12e+04</td> <td>-1.25e+04</td>\n",
       "</tr>\n",
       "<tr>\n",
       "  <th>House Style_SFoyer</th>   <td>-1.396e+04</td> <td> 6275.905</td> <td>   -2.225</td> <td> 0.026</td> <td>-2.63e+04</td> <td>-1655.382</td>\n",
       "</tr>\n",
       "<tr>\n",
       "  <th>House Style_SLvl</th>     <td>-1.992e+04</td> <td> 5423.847</td> <td>   -3.672</td> <td> 0.000</td> <td>-3.06e+04</td> <td>-9278.821</td>\n",
       "</tr>\n",
       "<tr>\n",
       "  <th>Roof Style_Flat</th>      <td> 2.097e+04</td> <td> 1.19e+04</td> <td>    1.768</td> <td> 0.077</td> <td>-2293.888</td> <td> 4.42e+04</td>\n",
       "</tr>\n",
       "<tr>\n",
       "  <th>Roof Style_Gable</th>     <td>-1.782e+04</td> <td> 6719.788</td> <td>   -2.652</td> <td> 0.008</td> <td> -3.1e+04</td> <td>-4641.298</td>\n",
       "</tr>\n",
       "<tr>\n",
       "  <th>Roof Style_Gambrel</th>   <td>-1.955e+04</td> <td> 9032.655</td> <td>   -2.164</td> <td> 0.031</td> <td>-3.73e+04</td> <td>-1833.628</td>\n",
       "</tr>\n",
       "<tr>\n",
       "  <th>Roof Style_Hip</th>       <td>-1.577e+04</td> <td> 6795.752</td> <td>   -2.320</td> <td> 0.020</td> <td>-2.91e+04</td> <td>-2441.081</td>\n",
       "</tr>\n",
       "<tr>\n",
       "  <th>Roof Style_Mansard</th>   <td>-5.307e+04</td> <td> 1.12e+04</td> <td>   -4.743</td> <td> 0.000</td> <td> -7.5e+04</td> <td>-3.11e+04</td>\n",
       "</tr>\n",
       "<tr>\n",
       "  <th>Roof Style_Shed</th>      <td>-3.327e+04</td> <td> 1.53e+04</td> <td>   -2.175</td> <td> 0.030</td> <td>-6.33e+04</td> <td>-3263.341</td>\n",
       "</tr>\n",
       "<tr>\n",
       "  <th>Roof Matl_CompShg</th>    <td> 2.176e+05</td> <td> 2.19e+04</td> <td>    9.935</td> <td> 0.000</td> <td> 1.75e+05</td> <td> 2.61e+05</td>\n",
       "</tr>\n",
       "<tr>\n",
       "  <th>Roof Matl_Tar&Grv</th>    <td> 1.828e+05</td> <td>  2.2e+04</td> <td>    8.321</td> <td> 0.000</td> <td>  1.4e+05</td> <td> 2.26e+05</td>\n",
       "</tr>\n",
       "<tr>\n",
       "  <th>Roof Matl_WdShake</th>    <td> 2.338e+05</td> <td> 2.63e+04</td> <td>    8.901</td> <td> 0.000</td> <td> 1.82e+05</td> <td> 2.85e+05</td>\n",
       "</tr>\n",
       "<tr>\n",
       "  <th>Roof Matl_WdShngl</th>    <td> 2.669e+05</td> <td> 2.49e+04</td> <td>   10.713</td> <td> 0.000</td> <td> 2.18e+05</td> <td> 3.16e+05</td>\n",
       "</tr>\n",
       "<tr>\n",
       "  <th>Exterior 1st_AsbShng</th> <td> 1.198e+04</td> <td> 1.68e+04</td> <td>    0.713</td> <td> 0.476</td> <td> -2.1e+04</td> <td>  4.5e+04</td>\n",
       "</tr>\n",
       "<tr>\n",
       "  <th>Exterior 1st_AsphShn</th> <td>-1.295e+04</td> <td> 3.59e+04</td> <td>   -0.360</td> <td> 0.719</td> <td>-8.34e+04</td> <td> 5.75e+04</td>\n",
       "</tr>\n",
       "<tr>\n",
       "  <th>Exterior 1st_BrkComm</th> <td>-2.114e+04</td> <td> 2.67e+04</td> <td>   -0.792</td> <td> 0.428</td> <td>-7.35e+04</td> <td> 3.12e+04</td>\n",
       "</tr>\n",
       "<tr>\n",
       "  <th>Exterior 1st_BrkFace</th> <td> 2.704e+04</td> <td> 1.49e+04</td> <td>    1.816</td> <td> 0.069</td> <td>-2157.857</td> <td> 5.62e+04</td>\n",
       "</tr>\n",
       "<tr>\n",
       "  <th>Exterior 1st_CemntBd</th> <td> 3.164e+04</td> <td> 2.42e+04</td> <td>    1.306</td> <td> 0.192</td> <td>-1.59e+04</td> <td> 7.92e+04</td>\n",
       "</tr>\n",
       "<tr>\n",
       "  <th>Exterior 1st_HdBoard</th> <td> 3083.9428</td> <td> 1.46e+04</td> <td>    0.211</td> <td> 0.833</td> <td>-2.56e+04</td> <td> 3.18e+04</td>\n",
       "</tr>\n",
       "<tr>\n",
       "  <th>Exterior 1st_MetalSd</th> <td> 7159.5819</td> <td> 1.63e+04</td> <td>    0.439</td> <td> 0.661</td> <td>-2.49e+04</td> <td> 3.92e+04</td>\n",
       "</tr>\n",
       "<tr>\n",
       "  <th>Exterior 1st_Plywood</th> <td> 7093.4919</td> <td> 1.48e+04</td> <td>    0.481</td> <td> 0.631</td> <td>-2.18e+04</td> <td>  3.6e+04</td>\n",
       "</tr>\n",
       "<tr>\n",
       "  <th>Exterior 1st_Stucco</th>  <td> 1717.7068</td> <td> 1.59e+04</td> <td>    0.108</td> <td> 0.914</td> <td>-2.95e+04</td> <td> 3.29e+04</td>\n",
       "</tr>\n",
       "<tr>\n",
       "  <th>Exterior 1st_VinylSd</th> <td>  555.2858</td> <td> 1.49e+04</td> <td>    0.037</td> <td> 0.970</td> <td>-2.87e+04</td> <td> 2.98e+04</td>\n",
       "</tr>\n",
       "<tr>\n",
       "  <th>Exterior 1st_Wd Sdng</th> <td>-1121.9604</td> <td> 1.47e+04</td> <td>   -0.076</td> <td> 0.939</td> <td>   -3e+04</td> <td> 2.77e+04</td>\n",
       "</tr>\n",
       "<tr>\n",
       "  <th>Exterior 1st_WdShing</th> <td> 4451.5017</td> <td>  1.5e+04</td> <td>    0.296</td> <td> 0.767</td> <td> -2.5e+04</td> <td> 3.39e+04</td>\n",
       "</tr>\n",
       "<tr>\n",
       "  <th>Exterior 2nd_AsbShng</th> <td> 3156.5391</td> <td> 1.53e+04</td> <td>    0.207</td> <td> 0.836</td> <td>-2.68e+04</td> <td> 3.31e+04</td>\n",
       "</tr>\n",
       "<tr>\n",
       "  <th>Exterior 2nd_AsphShn</th> <td> 3.901e+04</td> <td> 2.28e+04</td> <td>    1.711</td> <td> 0.087</td> <td>-5694.080</td> <td> 8.37e+04</td>\n",
       "</tr>\n",
       "<tr>\n",
       "  <th>Exterior 2nd_Brk Cmn</th> <td>  2.51e+04</td> <td> 2.06e+04</td> <td>    1.217</td> <td> 0.224</td> <td>-1.53e+04</td> <td> 6.55e+04</td>\n",
       "</tr>\n",
       "<tr>\n",
       "  <th>Exterior 2nd_BrkFace</th> <td> 3508.7032</td> <td> 1.27e+04</td> <td>    0.277</td> <td> 0.782</td> <td>-2.14e+04</td> <td> 2.84e+04</td>\n",
       "</tr>\n",
       "<tr>\n",
       "  <th>Exterior 2nd_CBlock</th>  <td> 1.968e+04</td> <td> 3.11e+04</td> <td>    0.633</td> <td> 0.527</td> <td>-4.13e+04</td> <td> 8.06e+04</td>\n",
       "</tr>\n",
       "<tr>\n",
       "  <th>Exterior 2nd_CmentBd</th> <td>-1.221e+04</td> <td> 2.28e+04</td> <td>   -0.535</td> <td> 0.593</td> <td> -5.7e+04</td> <td> 3.25e+04</td>\n",
       "</tr>\n",
       "<tr>\n",
       "  <th>Exterior 2nd_HdBoard</th> <td>  1.24e+04</td> <td> 1.27e+04</td> <td>    0.979</td> <td> 0.328</td> <td>-1.24e+04</td> <td> 3.72e+04</td>\n",
       "</tr>\n",
       "<tr>\n",
       "  <th>Exterior 2nd_ImStucc</th> <td> 8408.9229</td> <td> 1.43e+04</td> <td>    0.588</td> <td> 0.557</td> <td>-1.96e+04</td> <td> 3.65e+04</td>\n",
       "</tr>\n",
       "<tr>\n",
       "  <th>Exterior 2nd_MetalSd</th> <td> 1.499e+04</td> <td> 1.41e+04</td> <td>    1.064</td> <td> 0.287</td> <td>-1.26e+04</td> <td> 4.26e+04</td>\n",
       "</tr>\n",
       "<tr>\n",
       "  <th>Exterior 2nd_Plywood</th> <td> 1.284e+04</td> <td> 1.26e+04</td> <td>    1.022</td> <td> 0.307</td> <td>-1.18e+04</td> <td> 3.75e+04</td>\n",
       "</tr>\n",
       "<tr>\n",
       "  <th>Exterior 2nd_Stucco</th>  <td> 7767.9395</td> <td> 1.32e+04</td> <td>    0.588</td> <td> 0.556</td> <td>-1.81e+04</td> <td> 3.37e+04</td>\n",
       "</tr>\n",
       "<tr>\n",
       "  <th>Exterior 2nd_VinylSd</th> <td> 2.024e+04</td> <td> 1.33e+04</td> <td>    1.522</td> <td> 0.128</td> <td>-5834.907</td> <td> 4.63e+04</td>\n",
       "</tr>\n",
       "<tr>\n",
       "  <th>Exterior 2nd_Wd Sdng</th> <td> 1.865e+04</td> <td> 1.23e+04</td> <td>    1.520</td> <td> 0.129</td> <td>-5418.973</td> <td> 4.27e+04</td>\n",
       "</tr>\n",
       "<tr>\n",
       "  <th>Exterior 2nd_Wd Shng</th> <td> 1.236e+04</td> <td> 1.28e+04</td> <td>    0.970</td> <td> 0.332</td> <td>-1.26e+04</td> <td> 3.74e+04</td>\n",
       "</tr>\n",
       "<tr>\n",
       "  <th>Mas Vnr Type_BrkCmn</th>  <td>-3.992e+04</td> <td> 9687.267</td> <td>   -4.120</td> <td> 0.000</td> <td>-5.89e+04</td> <td>-2.09e+04</td>\n",
       "</tr>\n",
       "<tr>\n",
       "  <th>Mas Vnr Type_BrkFace</th> <td>-2.739e+04</td> <td> 7962.693</td> <td>   -3.439</td> <td> 0.001</td> <td> -4.3e+04</td> <td>-1.18e+04</td>\n",
       "</tr>\n",
       "<tr>\n",
       "  <th>Mas Vnr Type_None</th>    <td> -2.61e+04</td> <td> 7896.397</td> <td>   -3.305</td> <td> 0.001</td> <td>-4.16e+04</td> <td>-1.06e+04</td>\n",
       "</tr>\n",
       "<tr>\n",
       "  <th>Mas Vnr Type_Stone</th>   <td>-2.512e+04</td> <td> 8094.598</td> <td>   -3.103</td> <td> 0.002</td> <td> -4.1e+04</td> <td>-9241.365</td>\n",
       "</tr>\n",
       "<tr>\n",
       "  <th>Exter Qual_Ex</th>        <td>-1.198e+04</td> <td> 8609.677</td> <td>   -1.392</td> <td> 0.164</td> <td>-2.89e+04</td> <td> 4902.734</td>\n",
       "</tr>\n",
       "<tr>\n",
       "  <th>Exter Qual_Fa</th>        <td>-3.379e+04</td> <td> 9354.571</td> <td>   -3.612</td> <td> 0.000</td> <td>-5.21e+04</td> <td>-1.54e+04</td>\n",
       "</tr>\n",
       "<tr>\n",
       "  <th>Exter Qual_Gd</th>        <td> -3.42e+04</td> <td> 8067.671</td> <td>   -4.239</td> <td> 0.000</td> <td>   -5e+04</td> <td>-1.84e+04</td>\n",
       "</tr>\n",
       "<tr>\n",
       "  <th>Exter Qual_TA</th>        <td>-3.855e+04</td> <td> 7858.121</td> <td>   -4.905</td> <td> 0.000</td> <td> -5.4e+04</td> <td>-2.31e+04</td>\n",
       "</tr>\n",
       "<tr>\n",
       "  <th>Exter Cond_Ex</th>        <td>-1.833e+04</td> <td> 1.13e+04</td> <td>   -1.622</td> <td> 0.105</td> <td>-4.05e+04</td> <td> 3840.305</td>\n",
       "</tr>\n",
       "<tr>\n",
       "  <th>Exter Cond_Fa</th>        <td>-2.912e+04</td> <td> 8503.232</td> <td>   -3.424</td> <td> 0.001</td> <td>-4.58e+04</td> <td>-1.24e+04</td>\n",
       "</tr>\n",
       "<tr>\n",
       "  <th>Exter Cond_Gd</th>        <td>-2.151e+04</td> <td> 8142.258</td> <td>   -2.642</td> <td> 0.008</td> <td>-3.75e+04</td> <td>-5542.519</td>\n",
       "</tr>\n",
       "<tr>\n",
       "  <th>Exter Cond_Po</th>        <td>-2.694e+04</td> <td>  1.9e+04</td> <td>   -1.415</td> <td> 0.157</td> <td>-6.43e+04</td> <td> 1.04e+04</td>\n",
       "</tr>\n",
       "<tr>\n",
       "  <th>Exter Cond_TA</th>        <td>-2.262e+04</td> <td> 8054.174</td> <td>   -2.809</td> <td> 0.005</td> <td>-3.84e+04</td> <td>-6827.243</td>\n",
       "</tr>\n",
       "<tr>\n",
       "  <th>Foundation_BrkTil</th>    <td>-2.535e+04</td> <td> 6439.757</td> <td>   -3.936</td> <td> 0.000</td> <td> -3.8e+04</td> <td>-1.27e+04</td>\n",
       "</tr>\n",
       "<tr>\n",
       "  <th>Foundation_CBlock</th>    <td>-2.184e+04</td> <td> 6387.283</td> <td>   -3.419</td> <td> 0.001</td> <td>-3.44e+04</td> <td>-9309.753</td>\n",
       "</tr>\n",
       "<tr>\n",
       "  <th>Foundation_PConc</th>     <td>-1.955e+04</td> <td> 6710.891</td> <td>   -2.913</td> <td> 0.004</td> <td>-3.27e+04</td> <td>-6386.102</td>\n",
       "</tr>\n",
       "<tr>\n",
       "  <th>Foundation_Slab</th>      <td>-2.099e+04</td> <td> 9135.140</td> <td>   -2.297</td> <td> 0.022</td> <td>-3.89e+04</td> <td>-3069.924</td>\n",
       "</tr>\n",
       "<tr>\n",
       "  <th>Foundation_Stone</th>     <td>-2.162e+04</td> <td> 1.23e+04</td> <td>   -1.764</td> <td> 0.078</td> <td>-4.57e+04</td> <td> 2418.965</td>\n",
       "</tr>\n",
       "<tr>\n",
       "  <th>Foundation_Wood</th>      <td>-9176.3132</td> <td> 1.65e+04</td> <td>   -0.555</td> <td> 0.579</td> <td>-4.16e+04</td> <td> 2.33e+04</td>\n",
       "</tr>\n",
       "<tr>\n",
       "  <th>Bsmt Qual_Ex</th>         <td>-1.438e+04</td> <td> 9334.415</td> <td>   -1.541</td> <td> 0.124</td> <td>-3.27e+04</td> <td> 3924.522</td>\n",
       "</tr>\n",
       "<tr>\n",
       "  <th>Bsmt Qual_Fa</th>         <td>-2.625e+04</td> <td> 8732.888</td> <td>   -3.005</td> <td> 0.003</td> <td>-4.34e+04</td> <td>-9117.995</td>\n",
       "</tr>\n",
       "<tr>\n",
       "  <th>Bsmt Qual_Gd</th>         <td>-3.004e+04</td> <td> 9001.502</td> <td>   -3.337</td> <td> 0.001</td> <td>-4.77e+04</td> <td>-1.24e+04</td>\n",
       "</tr>\n",
       "<tr>\n",
       "  <th>Bsmt Qual_Po</th>         <td>-2.062e+04</td> <td>  2.4e+04</td> <td>   -0.858</td> <td> 0.391</td> <td>-6.77e+04</td> <td> 2.65e+04</td>\n",
       "</tr>\n",
       "<tr>\n",
       "  <th>Bsmt Qual_TA</th>         <td>-2.724e+04</td> <td> 8605.712</td> <td>   -3.165</td> <td> 0.002</td> <td>-4.41e+04</td> <td>-1.04e+04</td>\n",
       "</tr>\n",
       "<tr>\n",
       "  <th>Bsmt Cond_Fa</th>         <td>-6851.4919</td> <td> 9998.800</td> <td>   -0.685</td> <td> 0.493</td> <td>-2.65e+04</td> <td> 1.28e+04</td>\n",
       "</tr>\n",
       "<tr>\n",
       "  <th>Bsmt Cond_Gd</th>         <td> -694.4160</td> <td> 9901.993</td> <td>   -0.070</td> <td> 0.944</td> <td>-2.01e+04</td> <td> 1.87e+04</td>\n",
       "</tr>\n",
       "<tr>\n",
       "  <th>Bsmt Cond_TA</th>         <td>-2294.1453</td> <td> 9523.139</td> <td>   -0.241</td> <td> 0.810</td> <td> -2.1e+04</td> <td> 1.64e+04</td>\n",
       "</tr>\n",
       "<tr>\n",
       "  <th>Bsmt Exposure_Av</th>     <td>-2.988e+04</td> <td> 7861.600</td> <td>   -3.801</td> <td> 0.000</td> <td>-4.53e+04</td> <td>-1.45e+04</td>\n",
       "</tr>\n",
       "<tr>\n",
       "  <th>Bsmt Exposure_Gd</th>     <td>  -1.7e+04</td> <td> 7980.223</td> <td>   -2.131</td> <td> 0.033</td> <td>-3.27e+04</td> <td>-1351.950</td>\n",
       "</tr>\n",
       "<tr>\n",
       "  <th>Bsmt Exposure_Mn</th>     <td>-3.598e+04</td> <td> 7853.273</td> <td>   -4.582</td> <td> 0.000</td> <td>-5.14e+04</td> <td>-2.06e+04</td>\n",
       "</tr>\n",
       "<tr>\n",
       "  <th>Bsmt Exposure_No</th>     <td>-3.565e+04</td> <td> 7769.449</td> <td>   -4.589</td> <td> 0.000</td> <td>-5.09e+04</td> <td>-2.04e+04</td>\n",
       "</tr>\n",
       "<tr>\n",
       "  <th>BsmtFin Type 1_ALQ</th>   <td>-1.758e+04</td> <td> 5446.305</td> <td>   -3.227</td> <td> 0.001</td> <td>-2.83e+04</td> <td>-6894.633</td>\n",
       "</tr>\n",
       "<tr>\n",
       "  <th>BsmtFin Type 1_BLQ</th>   <td>-1.933e+04</td> <td> 5425.257</td> <td>   -3.563</td> <td> 0.000</td> <td>   -3e+04</td> <td>-8687.750</td>\n",
       "</tr>\n",
       "<tr>\n",
       "  <th>BsmtFin Type 1_GLQ</th>   <td>-1.496e+04</td> <td> 5477.829</td> <td>   -2.732</td> <td> 0.006</td> <td>-2.57e+04</td> <td>-4221.493</td>\n",
       "</tr>\n",
       "<tr>\n",
       "  <th>BsmtFin Type 1_LwQ</th>   <td>-2.363e+04</td> <td> 5596.993</td> <td>   -4.222</td> <td> 0.000</td> <td>-3.46e+04</td> <td>-1.27e+04</td>\n",
       "</tr>\n",
       "<tr>\n",
       "  <th>BsmtFin Type 1_Rec</th>   <td>-2.111e+04</td> <td> 5437.036</td> <td>   -3.883</td> <td> 0.000</td> <td>-3.18e+04</td> <td>-1.04e+04</td>\n",
       "</tr>\n",
       "<tr>\n",
       "  <th>BsmtFin Type 1_Unf</th>   <td> -2.19e+04</td> <td> 5372.315</td> <td>   -4.077</td> <td> 0.000</td> <td>-3.24e+04</td> <td>-1.14e+04</td>\n",
       "</tr>\n",
       "<tr>\n",
       "  <th>BsmtFin Type 2_ALQ</th>   <td> 5966.1834</td> <td> 1.22e+04</td> <td>    0.490</td> <td> 0.624</td> <td>-1.79e+04</td> <td> 2.99e+04</td>\n",
       "</tr>\n",
       "<tr>\n",
       "  <th>BsmtFin Type 2_BLQ</th>   <td>  -24.4381</td> <td> 1.18e+04</td> <td>   -0.002</td> <td> 0.998</td> <td>-2.31e+04</td> <td>  2.3e+04</td>\n",
       "</tr>\n",
       "<tr>\n",
       "  <th>BsmtFin Type 2_GLQ</th>   <td> 1.845e+04</td> <td>  1.3e+04</td> <td>    1.416</td> <td> 0.157</td> <td>-7109.992</td> <td>  4.4e+04</td>\n",
       "</tr>\n",
       "<tr>\n",
       "  <th>BsmtFin Type 2_LwQ</th>   <td> -524.3107</td> <td> 1.17e+04</td> <td>   -0.045</td> <td> 0.964</td> <td>-2.34e+04</td> <td> 2.24e+04</td>\n",
       "</tr>\n",
       "<tr>\n",
       "  <th>BsmtFin Type 2_Rec</th>   <td> 1489.6331</td> <td> 1.15e+04</td> <td>    0.130</td> <td> 0.897</td> <td> -2.1e+04</td> <td>  2.4e+04</td>\n",
       "</tr>\n",
       "<tr>\n",
       "  <th>BsmtFin Type 2_Unf</th>   <td> 5403.9251</td> <td> 1.11e+04</td> <td>    0.487</td> <td> 0.626</td> <td>-1.63e+04</td> <td> 2.72e+04</td>\n",
       "</tr>\n",
       "<tr>\n",
       "  <th>Heating_GasA</th>         <td> 1.069e+04</td> <td> 1.11e+04</td> <td>    0.966</td> <td> 0.334</td> <td> -1.1e+04</td> <td> 3.24e+04</td>\n",
       "</tr>\n",
       "<tr>\n",
       "  <th>Heating_GasW</th>         <td> 1.031e+04</td> <td> 1.25e+04</td> <td>    0.828</td> <td> 0.408</td> <td>-1.41e+04</td> <td> 3.47e+04</td>\n",
       "</tr>\n",
       "<tr>\n",
       "  <th>Heating_Grav</th>         <td>-4695.4658</td> <td> 1.62e+04</td> <td>   -0.290</td> <td> 0.772</td> <td>-3.65e+04</td> <td> 2.71e+04</td>\n",
       "</tr>\n",
       "<tr>\n",
       "  <th>Heating QC_Ex</th>        <td> 1.967e+04</td> <td> 1.79e+04</td> <td>    1.099</td> <td> 0.272</td> <td>-1.54e+04</td> <td> 5.48e+04</td>\n",
       "</tr>\n",
       "<tr>\n",
       "  <th>Heating QC_Fa</th>        <td>  1.58e+04</td> <td>  1.8e+04</td> <td>    0.877</td> <td> 0.381</td> <td>-1.95e+04</td> <td> 5.11e+04</td>\n",
       "</tr>\n",
       "<tr>\n",
       "  <th>Heating QC_Gd</th>        <td> 1.859e+04</td> <td> 1.79e+04</td> <td>    1.037</td> <td> 0.300</td> <td>-1.66e+04</td> <td> 5.38e+04</td>\n",
       "</tr>\n",
       "<tr>\n",
       "  <th>Heating QC_TA</th>        <td> 1.424e+04</td> <td> 1.79e+04</td> <td>    0.795</td> <td> 0.427</td> <td>-2.09e+04</td> <td> 4.94e+04</td>\n",
       "</tr>\n",
       "<tr>\n",
       "  <th>Central Air_N</th>        <td>-5.925e+04</td> <td> 1.55e+04</td> <td>   -3.828</td> <td> 0.000</td> <td>-8.96e+04</td> <td>-2.89e+04</td>\n",
       "</tr>\n",
       "<tr>\n",
       "  <th>Central Air_Y</th>        <td>-5.927e+04</td> <td> 1.55e+04</td> <td>   -3.819</td> <td> 0.000</td> <td>-8.97e+04</td> <td>-2.88e+04</td>\n",
       "</tr>\n",
       "<tr>\n",
       "  <th>Electrical_FuseA</th>     <td> -2.83e+04</td> <td>  3.9e+04</td> <td>   -0.726</td> <td> 0.468</td> <td>-1.05e+05</td> <td> 4.82e+04</td>\n",
       "</tr>\n",
       "<tr>\n",
       "  <th>Electrical_FuseF</th>     <td>-2.555e+04</td> <td> 3.95e+04</td> <td>   -0.647</td> <td> 0.518</td> <td>-1.03e+05</td> <td> 5.19e+04</td>\n",
       "</tr>\n",
       "<tr>\n",
       "  <th>Electrical_FuseP</th>     <td>-2.636e+04</td> <td> 4.05e+04</td> <td>   -0.651</td> <td> 0.515</td> <td>-1.06e+05</td> <td>  5.3e+04</td>\n",
       "</tr>\n",
       "<tr>\n",
       "  <th>Electrical_SBrkr</th>     <td>-2.895e+04</td> <td> 3.91e+04</td> <td>   -0.740</td> <td> 0.459</td> <td>-1.06e+05</td> <td> 4.77e+04</td>\n",
       "</tr>\n",
       "<tr>\n",
       "  <th>Kitchen Qual_Ex</th>      <td>-8702.5845</td> <td> 8375.110</td> <td>   -1.039</td> <td> 0.299</td> <td>-2.51e+04</td> <td> 7723.122</td>\n",
       "</tr>\n",
       "<tr>\n",
       "  <th>Kitchen Qual_Fa</th>      <td>-3.996e+04</td> <td> 8165.221</td> <td>   -4.894</td> <td> 0.000</td> <td> -5.6e+04</td> <td>-2.39e+04</td>\n",
       "</tr>\n",
       "<tr>\n",
       "  <th>Kitchen Qual_Gd</th>      <td>-3.404e+04</td> <td> 8036.566</td> <td>   -4.235</td> <td> 0.000</td> <td>-4.98e+04</td> <td>-1.83e+04</td>\n",
       "</tr>\n",
       "<tr>\n",
       "  <th>Kitchen Qual_TA</th>      <td>-3.581e+04</td> <td> 7784.110</td> <td>   -4.601</td> <td> 0.000</td> <td>-5.11e+04</td> <td>-2.05e+04</td>\n",
       "</tr>\n",
       "<tr>\n",
       "  <th>Functional_Maj1</th>      <td> 2.302e+04</td> <td> 1.67e+04</td> <td>    1.375</td> <td> 0.169</td> <td>-9817.830</td> <td> 5.59e+04</td>\n",
       "</tr>\n",
       "<tr>\n",
       "  <th>Functional_Maj2</th>      <td> 2.566e+04</td> <td> 1.86e+04</td> <td>    1.382</td> <td> 0.167</td> <td>-1.07e+04</td> <td> 6.21e+04</td>\n",
       "</tr>\n",
       "<tr>\n",
       "  <th>Functional_Min1</th>      <td> 3.792e+04</td> <td> 1.54e+04</td> <td>    2.466</td> <td> 0.014</td> <td> 7765.153</td> <td> 6.81e+04</td>\n",
       "</tr>\n",
       "<tr>\n",
       "  <th>Functional_Min2</th>      <td> 3.653e+04</td> <td> 1.54e+04</td> <td>    2.369</td> <td> 0.018</td> <td> 6285.290</td> <td> 6.68e+04</td>\n",
       "</tr>\n",
       "<tr>\n",
       "  <th>Functional_Mod</th>       <td> 3.414e+04</td> <td> 1.54e+04</td> <td>    2.220</td> <td> 0.027</td> <td> 3974.459</td> <td> 6.43e+04</td>\n",
       "</tr>\n",
       "<tr>\n",
       "  <th>Functional_Typ</th>       <td> 4.426e+04</td> <td> 1.48e+04</td> <td>    2.988</td> <td> 0.003</td> <td> 1.52e+04</td> <td> 7.33e+04</td>\n",
       "</tr>\n",
       "<tr>\n",
       "  <th>Garage Type_2Types</th>   <td>-2.727e+04</td> <td> 7339.434</td> <td>   -3.716</td> <td> 0.000</td> <td>-4.17e+04</td> <td>-1.29e+04</td>\n",
       "</tr>\n",
       "<tr>\n",
       "  <th>Garage Type_Attchd</th>   <td>-1.676e+04</td> <td> 5696.589</td> <td>   -2.941</td> <td> 0.003</td> <td>-2.79e+04</td> <td>-5584.044</td>\n",
       "</tr>\n",
       "<tr>\n",
       "  <th>Garage Type_Basment</th>  <td>-2.067e+04</td> <td> 7055.736</td> <td>   -2.930</td> <td> 0.003</td> <td>-3.45e+04</td> <td>-6831.841</td>\n",
       "</tr>\n",
       "<tr>\n",
       "  <th>Garage Type_BuiltIn</th>  <td>-1.647e+04</td> <td> 6249.823</td> <td>   -2.635</td> <td> 0.008</td> <td>-2.87e+04</td> <td>-4211.194</td>\n",
       "</tr>\n",
       "<tr>\n",
       "  <th>Garage Type_CarPort</th>  <td>-2.051e+04</td> <td> 8654.742</td> <td>   -2.370</td> <td> 0.018</td> <td>-3.75e+04</td> <td>-3535.651</td>\n",
       "</tr>\n",
       "<tr>\n",
       "  <th>Garage Type_Detchd</th>   <td>-1.684e+04</td> <td> 5735.780</td> <td>   -2.935</td> <td> 0.003</td> <td>-2.81e+04</td> <td>-5587.021</td>\n",
       "</tr>\n",
       "<tr>\n",
       "  <th>Garage Finish_Fin</th>    <td>-3.891e+04</td> <td> 1.04e+04</td> <td>   -3.732</td> <td> 0.000</td> <td>-5.94e+04</td> <td>-1.85e+04</td>\n",
       "</tr>\n",
       "<tr>\n",
       "  <th>Garage Finish_RFn</th>    <td>-4.133e+04</td> <td> 1.03e+04</td> <td>   -4.007</td> <td> 0.000</td> <td>-6.16e+04</td> <td>-2.11e+04</td>\n",
       "</tr>\n",
       "<tr>\n",
       "  <th>Garage Finish_Unf</th>    <td>-3.827e+04</td> <td> 1.03e+04</td> <td>   -3.723</td> <td> 0.000</td> <td>-5.84e+04</td> <td>-1.81e+04</td>\n",
       "</tr>\n",
       "<tr>\n",
       "  <th>Garage Qual_Fa</th>       <td>-1.109e+04</td> <td> 5471.011</td> <td>   -2.027</td> <td> 0.043</td> <td>-2.18e+04</td> <td> -358.714</td>\n",
       "</tr>\n",
       "<tr>\n",
       "  <th>Garage Qual_Gd</th>       <td> 1.733e+04</td> <td> 8196.978</td> <td>    2.114</td> <td> 0.035</td> <td> 1248.874</td> <td> 3.34e+04</td>\n",
       "</tr>\n",
       "<tr>\n",
       "  <th>Garage Qual_Po</th>       <td>-5.795e+04</td> <td> 2.81e+04</td> <td>   -2.064</td> <td> 0.039</td> <td>-1.13e+05</td> <td>-2872.554</td>\n",
       "</tr>\n",
       "<tr>\n",
       "  <th>Garage Qual_TA</th>       <td>-1.103e+04</td> <td> 4180.946</td> <td>   -2.639</td> <td> 0.008</td> <td>-1.92e+04</td> <td>-2832.729</td>\n",
       "</tr>\n",
       "<tr>\n",
       "  <th>Garage Cond_Ex</th>       <td>-2.355e+04</td> <td> 1.62e+04</td> <td>   -1.452</td> <td> 0.147</td> <td>-5.54e+04</td> <td> 8267.580</td>\n",
       "</tr>\n",
       "<tr>\n",
       "  <th>Garage Cond_Fa</th>       <td>-2.663e+04</td> <td> 8300.414</td> <td>   -3.208</td> <td> 0.001</td> <td>-4.29e+04</td> <td>-1.04e+04</td>\n",
       "</tr>\n",
       "<tr>\n",
       "  <th>Garage Cond_Gd</th>       <td>-2.517e+04</td> <td> 1.03e+04</td> <td>   -2.447</td> <td> 0.015</td> <td>-4.53e+04</td> <td>-4994.691</td>\n",
       "</tr>\n",
       "<tr>\n",
       "  <th>Garage Cond_Po</th>       <td> -2.15e+04</td> <td> 1.19e+04</td> <td>   -1.804</td> <td> 0.071</td> <td>-4.49e+04</td> <td> 1871.616</td>\n",
       "</tr>\n",
       "<tr>\n",
       "  <th>Garage Cond_TA</th>       <td>-2.167e+04</td> <td> 7865.250</td> <td>   -2.755</td> <td> 0.006</td> <td>-3.71e+04</td> <td>-6239.819</td>\n",
       "</tr>\n",
       "<tr>\n",
       "  <th>Paved Drive_N</th>        <td>-4.063e+04</td> <td> 1.04e+04</td> <td>   -3.893</td> <td> 0.000</td> <td>-6.11e+04</td> <td>-2.02e+04</td>\n",
       "</tr>\n",
       "<tr>\n",
       "  <th>Paved Drive_P</th>        <td>-4.114e+04</td> <td> 1.05e+04</td> <td>   -3.901</td> <td> 0.000</td> <td>-6.18e+04</td> <td>-2.05e+04</td>\n",
       "</tr>\n",
       "<tr>\n",
       "  <th>Paved Drive_Y</th>        <td>-3.674e+04</td> <td> 1.07e+04</td> <td>   -3.441</td> <td> 0.001</td> <td>-5.77e+04</td> <td>-1.58e+04</td>\n",
       "</tr>\n",
       "<tr>\n",
       "  <th>Sale Type_COD</th>        <td>-2.491e+04</td> <td> 5259.880</td> <td>   -4.736</td> <td> 0.000</td> <td>-3.52e+04</td> <td>-1.46e+04</td>\n",
       "</tr>\n",
       "<tr>\n",
       "  <th>Sale Type_CWD</th>        <td>-1.079e+04</td> <td> 8382.419</td> <td>   -1.287</td> <td> 0.198</td> <td>-2.72e+04</td> <td> 5649.490</td>\n",
       "</tr>\n",
       "<tr>\n",
       "  <th>Sale Type_Con</th>        <td> 1.617e+04</td> <td> 1.22e+04</td> <td>    1.323</td> <td> 0.186</td> <td>-7794.027</td> <td> 4.01e+04</td>\n",
       "</tr>\n",
       "<tr>\n",
       "  <th>Sale Type_ConLD</th>      <td> -1.59e+04</td> <td> 7509.431</td> <td>   -2.117</td> <td> 0.034</td> <td>-3.06e+04</td> <td>-1169.707</td>\n",
       "</tr>\n",
       "<tr>\n",
       "  <th>Sale Type_ConLI</th>      <td>-2.076e+04</td> <td> 9638.528</td> <td>   -2.154</td> <td> 0.031</td> <td>-3.97e+04</td> <td>-1859.100</td>\n",
       "</tr>\n",
       "<tr>\n",
       "  <th>Sale Type_ConLw</th>      <td>-2.173e+04</td> <td>  1.1e+04</td> <td>   -1.968</td> <td> 0.049</td> <td>-4.34e+04</td> <td>  -75.125</td>\n",
       "</tr>\n",
       "<tr>\n",
       "  <th>Sale Type_New</th>        <td>-1.085e+04</td> <td> 5174.686</td> <td>   -2.097</td> <td> 0.036</td> <td> -2.1e+04</td> <td> -701.153</td>\n",
       "</tr>\n",
       "<tr>\n",
       "  <th>Sale Type_Oth</th>        <td>-9545.4618</td> <td>  1.2e+04</td> <td>   -0.793</td> <td> 0.428</td> <td>-3.32e+04</td> <td> 1.41e+04</td>\n",
       "</tr>\n",
       "<tr>\n",
       "  <th>Sale Type_WD </th>        <td> -2.02e+04</td> <td> 4512.486</td> <td>   -4.476</td> <td> 0.000</td> <td> -2.9e+04</td> <td>-1.13e+04</td>\n",
       "</tr>\n",
       "</table>\n",
       "<table class=\"simpletable\">\n",
       "<tr>\n",
       "  <th>Omnibus:</th>       <td>977.038</td> <th>  Durbin-Watson:     </th>  <td>   1.991</td> \n",
       "</tr>\n",
       "<tr>\n",
       "  <th>Prob(Omnibus):</th> <td> 0.000</td>  <th>  Jarque-Bera (JB):  </th> <td>120725.046</td>\n",
       "</tr>\n",
       "<tr>\n",
       "  <th>Skew:</th>          <td>-1.231</td>  <th>  Prob(JB):          </th>  <td>    0.00</td> \n",
       "</tr>\n",
       "<tr>\n",
       "  <th>Kurtosis:</th>      <td>40.514</td>  <th>  Cond. No.          </th>  <td>1.00e+16</td> \n",
       "</tr>\n",
       "</table><br/><br/>Warnings:<br/>[1] Standard Errors assume that the covariance matrix of the errors is correctly specified.<br/>[2] The smallest eigenvalue is 1.11e-11. This might indicate that there are<br/>strong multicollinearity problems or that the design matrix is singular."
      ],
      "text/plain": [
       "<class 'statsmodels.iolib.summary.Summary'>\n",
       "\"\"\"\n",
       "                            OLS Regression Results                            \n",
       "==============================================================================\n",
       "Dep. Variable:              SalePrice   R-squared:                       0.913\n",
       "Model:                            OLS   Adj. R-squared:                  0.903\n",
       "Method:                 Least Squares   F-statistic:                     93.68\n",
       "Date:                Fri, 04 Oct 2019   Prob (F-statistic):               0.00\n",
       "Time:                        09:40:47   Log-Likelihood:                -23527.\n",
       "No. Observations:                2050   AIC:                         4.747e+04\n",
       "Df Residuals:                    1842   BIC:                         4.864e+04\n",
       "Df Model:                         207                                         \n",
       "Covariance Type:            nonrobust                                         \n",
       "========================================================================================\n",
       "                           coef    std err          t      P>|t|      [0.025      0.975]\n",
       "----------------------------------------------------------------------------------------\n",
       "PID                   4.555e-06   8.63e-06      0.528      0.598   -1.24e-05    2.15e-05\n",
       "Lot Area                 0.4509      0.130      3.467      0.001       0.196       0.706\n",
       "Overall Qual          8214.8453    868.374      9.460      0.000    6511.744    9917.947\n",
       "Year Built              94.9661     64.079      1.482      0.139     -30.709     220.641\n",
       "Year Remod/Add         197.8072     46.981      4.210      0.000     105.666     289.948\n",
       "Mas Vnr Area            15.0466      5.369      2.803      0.005       4.518      25.576\n",
       "BsmtFin SF 1            -4.2979      6.523     -0.659      0.510     -17.092       8.496\n",
       "Bsmt Unf SF            -10.6762      6.611     -1.615      0.107     -23.642       2.290\n",
       "Total Bsmt SF           19.2921      7.138      2.703      0.007       5.293      33.291\n",
       "1st Flr SF               8.5540     13.678      0.625      0.532     -18.273      35.381\n",
       "2nd Flr SF              19.1920     12.954      1.482      0.139      -6.214      44.598\n",
       "Gr Liv Area             28.4488     13.444      2.116      0.034       2.081      54.816\n",
       "Bsmt Full Bath        6310.3163   1601.548      3.940      0.000    3169.276    9451.356\n",
       "Full Bath             6010.4323   1860.747      3.230      0.001    2361.037    9659.827\n",
       "Half Bath             1988.8987   1779.204      1.118      0.264   -1500.571    5478.368\n",
       "Bedroom AbvGr         -776.7546   1145.883     -0.678      0.498   -3024.121    1470.612\n",
       "Kitchen AbvGr        -1.118e+04   5351.937     -2.088      0.037   -2.17e+04    -680.003\n",
       "TotRms AbvGrd          566.6477    806.470      0.703      0.482   -1015.044    2148.339\n",
       "Fireplaces            5094.7517   1197.538      4.254      0.000    2746.078    7443.426\n",
       "Garage Yr Blt          -74.3183     49.175     -1.511      0.131    -170.762      22.126\n",
       "Garage Cars           7530.6587   2031.424      3.707      0.000    3546.523    1.15e+04\n",
       "Garage Area              9.2538      7.127      1.298      0.194      -4.724      23.232\n",
       "Wood Deck SF             8.1267      5.085      1.598      0.110      -1.847      18.100\n",
       "Open Porch SF          -10.9656      9.925     -1.105      0.269     -30.431       8.500\n",
       "Enclosed Porch           7.5313     11.089      0.679      0.497     -14.217      29.280\n",
       "Screen Porch            68.9612     10.630      6.487      0.000      48.113      89.809\n",
       "Street_Grvl          -6.266e+04   1.65e+04     -3.801      0.000    -9.5e+04   -3.03e+04\n",
       "Street_Pave          -5.586e+04   1.63e+04     -3.417      0.001   -8.79e+04   -2.38e+04\n",
       "Lot Shape_IR1         -2.34e+04   7965.851     -2.937      0.003    -3.9e+04   -7771.991\n",
       "Lot Shape_IR2        -1.966e+04   8524.010     -2.307      0.021   -3.64e+04   -2947.078\n",
       "Lot Shape_IR3        -5.246e+04   1.05e+04     -4.978      0.000   -7.31e+04   -3.18e+04\n",
       "Lot Shape_Reg        -2.299e+04   7990.505     -2.877      0.004   -3.87e+04   -7320.339\n",
       "Land Contour_Bnk     -3.863e+04   8088.061     -4.776      0.000   -5.45e+04   -2.28e+04\n",
       "Land Contour_HLS     -2.163e+04   8348.477     -2.591      0.010    -3.8e+04   -5255.308\n",
       "Land Contour_Low     -2.941e+04   8559.954     -3.435      0.001   -4.62e+04   -1.26e+04\n",
       "Land Contour_Lvl     -2.885e+04   7955.209     -3.627      0.000   -4.45e+04   -1.32e+04\n",
       "Utilities_AllPub      3.466e+04   2.67e+04      1.297      0.195   -1.77e+04    8.71e+04\n",
       "Utilities_NoSewr      3.958e+04   3.97e+04      0.997      0.319   -3.83e+04    1.17e+05\n",
       "Lot Config_Corner    -2.237e+04   6480.963     -3.452      0.001   -3.51e+04   -9660.223\n",
       "Lot Config_CulDSac   -1.474e+04   6771.959     -2.177      0.030    -2.8e+04   -1462.132\n",
       "Lot Config_FR2       -2.568e+04   6991.564     -3.674      0.000   -3.94e+04    -1.2e+04\n",
       "Lot Config_FR3       -3.322e+04   9838.568     -3.377      0.001   -5.25e+04   -1.39e+04\n",
       "Lot Config_Inside     -2.25e+04   6478.561     -3.473      0.001   -3.52e+04   -9790.769\n",
       "Land Slope_Gtl       -4.323e+04    1.1e+04     -3.914      0.000   -6.49e+04   -2.16e+04\n",
       "Land Slope_Mod        -3.99e+04   1.11e+04     -3.601      0.000   -6.16e+04   -1.82e+04\n",
       "Land Slope_Sev       -3.538e+04    1.2e+04     -2.956      0.003   -5.89e+04   -1.19e+04\n",
       "Neighborhood_Blmngtn -6.971e+04   1.63e+04     -4.273      0.000   -1.02e+05   -3.77e+04\n",
       "Neighborhood_Blueste -7.477e+04   1.82e+04     -4.109      0.000    -1.1e+05   -3.91e+04\n",
       "Neighborhood_BrDale  -6.336e+04   1.66e+04     -3.816      0.000   -9.59e+04   -3.08e+04\n",
       "Neighborhood_BrkSide -8.557e+04   1.56e+04     -5.482      0.000   -1.16e+05    -5.5e+04\n",
       "Neighborhood_ClearCr -8.208e+04    1.6e+04     -5.133      0.000   -1.13e+05   -5.07e+04\n",
       "Neighborhood_CollgCr -8.378e+04   1.51e+04     -5.553      0.000   -1.13e+05   -5.42e+04\n",
       "Neighborhood_Crawfor -6.896e+04   1.54e+04     -4.477      0.000   -9.92e+04   -3.88e+04\n",
       "Neighborhood_Edwards -9.648e+04   1.52e+04     -6.361      0.000   -1.26e+05   -6.67e+04\n",
       "Neighborhood_Gilbert -8.543e+04   1.55e+04     -5.497      0.000   -1.16e+05   -5.49e+04\n",
       "Neighborhood_Greens  -5.821e+04   2.15e+04     -2.709      0.007      -1e+05   -1.61e+04\n",
       "Neighborhood_IDOTRR  -9.188e+04   1.56e+04     -5.877      0.000   -1.23e+05   -6.12e+04\n",
       "Neighborhood_MeadowV -7.226e+04   1.63e+04     -4.442      0.000   -1.04e+05   -4.04e+04\n",
       "Neighborhood_Mitchel -8.502e+04   1.52e+04     -5.577      0.000   -1.15e+05   -5.51e+04\n",
       "Neighborhood_NAmes   -8.711e+04   1.55e+04     -5.620      0.000   -1.18e+05   -5.67e+04\n",
       "Neighborhood_NPkVill -7.197e+04   2.12e+04     -3.387      0.001   -1.14e+05   -3.03e+04\n",
       "Neighborhood_NWAmes  -8.566e+04   1.57e+04     -5.468      0.000   -1.16e+05   -5.49e+04\n",
       "Neighborhood_NoRidge -4.531e+04   1.59e+04     -2.848      0.004   -7.65e+04   -1.41e+04\n",
       "Neighborhood_NridgHt -4.357e+04   1.55e+04     -2.807      0.005    -7.4e+04   -1.31e+04\n",
       "Neighborhood_OldTown -9.511e+04   1.54e+04     -6.165      0.000   -1.25e+05   -6.49e+04\n",
       "Neighborhood_SWISU   -8.746e+04    1.6e+04     -5.469      0.000   -1.19e+05   -5.61e+04\n",
       "Neighborhood_Sawyer  -8.511e+04   1.53e+04     -5.554      0.000   -1.15e+05   -5.51e+04\n",
       "Neighborhood_SawyerW -8.378e+04   1.53e+04     -5.471      0.000   -1.14e+05   -5.37e+04\n",
       "Neighborhood_Somerst -6.343e+04   1.54e+04     -4.111      0.000   -9.37e+04   -3.32e+04\n",
       "Neighborhood_StoneBr  -3.16e+04   1.59e+04     -1.985      0.047   -6.28e+04    -384.868\n",
       "Neighborhood_Timber  -7.928e+04   1.54e+04     -5.145      0.000    -1.1e+05   -4.91e+04\n",
       "Neighborhood_Veenker  -7.39e+04   1.67e+04     -4.414      0.000   -1.07e+05   -4.11e+04\n",
       "Condition 1_Artery   -1.633e+04   5100.796     -3.201      0.001   -2.63e+04   -6322.299\n",
       "Condition 1_Feedr    -1.432e+04   4764.064     -3.005      0.003   -2.37e+04   -4973.816\n",
       "Condition 1_Norm     -7086.1354   4338.012     -1.633      0.103   -1.56e+04    1421.803\n",
       "Condition 1_PosA       566.2259   8503.100      0.067      0.947   -1.61e+04    1.72e+04\n",
       "Condition 1_PosN      2210.7006   6359.480      0.348      0.728   -1.03e+04    1.47e+04\n",
       "Condition 1_RRAe     -2.404e+04   6901.351     -3.483      0.001   -3.76e+04   -1.05e+04\n",
       "Condition 1_RRAn     -1.234e+04   5965.760     -2.068      0.039    -2.4e+04    -637.872\n",
       "Condition 1_RRNe     -2.774e+04   1.44e+04     -1.922      0.055   -5.61e+04     567.651\n",
       "Condition 1_RRNn     -1.944e+04   1.04e+04     -1.867      0.062   -3.99e+04     977.731\n",
       "Condition 2_Feedr     4754.0801   1.22e+04      0.389      0.697   -1.92e+04    2.87e+04\n",
       "Condition 2_Norm       741.5916   9299.442      0.080      0.936   -1.75e+04     1.9e+04\n",
       "Condition 2_PosA      1.534e+04    1.9e+04      0.806      0.420    -2.2e+04    5.27e+04\n",
       "Condition 2_PosN     -6444.1057   1.82e+04     -0.354      0.723   -4.21e+04    2.92e+04\n",
       "Bldg Type_1Fam       -6014.9341   6402.532     -0.939      0.348   -1.86e+04    6542.050\n",
       "Bldg Type_2fmCon     -1.395e+04   7216.760     -1.933      0.053   -2.81e+04     206.818\n",
       "Bldg Type_Duplex     -1.757e+04   7734.261     -2.272      0.023   -3.27e+04   -2405.936\n",
       "Bldg Type_Twnhs       -4.41e+04   7411.712     -5.950      0.000   -5.86e+04   -2.96e+04\n",
       "Bldg Type_TwnhsE     -3.688e+04   6825.231     -5.403      0.000   -5.03e+04   -2.35e+04\n",
       "House Style_1.5Fin   -1.629e+04   4654.193     -3.499      0.000   -2.54e+04   -7157.077\n",
       "House Style_1.5Unf   -9756.5367   8257.123     -1.182      0.238    -2.6e+04    6437.768\n",
       "House Style_1Story   -9095.3232   5217.830     -1.743      0.081   -1.93e+04    1138.159\n",
       "House Style_2.5Fin   -1.789e+04   1.17e+04     -1.523      0.128   -4.09e+04    5141.693\n",
       "House Style_2.5Unf   -9765.0586   7848.735     -1.244      0.214   -2.52e+04    5628.295\n",
       "House Style_2Story   -2.184e+04   4785.821     -4.564      0.000   -3.12e+04   -1.25e+04\n",
       "House Style_SFoyer   -1.396e+04   6275.905     -2.225      0.026   -2.63e+04   -1655.382\n",
       "House Style_SLvl     -1.992e+04   5423.847     -3.672      0.000   -3.06e+04   -9278.821\n",
       "Roof Style_Flat       2.097e+04   1.19e+04      1.768      0.077   -2293.888    4.42e+04\n",
       "Roof Style_Gable     -1.782e+04   6719.788     -2.652      0.008    -3.1e+04   -4641.298\n",
       "Roof Style_Gambrel   -1.955e+04   9032.655     -2.164      0.031   -3.73e+04   -1833.628\n",
       "Roof Style_Hip       -1.577e+04   6795.752     -2.320      0.020   -2.91e+04   -2441.081\n",
       "Roof Style_Mansard   -5.307e+04   1.12e+04     -4.743      0.000    -7.5e+04   -3.11e+04\n",
       "Roof Style_Shed      -3.327e+04   1.53e+04     -2.175      0.030   -6.33e+04   -3263.341\n",
       "Roof Matl_CompShg     2.176e+05   2.19e+04      9.935      0.000    1.75e+05    2.61e+05\n",
       "Roof Matl_Tar&Grv     1.828e+05    2.2e+04      8.321      0.000     1.4e+05    2.26e+05\n",
       "Roof Matl_WdShake     2.338e+05   2.63e+04      8.901      0.000    1.82e+05    2.85e+05\n",
       "Roof Matl_WdShngl     2.669e+05   2.49e+04     10.713      0.000    2.18e+05    3.16e+05\n",
       "Exterior 1st_AsbShng  1.198e+04   1.68e+04      0.713      0.476    -2.1e+04     4.5e+04\n",
       "Exterior 1st_AsphShn -1.295e+04   3.59e+04     -0.360      0.719   -8.34e+04    5.75e+04\n",
       "Exterior 1st_BrkComm -2.114e+04   2.67e+04     -0.792      0.428   -7.35e+04    3.12e+04\n",
       "Exterior 1st_BrkFace  2.704e+04   1.49e+04      1.816      0.069   -2157.857    5.62e+04\n",
       "Exterior 1st_CemntBd  3.164e+04   2.42e+04      1.306      0.192   -1.59e+04    7.92e+04\n",
       "Exterior 1st_HdBoard  3083.9428   1.46e+04      0.211      0.833   -2.56e+04    3.18e+04\n",
       "Exterior 1st_MetalSd  7159.5819   1.63e+04      0.439      0.661   -2.49e+04    3.92e+04\n",
       "Exterior 1st_Plywood  7093.4919   1.48e+04      0.481      0.631   -2.18e+04     3.6e+04\n",
       "Exterior 1st_Stucco   1717.7068   1.59e+04      0.108      0.914   -2.95e+04    3.29e+04\n",
       "Exterior 1st_VinylSd   555.2858   1.49e+04      0.037      0.970   -2.87e+04    2.98e+04\n",
       "Exterior 1st_Wd Sdng -1121.9604   1.47e+04     -0.076      0.939      -3e+04    2.77e+04\n",
       "Exterior 1st_WdShing  4451.5017    1.5e+04      0.296      0.767    -2.5e+04    3.39e+04\n",
       "Exterior 2nd_AsbShng  3156.5391   1.53e+04      0.207      0.836   -2.68e+04    3.31e+04\n",
       "Exterior 2nd_AsphShn  3.901e+04   2.28e+04      1.711      0.087   -5694.080    8.37e+04\n",
       "Exterior 2nd_Brk Cmn   2.51e+04   2.06e+04      1.217      0.224   -1.53e+04    6.55e+04\n",
       "Exterior 2nd_BrkFace  3508.7032   1.27e+04      0.277      0.782   -2.14e+04    2.84e+04\n",
       "Exterior 2nd_CBlock   1.968e+04   3.11e+04      0.633      0.527   -4.13e+04    8.06e+04\n",
       "Exterior 2nd_CmentBd -1.221e+04   2.28e+04     -0.535      0.593    -5.7e+04    3.25e+04\n",
       "Exterior 2nd_HdBoard   1.24e+04   1.27e+04      0.979      0.328   -1.24e+04    3.72e+04\n",
       "Exterior 2nd_ImStucc  8408.9229   1.43e+04      0.588      0.557   -1.96e+04    3.65e+04\n",
       "Exterior 2nd_MetalSd  1.499e+04   1.41e+04      1.064      0.287   -1.26e+04    4.26e+04\n",
       "Exterior 2nd_Plywood  1.284e+04   1.26e+04      1.022      0.307   -1.18e+04    3.75e+04\n",
       "Exterior 2nd_Stucco   7767.9395   1.32e+04      0.588      0.556   -1.81e+04    3.37e+04\n",
       "Exterior 2nd_VinylSd  2.024e+04   1.33e+04      1.522      0.128   -5834.907    4.63e+04\n",
       "Exterior 2nd_Wd Sdng  1.865e+04   1.23e+04      1.520      0.129   -5418.973    4.27e+04\n",
       "Exterior 2nd_Wd Shng  1.236e+04   1.28e+04      0.970      0.332   -1.26e+04    3.74e+04\n",
       "Mas Vnr Type_BrkCmn  -3.992e+04   9687.267     -4.120      0.000   -5.89e+04   -2.09e+04\n",
       "Mas Vnr Type_BrkFace -2.739e+04   7962.693     -3.439      0.001    -4.3e+04   -1.18e+04\n",
       "Mas Vnr Type_None     -2.61e+04   7896.397     -3.305      0.001   -4.16e+04   -1.06e+04\n",
       "Mas Vnr Type_Stone   -2.512e+04   8094.598     -3.103      0.002    -4.1e+04   -9241.365\n",
       "Exter Qual_Ex        -1.198e+04   8609.677     -1.392      0.164   -2.89e+04    4902.734\n",
       "Exter Qual_Fa        -3.379e+04   9354.571     -3.612      0.000   -5.21e+04   -1.54e+04\n",
       "Exter Qual_Gd         -3.42e+04   8067.671     -4.239      0.000      -5e+04   -1.84e+04\n",
       "Exter Qual_TA        -3.855e+04   7858.121     -4.905      0.000    -5.4e+04   -2.31e+04\n",
       "Exter Cond_Ex        -1.833e+04   1.13e+04     -1.622      0.105   -4.05e+04    3840.305\n",
       "Exter Cond_Fa        -2.912e+04   8503.232     -3.424      0.001   -4.58e+04   -1.24e+04\n",
       "Exter Cond_Gd        -2.151e+04   8142.258     -2.642      0.008   -3.75e+04   -5542.519\n",
       "Exter Cond_Po        -2.694e+04    1.9e+04     -1.415      0.157   -6.43e+04    1.04e+04\n",
       "Exter Cond_TA        -2.262e+04   8054.174     -2.809      0.005   -3.84e+04   -6827.243\n",
       "Foundation_BrkTil    -2.535e+04   6439.757     -3.936      0.000    -3.8e+04   -1.27e+04\n",
       "Foundation_CBlock    -2.184e+04   6387.283     -3.419      0.001   -3.44e+04   -9309.753\n",
       "Foundation_PConc     -1.955e+04   6710.891     -2.913      0.004   -3.27e+04   -6386.102\n",
       "Foundation_Slab      -2.099e+04   9135.140     -2.297      0.022   -3.89e+04   -3069.924\n",
       "Foundation_Stone     -2.162e+04   1.23e+04     -1.764      0.078   -4.57e+04    2418.965\n",
       "Foundation_Wood      -9176.3132   1.65e+04     -0.555      0.579   -4.16e+04    2.33e+04\n",
       "Bsmt Qual_Ex         -1.438e+04   9334.415     -1.541      0.124   -3.27e+04    3924.522\n",
       "Bsmt Qual_Fa         -2.625e+04   8732.888     -3.005      0.003   -4.34e+04   -9117.995\n",
       "Bsmt Qual_Gd         -3.004e+04   9001.502     -3.337      0.001   -4.77e+04   -1.24e+04\n",
       "Bsmt Qual_Po         -2.062e+04    2.4e+04     -0.858      0.391   -6.77e+04    2.65e+04\n",
       "Bsmt Qual_TA         -2.724e+04   8605.712     -3.165      0.002   -4.41e+04   -1.04e+04\n",
       "Bsmt Cond_Fa         -6851.4919   9998.800     -0.685      0.493   -2.65e+04    1.28e+04\n",
       "Bsmt Cond_Gd          -694.4160   9901.993     -0.070      0.944   -2.01e+04    1.87e+04\n",
       "Bsmt Cond_TA         -2294.1453   9523.139     -0.241      0.810    -2.1e+04    1.64e+04\n",
       "Bsmt Exposure_Av     -2.988e+04   7861.600     -3.801      0.000   -4.53e+04   -1.45e+04\n",
       "Bsmt Exposure_Gd       -1.7e+04   7980.223     -2.131      0.033   -3.27e+04   -1351.950\n",
       "Bsmt Exposure_Mn     -3.598e+04   7853.273     -4.582      0.000   -5.14e+04   -2.06e+04\n",
       "Bsmt Exposure_No     -3.565e+04   7769.449     -4.589      0.000   -5.09e+04   -2.04e+04\n",
       "BsmtFin Type 1_ALQ   -1.758e+04   5446.305     -3.227      0.001   -2.83e+04   -6894.633\n",
       "BsmtFin Type 1_BLQ   -1.933e+04   5425.257     -3.563      0.000      -3e+04   -8687.750\n",
       "BsmtFin Type 1_GLQ   -1.496e+04   5477.829     -2.732      0.006   -2.57e+04   -4221.493\n",
       "BsmtFin Type 1_LwQ   -2.363e+04   5596.993     -4.222      0.000   -3.46e+04   -1.27e+04\n",
       "BsmtFin Type 1_Rec   -2.111e+04   5437.036     -3.883      0.000   -3.18e+04   -1.04e+04\n",
       "BsmtFin Type 1_Unf    -2.19e+04   5372.315     -4.077      0.000   -3.24e+04   -1.14e+04\n",
       "BsmtFin Type 2_ALQ    5966.1834   1.22e+04      0.490      0.624   -1.79e+04    2.99e+04\n",
       "BsmtFin Type 2_BLQ     -24.4381   1.18e+04     -0.002      0.998   -2.31e+04     2.3e+04\n",
       "BsmtFin Type 2_GLQ    1.845e+04    1.3e+04      1.416      0.157   -7109.992     4.4e+04\n",
       "BsmtFin Type 2_LwQ    -524.3107   1.17e+04     -0.045      0.964   -2.34e+04    2.24e+04\n",
       "BsmtFin Type 2_Rec    1489.6331   1.15e+04      0.130      0.897    -2.1e+04     2.4e+04\n",
       "BsmtFin Type 2_Unf    5403.9251   1.11e+04      0.487      0.626   -1.63e+04    2.72e+04\n",
       "Heating_GasA          1.069e+04   1.11e+04      0.966      0.334    -1.1e+04    3.24e+04\n",
       "Heating_GasW          1.031e+04   1.25e+04      0.828      0.408   -1.41e+04    3.47e+04\n",
       "Heating_Grav         -4695.4658   1.62e+04     -0.290      0.772   -3.65e+04    2.71e+04\n",
       "Heating QC_Ex         1.967e+04   1.79e+04      1.099      0.272   -1.54e+04    5.48e+04\n",
       "Heating QC_Fa          1.58e+04    1.8e+04      0.877      0.381   -1.95e+04    5.11e+04\n",
       "Heating QC_Gd         1.859e+04   1.79e+04      1.037      0.300   -1.66e+04    5.38e+04\n",
       "Heating QC_TA         1.424e+04   1.79e+04      0.795      0.427   -2.09e+04    4.94e+04\n",
       "Central Air_N        -5.925e+04   1.55e+04     -3.828      0.000   -8.96e+04   -2.89e+04\n",
       "Central Air_Y        -5.927e+04   1.55e+04     -3.819      0.000   -8.97e+04   -2.88e+04\n",
       "Electrical_FuseA      -2.83e+04    3.9e+04     -0.726      0.468   -1.05e+05    4.82e+04\n",
       "Electrical_FuseF     -2.555e+04   3.95e+04     -0.647      0.518   -1.03e+05    5.19e+04\n",
       "Electrical_FuseP     -2.636e+04   4.05e+04     -0.651      0.515   -1.06e+05     5.3e+04\n",
       "Electrical_SBrkr     -2.895e+04   3.91e+04     -0.740      0.459   -1.06e+05    4.77e+04\n",
       "Kitchen Qual_Ex      -8702.5845   8375.110     -1.039      0.299   -2.51e+04    7723.122\n",
       "Kitchen Qual_Fa      -3.996e+04   8165.221     -4.894      0.000    -5.6e+04   -2.39e+04\n",
       "Kitchen Qual_Gd      -3.404e+04   8036.566     -4.235      0.000   -4.98e+04   -1.83e+04\n",
       "Kitchen Qual_TA      -3.581e+04   7784.110     -4.601      0.000   -5.11e+04   -2.05e+04\n",
       "Functional_Maj1       2.302e+04   1.67e+04      1.375      0.169   -9817.830    5.59e+04\n",
       "Functional_Maj2       2.566e+04   1.86e+04      1.382      0.167   -1.07e+04    6.21e+04\n",
       "Functional_Min1       3.792e+04   1.54e+04      2.466      0.014    7765.153    6.81e+04\n",
       "Functional_Min2       3.653e+04   1.54e+04      2.369      0.018    6285.290    6.68e+04\n",
       "Functional_Mod        3.414e+04   1.54e+04      2.220      0.027    3974.459    6.43e+04\n",
       "Functional_Typ        4.426e+04   1.48e+04      2.988      0.003    1.52e+04    7.33e+04\n",
       "Garage Type_2Types   -2.727e+04   7339.434     -3.716      0.000   -4.17e+04   -1.29e+04\n",
       "Garage Type_Attchd   -1.676e+04   5696.589     -2.941      0.003   -2.79e+04   -5584.044\n",
       "Garage Type_Basment  -2.067e+04   7055.736     -2.930      0.003   -3.45e+04   -6831.841\n",
       "Garage Type_BuiltIn  -1.647e+04   6249.823     -2.635      0.008   -2.87e+04   -4211.194\n",
       "Garage Type_CarPort  -2.051e+04   8654.742     -2.370      0.018   -3.75e+04   -3535.651\n",
       "Garage Type_Detchd   -1.684e+04   5735.780     -2.935      0.003   -2.81e+04   -5587.021\n",
       "Garage Finish_Fin    -3.891e+04   1.04e+04     -3.732      0.000   -5.94e+04   -1.85e+04\n",
       "Garage Finish_RFn    -4.133e+04   1.03e+04     -4.007      0.000   -6.16e+04   -2.11e+04\n",
       "Garage Finish_Unf    -3.827e+04   1.03e+04     -3.723      0.000   -5.84e+04   -1.81e+04\n",
       "Garage Qual_Fa       -1.109e+04   5471.011     -2.027      0.043   -2.18e+04    -358.714\n",
       "Garage Qual_Gd        1.733e+04   8196.978      2.114      0.035    1248.874    3.34e+04\n",
       "Garage Qual_Po       -5.795e+04   2.81e+04     -2.064      0.039   -1.13e+05   -2872.554\n",
       "Garage Qual_TA       -1.103e+04   4180.946     -2.639      0.008   -1.92e+04   -2832.729\n",
       "Garage Cond_Ex       -2.355e+04   1.62e+04     -1.452      0.147   -5.54e+04    8267.580\n",
       "Garage Cond_Fa       -2.663e+04   8300.414     -3.208      0.001   -4.29e+04   -1.04e+04\n",
       "Garage Cond_Gd       -2.517e+04   1.03e+04     -2.447      0.015   -4.53e+04   -4994.691\n",
       "Garage Cond_Po        -2.15e+04   1.19e+04     -1.804      0.071   -4.49e+04    1871.616\n",
       "Garage Cond_TA       -2.167e+04   7865.250     -2.755      0.006   -3.71e+04   -6239.819\n",
       "Paved Drive_N        -4.063e+04   1.04e+04     -3.893      0.000   -6.11e+04   -2.02e+04\n",
       "Paved Drive_P        -4.114e+04   1.05e+04     -3.901      0.000   -6.18e+04   -2.05e+04\n",
       "Paved Drive_Y        -3.674e+04   1.07e+04     -3.441      0.001   -5.77e+04   -1.58e+04\n",
       "Sale Type_COD        -2.491e+04   5259.880     -4.736      0.000   -3.52e+04   -1.46e+04\n",
       "Sale Type_CWD        -1.079e+04   8382.419     -1.287      0.198   -2.72e+04    5649.490\n",
       "Sale Type_Con         1.617e+04   1.22e+04      1.323      0.186   -7794.027    4.01e+04\n",
       "Sale Type_ConLD       -1.59e+04   7509.431     -2.117      0.034   -3.06e+04   -1169.707\n",
       "Sale Type_ConLI      -2.076e+04   9638.528     -2.154      0.031   -3.97e+04   -1859.100\n",
       "Sale Type_ConLw      -2.173e+04    1.1e+04     -1.968      0.049   -4.34e+04     -75.125\n",
       "Sale Type_New        -1.085e+04   5174.686     -2.097      0.036    -2.1e+04    -701.153\n",
       "Sale Type_Oth        -9545.4618    1.2e+04     -0.793      0.428   -3.32e+04    1.41e+04\n",
       "Sale Type_WD          -2.02e+04   4512.486     -4.476      0.000    -2.9e+04   -1.13e+04\n",
       "==============================================================================\n",
       "Omnibus:                      977.038   Durbin-Watson:                   1.991\n",
       "Prob(Omnibus):                  0.000   Jarque-Bera (JB):           120725.046\n",
       "Skew:                          -1.231   Prob(JB):                         0.00\n",
       "Kurtosis:                      40.514   Cond. No.                     1.00e+16\n",
       "==============================================================================\n",
       "\n",
       "Warnings:\n",
       "[1] Standard Errors assume that the covariance matrix of the errors is correctly specified.\n",
       "[2] The smallest eigenvalue is 1.11e-11. This might indicate that there are\n",
       "strong multicollinearity problems or that the design matrix is singular.\n",
       "\"\"\""
      ]
     },
     "execution_count": 34,
     "metadata": {},
     "output_type": "execute_result"
    }
   ],
   "source": [
    "# This will produce a summary table where we can see how each prediction variable affects he SalePrice\n",
    "\n",
    "import statsmodels.api as sm\n",
    "lr2 = sm.OLS(y_train, X_train).fit()\n",
    "lr2.summary()"
   ]
  },
  {
   "cell_type": "code",
   "execution_count": 93,
   "metadata": {},
   "outputs": [],
   "source": [
    "# Read in test file. to get the Id.\n",
    "test_org = pd.read_csv('./datasets/test.csv')"
   ]
  },
  {
   "cell_type": "raw",
   "metadata": {},
   "source": [
    "test_org.head()"
   ]
  },
  {
   "cell_type": "code",
   "execution_count": 94,
   "metadata": {},
   "outputs": [
    {
     "data": {
      "text/plain": [
       "(879, 1)"
      ]
     },
     "execution_count": 94,
     "metadata": {},
     "output_type": "execute_result"
    }
   ],
   "source": [
    "id_number = test_org['Id']\n",
    "id_number = pd.DataFrame(id_number)\n",
    "id_number.dropna()\n",
    "id_number.shape"
   ]
  },
  {
   "cell_type": "code",
   "execution_count": 95,
   "metadata": {},
   "outputs": [],
   "source": [
    "# Save prediction to csv file for submission\n",
    "pred = pd.DataFrame(pred)\n",
    "frame = [id_number, pred]\n",
    "result = pd.concat(frame, axis = 1)\n",
    "result.columns = ['Id','SalePrice']\n",
    "\n",
    "result.to_csv(r'\\Users\\carne\\Documents\\Djuwita_DSI\\Submissions\\project_2\\datasets\\result.csv', index = False)"
   ]
  },
  {
   "cell_type": "code",
   "execution_count": null,
   "metadata": {},
   "outputs": [],
   "source": []
  },
  {
   "cell_type": "code",
   "execution_count": null,
   "metadata": {},
   "outputs": [],
   "source": []
  }
 ],
 "metadata": {
  "anaconda-cloud": {},
  "kernelspec": {
   "display_name": "Python 3",
   "language": "python",
   "name": "python3"
  },
  "language_info": {
   "codemirror_mode": {
    "name": "ipython",
    "version": 3
   },
   "file_extension": ".py",
   "mimetype": "text/x-python",
   "name": "python",
   "nbconvert_exporter": "python",
   "pygments_lexer": "ipython3",
   "version": "3.7.3"
  }
 },
 "nbformat": 4,
 "nbformat_minor": 4
}
