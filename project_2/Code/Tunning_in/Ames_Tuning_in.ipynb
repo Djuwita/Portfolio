{
 "cells": [
  {
   "cell_type": "markdown",
   "metadata": {},
   "source": [
    "<img src=\"http://imgur.com/1ZcRyrc.png\" style=\"float: left; margin: 20px; height: 55px\">\n",
    "\n",
    "# Project 2: Ames Housing Sale Price Prediction Model\n",
    "\n",
    "> Authors: Djuwita Carney\n",
    "\n",
    "---"
   ]
  },
  {
   "cell_type": "markdown",
   "metadata": {},
   "source": [
    "## Objective\n",
    "To make a prediction of housing price in Ames, Iowa as a function of many aspects of housing conditions"
   ]
  },
  {
   "cell_type": "markdown",
   "metadata": {},
   "source": [
    "## Imports"
   ]
  },
  {
   "cell_type": "code",
   "execution_count": 1,
   "metadata": {},
   "outputs": [],
   "source": [
    "import pandas as pd\n",
    "import numpy as np\n",
    "import seaborn as sns\n",
    "import matplotlib.pyplot as plt\n",
    "from sklearn.linear_model import LinearRegression, LassoCV, RidgeCV\n",
    "from sklearn.preprocessing import PolynomialFeatures, StandardScaler\n",
    "from sklearn.model_selection import train_test_split, cross_val_score, cross_val_predict\n",
    "from sklearn.metrics import r2_score\n",
    "\n",
    "%matplotlib inline"
   ]
  },
  {
   "cell_type": "code",
   "execution_count": 2,
   "metadata": {},
   "outputs": [
    {
     "name": "stdout",
     "output_type": "stream",
     "text": [
      "C:\\Users\\carne\\Documents\\Djuwita_DSI\\Submissions\\project_2\n"
     ]
    }
   ],
   "source": [
    "cd \\Users\\carne\\Documents\\Djuwita_DSI\\Submissions\\project_2"
   ]
  },
  {
   "cell_type": "markdown",
   "metadata": {},
   "source": [
    "## Read Data\n",
    "The `train` dataset consists of comprehensive housing data in Ames Iowa "
   ]
  },
  {
   "cell_type": "code",
   "execution_count": 3,
   "metadata": {},
   "outputs": [
    {
     "name": "stdout",
     "output_type": "stream",
     "text": [
      "[WinError 3] The system cannot find the path specified: '/djuwita/submissions/Project_2'\n",
      "C:\\Users\\carne\\Documents\\Djuwita_DSI\\Submissions\\project_2\n"
     ]
    }
   ],
   "source": [
    "cd/djuwita/submissions/Project_2"
   ]
  },
  {
   "cell_type": "code",
   "execution_count": 4,
   "metadata": {},
   "outputs": [],
   "source": [
    "# Read in the dummy_train data in the data folder in this repository. dummy_train data is the clean train data with dummy columns for the qualitative variables\n",
    "dummy_train = pd.read_csv('./datasets/dummy_train.csv')"
   ]
  },
  {
   "cell_type": "code",
   "execution_count": 5,
   "metadata": {},
   "outputs": [],
   "source": [
    "# Read in the clean_test file. This is the file with clean test data data with dummy columns for the qualitative variables.\n",
    "test = pd.read_csv('./datasets/clean_test.csv')"
   ]
  },
  {
   "cell_type": "markdown",
   "metadata": {},
   "source": [
    "# Prepare regression parameters"
   ]
  },
  {
   "cell_type": "code",
   "execution_count": 6,
   "metadata": {},
   "outputs": [
    {
     "data": {
      "text/plain": [
       "Index(['PID', 'Lot Area', 'Overall Qual', 'Year Built', 'Year Remod/Add',\n",
       "       'BsmtFin SF 1', 'Bsmt Unf SF', 'Total Bsmt SF', '1st Flr SF',\n",
       "       '2nd Flr SF',\n",
       "       ...\n",
       "       'Paved Drive_Y', 'Sale Type_COD', 'Sale Type_CWD', 'Sale Type_Con',\n",
       "       'Sale Type_ConLD', 'Sale Type_ConLI', 'Sale Type_ConLw',\n",
       "       'Sale Type_New', 'Sale Type_Oth', 'Sale Type_WD '],\n",
       "      dtype='object', length=201)"
      ]
     },
     "execution_count": 6,
     "metadata": {},
     "output_type": "execute_result"
    }
   ],
   "source": [
    "# Identify common variables between Train and Test data for fitting to be possible\n",
    "\n",
    "dummy_train_cols = dummy_train.columns\n",
    "test_cols = test.columns\n",
    "\n",
    "common_cols = dummy_train_cols.intersection(test_cols)\n",
    "common_cols"
   ]
  },
  {
   "cell_type": "code",
   "execution_count": 7,
   "metadata": {},
   "outputs": [],
   "source": [
    "test = test.loc[:, test.columns.isin(list(common_cols))]"
   ]
  },
  {
   "cell_type": "code",
   "execution_count": 8,
   "metadata": {},
   "outputs": [],
   "source": [
    "features = common_cols\n",
    "X_train = dummy_train[features]\n",
    "y_train = dummy_train['SalePrice']\n",
    "X_test = test"
   ]
  },
  {
   "cell_type": "code",
   "execution_count": 9,
   "metadata": {},
   "outputs": [],
   "source": [
    "lr = LinearRegression()"
   ]
  },
  {
   "cell_type": "code",
   "execution_count": 10,
   "metadata": {},
   "outputs": [
    {
     "data": {
      "text/plain": [
       "515854.04711768095"
      ]
     },
     "execution_count": 10,
     "metadata": {},
     "output_type": "execute_result"
    }
   ],
   "source": [
    "lr.fit(X_train, y_train)\n",
    "y_pred = lr.predict(X_train)\n",
    "y_test = lr.predict(X_test)\n",
    "y_pred.max()"
   ]
  },
  {
   "cell_type": "code",
   "execution_count": 11,
   "metadata": {},
   "outputs": [
    {
     "name": "stdout",
     "output_type": "stream",
     "text": [
      "1884 183850 515854.04711768095\n"
     ]
    },
    {
     "name": "stderr",
     "output_type": "stream",
     "text": [
      "C:\\Users\\carne\\Anaconda3\\lib\\site-packages\\pandas\\core\\frame.py:3940: SettingWithCopyWarning: \n",
      "A value is trying to be set on a copy of a slice from a DataFrame\n",
      "\n",
      "See the caveats in the documentation: http://pandas.pydata.org/pandas-docs/stable/indexing.html#indexing-view-versus-copy\n",
      "  errors=errors)\n"
     ]
    }
   ],
   "source": [
    "## Delete one out lier\n",
    "\n",
    "for i in range(len(y_pred)):\n",
    "    if y_pred[i] == y_pred.max():\n",
    "        print(i, y_train[i], y_pred[i])\n",
    "        y_train.drop(i, inplace = True)  \n",
    "        X_train.drop(i, inplace = True)\n",
    "    else:\n",
    "        pass"
   ]
  },
  {
   "cell_type": "code",
   "execution_count": 12,
   "metadata": {},
   "outputs": [],
   "source": [
    "lr = LinearRegression()"
   ]
  },
  {
   "cell_type": "code",
   "execution_count": 13,
   "metadata": {},
   "outputs": [],
   "source": [
    "lr.fit(X_train, y_train)\n",
    "y_pred = lr.predict(X_train)\n",
    "y_test = lr.predict(X_test)\n"
   ]
  },
  {
   "cell_type": "code",
   "execution_count": null,
   "metadata": {},
   "outputs": [],
   "source": []
  },
  {
   "cell_type": "code",
   "execution_count": 14,
   "metadata": {},
   "outputs": [],
   "source": [
    "## Lasso and Ridge"
   ]
  },
  {
   "cell_type": "code",
   "execution_count": 15,
   "metadata": {},
   "outputs": [],
   "source": [
    "# Instantiate.\n",
    "ss = StandardScaler()\n",
    "\n",
    "# Fit.\n",
    "X_train_sc = ss.fit_transform(X_train)\n",
    "\n",
    "# Fit.\n",
    "X_test_sc = ss.fit_transform(X_test)"
   ]
  },
  {
   "cell_type": "code",
   "execution_count": 16,
   "metadata": {},
   "outputs": [],
   "source": [
    "lasso = LassoCV(n_alphas=100)"
   ]
  },
  {
   "cell_type": "code",
   "execution_count": 17,
   "metadata": {},
   "outputs": [],
   "source": [
    "ridge = RidgeCV(alphas=np.linspace(.1, 10, 100))"
   ]
  },
  {
   "cell_type": "markdown",
   "metadata": {},
   "source": [
    "## Cross validation\n",
    "---\n",
    "\n",
    "Use `cross_val_score` to evaluate all models."
   ]
  },
  {
   "cell_type": "code",
   "execution_count": 18,
   "metadata": {},
   "outputs": [
    {
     "name": "stderr",
     "output_type": "stream",
     "text": [
      "C:\\Users\\carne\\Anaconda3\\lib\\site-packages\\sklearn\\model_selection\\_split.py:1978: FutureWarning: The default value of cv will change from 3 to 5 in version 0.22. Specify it explicitly to silence this warning.\n",
      "  warnings.warn(CV_WARNING, FutureWarning)\n",
      "C:\\Users\\carne\\Anaconda3\\lib\\site-packages\\sklearn\\model_selection\\_split.py:1978: FutureWarning: The default value of cv will change from 3 to 5 in version 0.22. Specify it explicitly to silence this warning.\n",
      "  warnings.warn(CV_WARNING, FutureWarning)\n",
      "C:\\Users\\carne\\Anaconda3\\lib\\site-packages\\sklearn\\model_selection\\_split.py:1978: FutureWarning: The default value of cv will change from 3 to 5 in version 0.22. Specify it explicitly to silence this warning.\n",
      "  warnings.warn(CV_WARNING, FutureWarning)\n"
     ]
    },
    {
     "data": {
      "text/plain": [
       "0.8733199809393514"
      ]
     },
     "execution_count": 18,
     "metadata": {},
     "output_type": "execute_result"
    }
   ],
   "source": [
    "lasso_scores = cross_val_score(lasso, X_train_sc, y_train, cv=3)\n",
    "lasso_scores.mean()"
   ]
  },
  {
   "cell_type": "code",
   "execution_count": 19,
   "metadata": {},
   "outputs": [
    {
     "data": {
      "text/plain": [
       "0.8667711083528618"
      ]
     },
     "execution_count": 19,
     "metadata": {},
     "output_type": "execute_result"
    }
   ],
   "source": [
    "ridge_scores = cross_val_score(ridge, X_train_sc, y_train, cv=3)\n",
    "ridge_scores.mean()"
   ]
  },
  {
   "cell_type": "code",
   "execution_count": null,
   "metadata": {},
   "outputs": [],
   "source": []
  },
  {
   "cell_type": "markdown",
   "metadata": {},
   "source": [
    "## Ridge Model Fitting and Evaluation\n",
    "---"
   ]
  },
  {
   "cell_type": "code",
   "execution_count": 20,
   "metadata": {},
   "outputs": [
    {
     "data": {
      "text/plain": [
       "RidgeCV(alphas=array([ 0.1,  0.2,  0.3,  0.4,  0.5,  0.6,  0.7,  0.8,  0.9,  1. ,  1.1,\n",
       "        1.2,  1.3,  1.4,  1.5,  1.6,  1.7,  1.8,  1.9,  2. ,  2.1,  2.2,\n",
       "        2.3,  2.4,  2.5,  2.6,  2.7,  2.8,  2.9,  3. ,  3.1,  3.2,  3.3,\n",
       "        3.4,  3.5,  3.6,  3.7,  3.8,  3.9,  4. ,  4.1,  4.2,  4.3,  4.4,\n",
       "        4.5,  4.6,  4.7,  4.8,  4.9,  5. ,  5.1,  5.2,  5.3,  5.4,  5.5,\n",
       "        5.6,  5.7,  5.8,  5.9,  6. ,  6.1,  6.2,  6.3,  6.4,  6.5,  6.6,\n",
       "        6.7,  6.8,  6.9,  7. ,  7.1,  7.2,  7.3,  7.4,  7.5,  7.6,  7.7,\n",
       "        7.8,  7.9,  8. ,  8.1,  8.2,  8.3,  8.4,  8.5,  8.6,  8.7,  8.8,\n",
       "        8.9,  9. ,  9.1,  9.2,  9.3,  9.4,  9.5,  9.6,  9.7,  9.8,  9.9,\n",
       "       10. ]),\n",
       "        cv=None, fit_intercept=True, gcv_mode=None, normalize=False,\n",
       "        scoring=None, store_cv_values=False)"
      ]
     },
     "execution_count": 20,
     "metadata": {},
     "output_type": "execute_result"
    }
   ],
   "source": [
    "ridge.fit(X_train_sc, y_train)"
   ]
  },
  {
   "cell_type": "code",
   "execution_count": 21,
   "metadata": {},
   "outputs": [
    {
     "data": {
      "text/plain": [
       "0.9146379118966697"
      ]
     },
     "execution_count": 21,
     "metadata": {},
     "output_type": "execute_result"
    }
   ],
   "source": [
    "ridge.score(X_train_sc, y_train)"
   ]
  },
  {
   "cell_type": "code",
   "execution_count": 22,
   "metadata": {},
   "outputs": [
    {
     "data": {
      "text/plain": [
       "0.996122229651732"
      ]
     },
     "execution_count": 22,
     "metadata": {},
     "output_type": "execute_result"
    }
   ],
   "source": [
    "ridge.score(X_test_sc, y_test)"
   ]
  },
  {
   "cell_type": "code",
   "execution_count": 23,
   "metadata": {},
   "outputs": [],
   "source": [
    "pred = ridge.predict(X_test_sc)"
   ]
  },
  {
   "cell_type": "code",
   "execution_count": 24,
   "metadata": {},
   "outputs": [
    {
     "data": {
      "text/plain": [
       "0.996122229651732"
      ]
     },
     "execution_count": 24,
     "metadata": {},
     "output_type": "execute_result"
    }
   ],
   "source": [
    "r2_score(y_test, pred)"
   ]
  },
  {
   "cell_type": "code",
   "execution_count": 25,
   "metadata": {},
   "outputs": [],
   "source": [
    "residuals_ridge = y_test - pred"
   ]
  },
  {
   "cell_type": "markdown",
   "metadata": {},
   "source": [
    "## Lasso Model Fitting and Evaluation"
   ]
  },
  {
   "cell_type": "code",
   "execution_count": 26,
   "metadata": {},
   "outputs": [
    {
     "name": "stderr",
     "output_type": "stream",
     "text": [
      "C:\\Users\\carne\\Anaconda3\\lib\\site-packages\\sklearn\\model_selection\\_split.py:1978: FutureWarning: The default value of cv will change from 3 to 5 in version 0.22. Specify it explicitly to silence this warning.\n",
      "  warnings.warn(CV_WARNING, FutureWarning)\n"
     ]
    },
    {
     "data": {
      "text/plain": [
       "LassoCV(alphas=None, copy_X=True, cv='warn', eps=0.001, fit_intercept=True,\n",
       "        max_iter=1000, n_alphas=100, n_jobs=None, normalize=False,\n",
       "        positive=False, precompute='auto', random_state=None,\n",
       "        selection='cyclic', tol=0.0001, verbose=False)"
      ]
     },
     "execution_count": 26,
     "metadata": {},
     "output_type": "execute_result"
    }
   ],
   "source": [
    "lasso.fit(X_train_sc, y_train)"
   ]
  },
  {
   "cell_type": "code",
   "execution_count": 27,
   "metadata": {},
   "outputs": [
    {
     "data": {
      "text/plain": [
       "0.9051700939850267"
      ]
     },
     "execution_count": 27,
     "metadata": {},
     "output_type": "execute_result"
    }
   ],
   "source": [
    "lasso.score(X_train_sc, y_train)"
   ]
  },
  {
   "cell_type": "code",
   "execution_count": 28,
   "metadata": {},
   "outputs": [
    {
     "data": {
      "text/plain": [
       "0.9874825840400357"
      ]
     },
     "execution_count": 28,
     "metadata": {},
     "output_type": "execute_result"
    }
   ],
   "source": [
    "lasso.score(X_test_sc, y_test)"
   ]
  },
  {
   "cell_type": "code",
   "execution_count": 29,
   "metadata": {},
   "outputs": [],
   "source": [
    "pred = lasso.predict(X_test_sc)"
   ]
  },
  {
   "cell_type": "code",
   "execution_count": 30,
   "metadata": {},
   "outputs": [
    {
     "data": {
      "text/plain": [
       "0.9874825840400356"
      ]
     },
     "execution_count": 30,
     "metadata": {},
     "output_type": "execute_result"
    }
   ],
   "source": [
    "r2_score(y_test, pred)"
   ]
  },
  {
   "cell_type": "code",
   "execution_count": 31,
   "metadata": {},
   "outputs": [],
   "source": [
    "residuals_lasso = y_test - pred"
   ]
  },
  {
   "cell_type": "code",
   "execution_count": 32,
   "metadata": {},
   "outputs": [
    {
     "data": {
      "text/plain": [
       "Text(0, 0.5, 'Ridge_residuals')"
      ]
     },
     "execution_count": 32,
     "metadata": {},
     "output_type": "execute_result"
    },
    {
     "data": {
      "image/png": "[encoded data removed]",
      "text/plain": [
       "<Figure size 432x288 with 1 Axes>"
      ]
     },
     "metadata": {
      "needs_background": "light"
     },
     "output_type": "display_data"
    }
   ],
   "source": [
    "plt.scatter(pred, residuals_ridge)\n",
    "plt.xlabel('prediction')\n",
    "plt.ylabel('Ridge_residuals')"
   ]
  },
  {
   "cell_type": "code",
   "execution_count": 33,
   "metadata": {},
   "outputs": [],
   "source": [
    "residuals_lasso = y_test - pred"
   ]
  },
  {
   "cell_type": "code",
   "execution_count": 34,
   "metadata": {},
   "outputs": [
    {
     "data": {
      "text/plain": [
       "Text(0, 0.5, 'Lasso_residuals')"
      ]
     },
     "execution_count": 34,
     "metadata": {},
     "output_type": "execute_result"
    },
    {
     "data": {
      "image/png": "[encoded data removed]",
      "text/plain": [
       "<Figure size 432x288 with 1 Axes>"
      ]
     },
     "metadata": {
      "needs_background": "light"
     },
     "output_type": "display_data"
    }
   ],
   "source": [
    "plt.scatter(pred, residuals_lasso)\n",
    "plt.xlabel('prediction')\n",
    "plt.ylabel('Lasso_residuals')"
   ]
  },
  {
   "cell_type": "markdown",
   "metadata": {},
   "source": [
    "# Lasso scores for  test is higher than train score, indicating an under predicting model. Residuals lie around zero, except for a few outliers. The number of outliers is less than those of Ridge, how ever the residuals for those outliers are larger"
   ]
  },
  {
   "cell_type": "markdown",
   "metadata": {},
   "source": [
    "## Cross validation\n",
    "---\n",
    "\n",
    "Use `cross_val_score` to evaluate all models."
   ]
  },
  {
   "cell_type": "code",
   "execution_count": 35,
   "metadata": {},
   "outputs": [
    {
     "data": {
      "text/plain": [
       "0.8646346714328798"
      ]
     },
     "execution_count": 35,
     "metadata": {},
     "output_type": "execute_result"
    }
   ],
   "source": [
    "lr_scores = cross_val_score(lr, X_train, y_train, cv=3)\n",
    "lr_scores.mean()"
   ]
  },
  {
   "cell_type": "code",
   "execution_count": 36,
   "metadata": {},
   "outputs": [
    {
     "name": "stderr",
     "output_type": "stream",
     "text": [
      "C:\\Users\\carne\\Anaconda3\\lib\\site-packages\\sklearn\\model_selection\\_split.py:1978: FutureWarning: The default value of cv will change from 3 to 5 in version 0.22. Specify it explicitly to silence this warning.\n",
      "  warnings.warn(CV_WARNING, FutureWarning)\n",
      "C:\\Users\\carne\\Anaconda3\\lib\\site-packages\\sklearn\\model_selection\\_split.py:1978: FutureWarning: The default value of cv will change from 3 to 5 in version 0.22. Specify it explicitly to silence this warning.\n",
      "  warnings.warn(CV_WARNING, FutureWarning)\n",
      "C:\\Users\\carne\\Anaconda3\\lib\\site-packages\\sklearn\\model_selection\\_split.py:1978: FutureWarning: The default value of cv will change from 3 to 5 in version 0.22. Specify it explicitly to silence this warning.\n",
      "  warnings.warn(CV_WARNING, FutureWarning)\n"
     ]
    },
    {
     "data": {
      "text/plain": [
       "0.8733199809393514"
      ]
     },
     "execution_count": 36,
     "metadata": {},
     "output_type": "execute_result"
    }
   ],
   "source": [
    "lasso_scores = cross_val_score(lasso, X_train_sc, y_train, cv=3)\n",
    "lasso_scores.mean()"
   ]
  },
  {
   "cell_type": "code",
   "execution_count": 37,
   "metadata": {},
   "outputs": [
    {
     "data": {
      "text/plain": [
       "0.8667711083528618"
      ]
     },
     "execution_count": 37,
     "metadata": {},
     "output_type": "execute_result"
    }
   ],
   "source": [
    "ridge_scores = cross_val_score(ridge, X_train_sc, y_train, cv=3)\n",
    "ridge_scores.mean()"
   ]
  },
  {
   "cell_type": "code",
   "execution_count": null,
   "metadata": {},
   "outputs": [],
   "source": []
  },
  {
   "cell_type": "code",
   "execution_count": null,
   "metadata": {},
   "outputs": [],
   "source": []
  },
  {
   "cell_type": "code",
   "execution_count": 38,
   "metadata": {},
   "outputs": [],
   "source": [
    "# Read in test file. to get the Id.\n",
    "test_org = pd.read_csv('./datasets/test.csv')"
   ]
  },
  {
   "cell_type": "raw",
   "metadata": {},
   "source": [
    "test_org.head()"
   ]
  },
  {
   "cell_type": "code",
   "execution_count": 39,
   "metadata": {},
   "outputs": [
    {
     "data": {
      "text/plain": [
       "(879, 1)"
      ]
     },
     "execution_count": 39,
     "metadata": {},
     "output_type": "execute_result"
    }
   ],
   "source": [
    "id_number = test_org['Id']\n",
    "id_number = pd.DataFrame(id_number)\n",
    "id_number.dropna()\n",
    "id_number.shape"
   ]
  },
  {
   "cell_type": "code",
   "execution_count": 40,
   "metadata": {},
   "outputs": [],
   "source": [
    "# Save prediction to csv file for submission\n",
    "pred = pd.DataFrame(pred)\n",
    "frame = [id_number, pred]\n",
    "result = pd.concat(frame, axis = 1)\n",
    "result.columns = ['Id','SalePrice']\n",
    "\n",
    "result.to_csv(r'\\Users\\carne\\Documents\\Djuwita_DSI\\Submissions\\project_2\\datasets\\result2.csv', index = False)"
   ]
  },
  {
   "cell_type": "code",
   "execution_count": 41,
   "metadata": {},
   "outputs": [
    {
     "data": {
      "image/png": "[encoded data removed]",
      "text/plain": [
       "<Figure size 2160x720 with 1 Axes>"
      ]
     },
     "metadata": {
      "needs_background": "light"
     },
     "output_type": "display_data"
    }
   ],
   "source": [
    "# A:\n",
    "\n",
    "# Plot between true price and the predicted price\n",
    "#\n",
    "y0 = [0,600_000] # this line represents an ideal prediction line\n",
    "y1 = [0, 600_000]\n",
    "\n",
    "f = plt.figure(figsize=(30,10))\n",
    "\n",
    "ax = f.add_subplot(121)\n",
    "ax.plot(y0, y1, 'k--', label='Perfect Prediction', color = 'red')\n",
    "ax.scatter(y_train,y_pred,\n",
    "            color = 'black')\n",
    "legend = ax.legend(loc='upper left', shadow=True, fontsize='x-large')\n",
    "\n",
    "plt.xlabel('True Price', fontsize = 20)\n",
    "plt.ylabel('Predicted Price', fontsize = 20)\n",
    "\n",
    "# Put a background color on the legend.\n",
    "legend.get_frame().set_facecolor('grey')\n",
    "\n",
    "# Create a title.\n",
    "plt.title('True Price vs Predicted Price', fontsize = 24);"
   ]
  },
  {
   "cell_type": "markdown",
   "metadata": {},
   "source": [
    "## Perform OSL"
   ]
  },
  {
   "cell_type": "code",
   "execution_count": 42,
   "metadata": {},
   "outputs": [
    {
     "data": {
      "text/html": [
       "<table class=\"simpletable\">\n",
       "<caption>OLS Regression Results</caption>\n",
       "<tr>\n",
       "  <th>Dep. Variable:</th>        <td>SalePrice</td>    <th>  R-squared:         </th> <td>   0.916</td> \n",
       "</tr>\n",
       "<tr>\n",
       "  <th>Model:</th>                   <td>OLS</td>       <th>  Adj. R-squared:    </th> <td>   0.907</td> \n",
       "</tr>\n",
       "<tr>\n",
       "  <th>Method:</th>             <td>Least Squares</td>  <th>  F-statistic:       </th> <td>   111.8</td> \n",
       "</tr>\n",
       "<tr>\n",
       "  <th>Date:</th>             <td>Fri, 04 Oct 2019</td> <th>  Prob (F-statistic):</th>  <td>  0.00</td>  \n",
       "</tr>\n",
       "<tr>\n",
       "  <th>Time:</th>                 <td>14:21:11</td>     <th>  Log-Likelihood:    </th> <td> -23489.</td> \n",
       "</tr>\n",
       "<tr>\n",
       "  <th>No. Observations:</th>      <td>  2049</td>      <th>  AIC:               </th> <td>4.734e+04</td>\n",
       "</tr>\n",
       "<tr>\n",
       "  <th>Df Residuals:</th>          <td>  1867</td>      <th>  BIC:               </th> <td>4.837e+04</td>\n",
       "</tr>\n",
       "<tr>\n",
       "  <th>Df Model:</th>              <td>   181</td>      <th>                     </th>     <td> </td>    \n",
       "</tr>\n",
       "<tr>\n",
       "  <th>Covariance Type:</th>      <td>nonrobust</td>    <th>                     </th>     <td> </td>    \n",
       "</tr>\n",
       "</table>\n",
       "<table class=\"simpletable\">\n",
       "<tr>\n",
       "            <td></td>              <th>coef</th>     <th>std err</th>      <th>t</th>      <th>P>|t|</th>  <th>[0.025</th>    <th>0.975]</th>  \n",
       "</tr>\n",
       "<tr>\n",
       "  <th>PID</th>                  <td> 4.052e-06</td> <td> 8.39e-06</td> <td>    0.483</td> <td> 0.629</td> <td>-1.24e-05</td> <td> 2.05e-05</td>\n",
       "</tr>\n",
       "<tr>\n",
       "  <th>Lot Area</th>             <td>    0.4623</td> <td>    0.124</td> <td>    3.723</td> <td> 0.000</td> <td>    0.219</td> <td>    0.706</td>\n",
       "</tr>\n",
       "<tr>\n",
       "  <th>Overall Qual</th>         <td> 8322.6192</td> <td>  838.098</td> <td>    9.930</td> <td> 0.000</td> <td> 6678.912</td> <td> 9966.326</td>\n",
       "</tr>\n",
       "<tr>\n",
       "  <th>Year Built</th>           <td>   82.6012</td> <td>   61.374</td> <td>    1.346</td> <td> 0.179</td> <td>  -37.767</td> <td>  202.969</td>\n",
       "</tr>\n",
       "<tr>\n",
       "  <th>Year Remod/Add</th>       <td>  175.3168</td> <td>   45.482</td> <td>    3.855</td> <td> 0.000</td> <td>   86.115</td> <td>  264.519</td>\n",
       "</tr>\n",
       "<tr>\n",
       "  <th>BsmtFin SF 1</th>         <td>    2.7126</td> <td>    3.979</td> <td>    0.682</td> <td> 0.495</td> <td>   -5.091</td> <td>   10.516</td>\n",
       "</tr>\n",
       "<tr>\n",
       "  <th>Bsmt Unf SF</th>          <td>   -4.2612</td> <td>    4.153</td> <td>   -1.026</td> <td> 0.305</td> <td>  -12.407</td> <td>    3.885</td>\n",
       "</tr>\n",
       "<tr>\n",
       "  <th>Total Bsmt SF</th>        <td>   10.5984</td> <td>    4.975</td> <td>    2.130</td> <td> 0.033</td> <td>    0.842</td> <td>   20.355</td>\n",
       "</tr>\n",
       "<tr>\n",
       "  <th>1st Flr SF</th>           <td>   14.8489</td> <td>   13.278</td> <td>    1.118</td> <td> 0.264</td> <td>  -11.193</td> <td>   40.891</td>\n",
       "</tr>\n",
       "<tr>\n",
       "  <th>2nd Flr SF</th>           <td>   17.1750</td> <td>   12.561</td> <td>    1.367</td> <td> 0.172</td> <td>   -7.459</td> <td>   41.810</td>\n",
       "</tr>\n",
       "<tr>\n",
       "  <th>Gr Liv Area</th>          <td>   32.6575</td> <td>   13.020</td> <td>    2.508</td> <td> 0.012</td> <td>    7.123</td> <td>   58.192</td>\n",
       "</tr>\n",
       "<tr>\n",
       "  <th>Bsmt Full Bath</th>       <td> 5411.8743</td> <td> 1553.669</td> <td>    3.483</td> <td> 0.001</td> <td> 2364.763</td> <td> 8458.986</td>\n",
       "</tr>\n",
       "<tr>\n",
       "  <th>Full Bath</th>            <td> 4791.7565</td> <td> 1807.013</td> <td>    2.652</td> <td> 0.008</td> <td> 1247.779</td> <td> 8335.735</td>\n",
       "</tr>\n",
       "<tr>\n",
       "  <th>Half Bath</th>            <td> 3449.4462</td> <td> 1718.101</td> <td>    2.008</td> <td> 0.045</td> <td>   79.846</td> <td> 6819.046</td>\n",
       "</tr>\n",
       "<tr>\n",
       "  <th>Bedroom AbvGr</th>        <td>-3236.9260</td> <td> 1112.557</td> <td>   -2.909</td> <td> 0.004</td> <td>-5418.913</td> <td>-1054.939</td>\n",
       "</tr>\n",
       "<tr>\n",
       "  <th>Kitchen AbvGr</th>        <td>-1.339e+04</td> <td> 5081.979</td> <td>   -2.635</td> <td> 0.008</td> <td>-2.34e+04</td> <td>-3422.825</td>\n",
       "</tr>\n",
       "<tr>\n",
       "  <th>TotRms AbvGrd</th>        <td> 1600.5107</td> <td>  786.041</td> <td>    2.036</td> <td> 0.042</td> <td>   58.899</td> <td> 3142.123</td>\n",
       "</tr>\n",
       "<tr>\n",
       "  <th>Fireplaces</th>           <td> 4318.6819</td> <td> 1164.483</td> <td>    3.709</td> <td> 0.000</td> <td> 2034.856</td> <td> 6602.508</td>\n",
       "</tr>\n",
       "<tr>\n",
       "  <th>Garage Yr Blt</th>        <td>  -10.3933</td> <td>   42.214</td> <td>   -0.246</td> <td> 0.806</td> <td>  -93.186</td> <td>   72.399</td>\n",
       "</tr>\n",
       "<tr>\n",
       "  <th>Garage Cars</th>          <td> 6446.7428</td> <td> 1894.833</td> <td>    3.402</td> <td> 0.001</td> <td> 2730.530</td> <td> 1.02e+04</td>\n",
       "</tr>\n",
       "<tr>\n",
       "  <th>Garage Area</th>          <td>    5.0954</td> <td>    6.738</td> <td>    0.756</td> <td> 0.450</td> <td>   -8.120</td> <td>   18.311</td>\n",
       "</tr>\n",
       "<tr>\n",
       "  <th>Wood Deck SF</th>         <td>   15.5675</td> <td>    4.933</td> <td>    3.156</td> <td> 0.002</td> <td>    5.892</td> <td>   25.243</td>\n",
       "</tr>\n",
       "<tr>\n",
       "  <th>Open Porch SF</th>        <td>    0.3517</td> <td>    9.643</td> <td>    0.036</td> <td> 0.971</td> <td>  -18.560</td> <td>   19.264</td>\n",
       "</tr>\n",
       "<tr>\n",
       "  <th>Enclosed Porch</th>       <td>    6.7388</td> <td>   10.788</td> <td>    0.625</td> <td> 0.532</td> <td>  -14.420</td> <td>   27.897</td>\n",
       "</tr>\n",
       "<tr>\n",
       "  <th>Screen Porch</th>         <td>   77.1549</td> <td>   10.298</td> <td>    7.492</td> <td> 0.000</td> <td>   56.958</td> <td>   97.352</td>\n",
       "</tr>\n",
       "<tr>\n",
       "  <th>Lot Shape_IR1</th>        <td>-1.692e+04</td> <td> 8684.346</td> <td>   -1.948</td> <td> 0.052</td> <td>-3.39e+04</td> <td>  116.661</td>\n",
       "</tr>\n",
       "<tr>\n",
       "  <th>Lot Shape_IR2</th>        <td>-1.203e+04</td> <td> 9159.929</td> <td>   -1.313</td> <td> 0.189</td> <td>   -3e+04</td> <td> 5935.980</td>\n",
       "</tr>\n",
       "<tr>\n",
       "  <th>Lot Shape_IR3</th>        <td>-7.465e+04</td> <td> 1.13e+04</td> <td>   -6.617</td> <td> 0.000</td> <td>-9.68e+04</td> <td>-5.25e+04</td>\n",
       "</tr>\n",
       "<tr>\n",
       "  <th>Lot Shape_Reg</th>        <td> -1.66e+04</td> <td> 8701.196</td> <td>   -1.908</td> <td> 0.057</td> <td>-3.37e+04</td> <td>  463.556</td>\n",
       "</tr>\n",
       "<tr>\n",
       "  <th>Land Contour_Bnk</th>     <td>-3.823e+04</td> <td> 8872.336</td> <td>   -4.309</td> <td> 0.000</td> <td>-5.56e+04</td> <td>-2.08e+04</td>\n",
       "</tr>\n",
       "<tr>\n",
       "  <th>Land Contour_HLS</th>     <td>-2.233e+04</td> <td> 9146.254</td> <td>   -2.441</td> <td> 0.015</td> <td>-4.03e+04</td> <td>-4391.439</td>\n",
       "</tr>\n",
       "<tr>\n",
       "  <th>Land Contour_Low</th>     <td>-2.955e+04</td> <td> 9320.062</td> <td>   -3.171</td> <td> 0.002</td> <td>-4.78e+04</td> <td>-1.13e+04</td>\n",
       "</tr>\n",
       "<tr>\n",
       "  <th>Land Contour_Lvl</th>     <td>-3.008e+04</td> <td> 8756.304</td> <td>   -3.435</td> <td> 0.001</td> <td>-4.73e+04</td> <td>-1.29e+04</td>\n",
       "</tr>\n",
       "<tr>\n",
       "  <th>Utilities_AllPub</th>     <td> 2.366e+04</td> <td>  2.6e+04</td> <td>    0.911</td> <td> 0.362</td> <td>-2.73e+04</td> <td> 7.46e+04</td>\n",
       "</tr>\n",
       "<tr>\n",
       "  <th>Utilities_NoSewr</th>     <td>  1.24e+04</td> <td> 3.72e+04</td> <td>    0.333</td> <td> 0.739</td> <td>-6.06e+04</td> <td> 8.54e+04</td>\n",
       "</tr>\n",
       "<tr>\n",
       "  <th>Lot Config_Corner</th>    <td>-2.323e+04</td> <td> 7127.313</td> <td>   -3.259</td> <td> 0.001</td> <td>-3.72e+04</td> <td>-9250.971</td>\n",
       "</tr>\n",
       "<tr>\n",
       "  <th>Lot Config_CulDSac</th>   <td>-1.602e+04</td> <td> 7394.761</td> <td>   -2.166</td> <td> 0.030</td> <td>-3.05e+04</td> <td>-1514.154</td>\n",
       "</tr>\n",
       "<tr>\n",
       "  <th>Lot Config_FR2</th>       <td>-2.509e+04</td> <td> 7559.094</td> <td>   -3.319</td> <td> 0.001</td> <td>-3.99e+04</td> <td>-1.03e+04</td>\n",
       "</tr>\n",
       "<tr>\n",
       "  <th>Lot Config_FR3</th>       <td> -3.38e+04</td> <td> 1.02e+04</td> <td>   -3.324</td> <td> 0.001</td> <td>-5.37e+04</td> <td>-1.39e+04</td>\n",
       "</tr>\n",
       "<tr>\n",
       "  <th>Lot Config_Inside</th>    <td>-2.206e+04</td> <td> 7120.357</td> <td>   -3.099</td> <td> 0.002</td> <td> -3.6e+04</td> <td>-8098.457</td>\n",
       "</tr>\n",
       "<tr>\n",
       "  <th>Land Slope_Gtl</th>       <td>-3.887e+04</td> <td>  1.2e+04</td> <td>   -3.235</td> <td> 0.001</td> <td>-6.24e+04</td> <td>-1.53e+04</td>\n",
       "</tr>\n",
       "<tr>\n",
       "  <th>Land Slope_Mod</th>       <td>-3.751e+04</td> <td>  1.2e+04</td> <td>   -3.134</td> <td> 0.002</td> <td> -6.1e+04</td> <td> -1.4e+04</td>\n",
       "</tr>\n",
       "<tr>\n",
       "  <th>Land Slope_Sev</th>       <td>-4.381e+04</td> <td> 1.29e+04</td> <td>   -3.385</td> <td> 0.001</td> <td>-6.92e+04</td> <td>-1.84e+04</td>\n",
       "</tr>\n",
       "<tr>\n",
       "  <th>Neighborhood_Blmngtn</th> <td>-7.144e+04</td> <td> 1.58e+04</td> <td>   -4.529</td> <td> 0.000</td> <td>-1.02e+05</td> <td>-4.05e+04</td>\n",
       "</tr>\n",
       "<tr>\n",
       "  <th>Neighborhood_Blueste</th> <td>-6.742e+04</td> <td> 1.77e+04</td> <td>   -3.817</td> <td> 0.000</td> <td>-1.02e+05</td> <td>-3.28e+04</td>\n",
       "</tr>\n",
       "<tr>\n",
       "  <th>Neighborhood_BrDale</th>  <td>-5.665e+04</td> <td> 1.61e+04</td> <td>   -3.526</td> <td> 0.000</td> <td>-8.82e+04</td> <td>-2.51e+04</td>\n",
       "</tr>\n",
       "<tr>\n",
       "  <th>Neighborhood_BrkSide</th> <td>-7.887e+04</td> <td> 1.51e+04</td> <td>   -5.214</td> <td> 0.000</td> <td>-1.09e+05</td> <td>-4.92e+04</td>\n",
       "</tr>\n",
       "<tr>\n",
       "  <th>Neighborhood_ClearCr</th> <td>-7.526e+04</td> <td> 1.55e+04</td> <td>   -4.862</td> <td> 0.000</td> <td>-1.06e+05</td> <td>-4.49e+04</td>\n",
       "</tr>\n",
       "<tr>\n",
       "  <th>Neighborhood_CollgCr</th> <td>-7.884e+04</td> <td> 1.46e+04</td> <td>   -5.392</td> <td> 0.000</td> <td>-1.08e+05</td> <td>-5.02e+04</td>\n",
       "</tr>\n",
       "<tr>\n",
       "  <th>Neighborhood_Crawfor</th> <td>-6.406e+04</td> <td> 1.49e+04</td> <td>   -4.293</td> <td> 0.000</td> <td>-9.33e+04</td> <td>-3.48e+04</td>\n",
       "</tr>\n",
       "<tr>\n",
       "  <th>Neighborhood_Edwards</th> <td>-8.845e+04</td> <td> 1.47e+04</td> <td>   -6.009</td> <td> 0.000</td> <td>-1.17e+05</td> <td>-5.96e+04</td>\n",
       "</tr>\n",
       "<tr>\n",
       "  <th>Neighborhood_Gilbert</th> <td>-8.078e+04</td> <td> 1.51e+04</td> <td>   -5.366</td> <td> 0.000</td> <td> -1.1e+05</td> <td>-5.13e+04</td>\n",
       "</tr>\n",
       "<tr>\n",
       "  <th>Neighborhood_Greens</th>  <td>-6.074e+04</td> <td> 2.09e+04</td> <td>   -2.909</td> <td> 0.004</td> <td>-1.02e+05</td> <td>-1.98e+04</td>\n",
       "</tr>\n",
       "<tr>\n",
       "  <th>Neighborhood_IDOTRR</th>  <td>-8.324e+04</td> <td> 1.51e+04</td> <td>   -5.497</td> <td> 0.000</td> <td>-1.13e+05</td> <td>-5.35e+04</td>\n",
       "</tr>\n",
       "<tr>\n",
       "  <th>Neighborhood_MeadowV</th> <td>-7.018e+04</td> <td> 1.58e+04</td> <td>   -4.446</td> <td> 0.000</td> <td>-1.01e+05</td> <td>-3.92e+04</td>\n",
       "</tr>\n",
       "<tr>\n",
       "  <th>Neighborhood_Mitchel</th> <td>    -8e+04</td> <td> 1.48e+04</td> <td>   -5.403</td> <td> 0.000</td> <td>-1.09e+05</td> <td> -5.1e+04</td>\n",
       "</tr>\n",
       "<tr>\n",
       "  <th>Neighborhood_NAmes</th>   <td> -8.17e+04</td> <td>  1.5e+04</td> <td>   -5.436</td> <td> 0.000</td> <td>-1.11e+05</td> <td>-5.22e+04</td>\n",
       "</tr>\n",
       "<tr>\n",
       "  <th>Neighborhood_NPkVill</th> <td>-6.617e+04</td> <td> 2.07e+04</td> <td>   -3.198</td> <td> 0.001</td> <td>-1.07e+05</td> <td>-2.56e+04</td>\n",
       "</tr>\n",
       "<tr>\n",
       "  <th>Neighborhood_NWAmes</th>  <td>-8.044e+04</td> <td> 1.52e+04</td> <td>   -5.296</td> <td> 0.000</td> <td> -1.1e+05</td> <td>-5.06e+04</td>\n",
       "</tr>\n",
       "<tr>\n",
       "  <th>Neighborhood_NoRidge</th> <td>-3.924e+04</td> <td> 1.54e+04</td> <td>   -2.546</td> <td> 0.011</td> <td>-6.95e+04</td> <td>-9013.760</td>\n",
       "</tr>\n",
       "<tr>\n",
       "  <th>Neighborhood_NridgHt</th> <td>-4.041e+04</td> <td>  1.5e+04</td> <td>   -2.688</td> <td> 0.007</td> <td>-6.99e+04</td> <td>-1.09e+04</td>\n",
       "</tr>\n",
       "<tr>\n",
       "  <th>Neighborhood_OldTown</th> <td>-8.831e+04</td> <td>  1.5e+04</td> <td>   -5.903</td> <td> 0.000</td> <td>-1.18e+05</td> <td> -5.9e+04</td>\n",
       "</tr>\n",
       "<tr>\n",
       "  <th>Neighborhood_SWISU</th>   <td>-8.185e+04</td> <td> 1.55e+04</td> <td>   -5.287</td> <td> 0.000</td> <td>-1.12e+05</td> <td>-5.15e+04</td>\n",
       "</tr>\n",
       "<tr>\n",
       "  <th>Neighborhood_Sawyer</th>  <td>-7.938e+04</td> <td> 1.48e+04</td> <td>   -5.346</td> <td> 0.000</td> <td>-1.09e+05</td> <td>-5.03e+04</td>\n",
       "</tr>\n",
       "<tr>\n",
       "  <th>Neighborhood_SawyerW</th> <td>-7.792e+04</td> <td> 1.48e+04</td> <td>   -5.249</td> <td> 0.000</td> <td>-1.07e+05</td> <td>-4.88e+04</td>\n",
       "</tr>\n",
       "<tr>\n",
       "  <th>Neighborhood_Somerst</th> <td>-5.922e+04</td> <td> 1.49e+04</td> <td>   -3.965</td> <td> 0.000</td> <td>-8.85e+04</td> <td>-2.99e+04</td>\n",
       "</tr>\n",
       "<tr>\n",
       "  <th>Neighborhood_StoneBr</th> <td>-2.947e+04</td> <td> 1.54e+04</td> <td>   -1.911</td> <td> 0.056</td> <td>-5.97e+04</td> <td>  767.974</td>\n",
       "</tr>\n",
       "<tr>\n",
       "  <th>Neighborhood_Timber</th>  <td>-7.662e+04</td> <td>  1.5e+04</td> <td>   -5.120</td> <td> 0.000</td> <td>-1.06e+05</td> <td>-4.73e+04</td>\n",
       "</tr>\n",
       "<tr>\n",
       "  <th>Neighborhood_Veenker</th> <td>-6.852e+04</td> <td> 1.62e+04</td> <td>   -4.232</td> <td> 0.000</td> <td>   -1e+05</td> <td>-3.68e+04</td>\n",
       "</tr>\n",
       "<tr>\n",
       "  <th>Condition 1_Artery</th>   <td>-1.561e+04</td> <td> 5275.039</td> <td>   -2.960</td> <td> 0.003</td> <td> -2.6e+04</td> <td>-5266.881</td>\n",
       "</tr>\n",
       "<tr>\n",
       "  <th>Condition 1_Feedr</th>    <td>-1.711e+04</td> <td> 4964.947</td> <td>   -3.447</td> <td> 0.001</td> <td>-2.69e+04</td> <td>-7375.924</td>\n",
       "</tr>\n",
       "<tr>\n",
       "  <th>Condition 1_Norm</th>     <td>-7801.3674</td> <td> 4561.385</td> <td>   -1.710</td> <td> 0.087</td> <td>-1.67e+04</td> <td> 1144.582</td>\n",
       "</tr>\n",
       "<tr>\n",
       "  <th>Condition 1_PosA</th>     <td> -529.0427</td> <td> 8440.793</td> <td>   -0.063</td> <td> 0.950</td> <td>-1.71e+04</td> <td>  1.6e+04</td>\n",
       "</tr>\n",
       "<tr>\n",
       "  <th>Condition 1_PosN</th>     <td> 4884.3864</td> <td> 6403.111</td> <td>    0.763</td> <td> 0.446</td> <td>-7673.622</td> <td> 1.74e+04</td>\n",
       "</tr>\n",
       "<tr>\n",
       "  <th>Condition 1_RRAe</th>     <td>-2.413e+04</td> <td> 6982.211</td> <td>   -3.456</td> <td> 0.001</td> <td>-3.78e+04</td> <td>-1.04e+04</td>\n",
       "</tr>\n",
       "<tr>\n",
       "  <th>Condition 1_RRAn</th>     <td>-1.305e+04</td> <td> 6048.160</td> <td>   -2.157</td> <td> 0.031</td> <td>-2.49e+04</td> <td>-1186.123</td>\n",
       "</tr>\n",
       "<tr>\n",
       "  <th>Condition 1_RRNe</th>     <td>-2.517e+04</td> <td> 1.38e+04</td> <td>   -1.829</td> <td> 0.068</td> <td>-5.22e+04</td> <td> 1823.645</td>\n",
       "</tr>\n",
       "<tr>\n",
       "  <th>Condition 1_RRNn</th>     <td>-2.167e+04</td> <td> 1.03e+04</td> <td>   -2.100</td> <td> 0.036</td> <td>-4.19e+04</td> <td>-1431.388</td>\n",
       "</tr>\n",
       "<tr>\n",
       "  <th>Condition 2_Feedr</th>    <td> 5795.3718</td> <td> 1.19e+04</td> <td>    0.487</td> <td> 0.626</td> <td>-1.75e+04</td> <td> 2.91e+04</td>\n",
       "</tr>\n",
       "<tr>\n",
       "  <th>Condition 2_Norm</th>     <td> -551.0904</td> <td> 9028.610</td> <td>   -0.061</td> <td> 0.951</td> <td>-1.83e+04</td> <td> 1.72e+04</td>\n",
       "</tr>\n",
       "<tr>\n",
       "  <th>Condition 2_PosA</th>     <td> 1.182e+04</td> <td> 1.85e+04</td> <td>    0.638</td> <td> 0.524</td> <td>-2.45e+04</td> <td> 4.81e+04</td>\n",
       "</tr>\n",
       "<tr>\n",
       "  <th>Condition 2_PosN</th>     <td>-1.644e+04</td> <td> 1.77e+04</td> <td>   -0.926</td> <td> 0.354</td> <td>-5.12e+04</td> <td> 1.84e+04</td>\n",
       "</tr>\n",
       "<tr>\n",
       "  <th>Bldg Type_1Fam</th>       <td>-8519.4225</td> <td> 6963.847</td> <td>   -1.223</td> <td> 0.221</td> <td>-2.22e+04</td> <td> 5138.320</td>\n",
       "</tr>\n",
       "<tr>\n",
       "  <th>Bldg Type_2fmCon</th>     <td>-1.411e+04</td> <td> 7778.082</td> <td>   -1.815</td> <td> 0.070</td> <td>-2.94e+04</td> <td> 1140.006</td>\n",
       "</tr>\n",
       "<tr>\n",
       "  <th>Bldg Type_Duplex</th>     <td>-1.641e+04</td> <td> 8233.127</td> <td>   -1.993</td> <td> 0.046</td> <td>-3.26e+04</td> <td> -258.297</td>\n",
       "</tr>\n",
       "<tr>\n",
       "  <th>Bldg Type_Twnhs</th>      <td>-4.245e+04</td> <td> 7942.144</td> <td>   -5.346</td> <td> 0.000</td> <td> -5.8e+04</td> <td>-2.69e+04</td>\n",
       "</tr>\n",
       "<tr>\n",
       "  <th>Bldg Type_TwnhsE</th>     <td> -3.87e+04</td> <td> 7373.329</td> <td>   -5.248</td> <td> 0.000</td> <td>-5.32e+04</td> <td>-2.42e+04</td>\n",
       "</tr>\n",
       "<tr>\n",
       "  <th>House Style_1.5Fin</th>   <td>-1.793e+04</td> <td> 4906.086</td> <td>   -3.655</td> <td> 0.000</td> <td>-2.76e+04</td> <td>-8311.273</td>\n",
       "</tr>\n",
       "<tr>\n",
       "  <th>House Style_1.5Unf</th>   <td>-6829.1149</td> <td> 8302.764</td> <td>   -0.823</td> <td> 0.411</td> <td>-2.31e+04</td> <td> 9454.560</td>\n",
       "</tr>\n",
       "<tr>\n",
       "  <th>House Style_1Story</th>   <td>-9771.4030</td> <td> 5494.077</td> <td>   -1.779</td> <td> 0.075</td> <td>-2.05e+04</td> <td> 1003.776</td>\n",
       "</tr>\n",
       "<tr>\n",
       "  <th>House Style_2.5Fin</th>   <td>-1.645e+04</td> <td> 1.15e+04</td> <td>   -1.429</td> <td> 0.153</td> <td> -3.9e+04</td> <td> 6123.002</td>\n",
       "</tr>\n",
       "<tr>\n",
       "  <th>House Style_2.5Unf</th>   <td>-1.342e+04</td> <td> 7889.540</td> <td>   -1.702</td> <td> 0.089</td> <td>-2.89e+04</td> <td> 2048.723</td>\n",
       "</tr>\n",
       "<tr>\n",
       "  <th>House Style_2Story</th>   <td>-2.272e+04</td> <td> 5132.715</td> <td>   -4.426</td> <td> 0.000</td> <td>-3.28e+04</td> <td>-1.27e+04</td>\n",
       "</tr>\n",
       "<tr>\n",
       "  <th>House Style_SFoyer</th>   <td> -1.29e+04</td> <td> 6457.824</td> <td>   -1.998</td> <td> 0.046</td> <td>-2.56e+04</td> <td> -236.739</td>\n",
       "</tr>\n",
       "<tr>\n",
       "  <th>House Style_SLvl</th>     <td>-2.017e+04</td> <td> 5700.567</td> <td>   -3.538</td> <td> 0.000</td> <td>-3.13e+04</td> <td>-8986.184</td>\n",
       "</tr>\n",
       "<tr>\n",
       "  <th>Roof Style_Flat</th>      <td>-1.669e+04</td> <td> 8894.103</td> <td>   -1.877</td> <td> 0.061</td> <td>-3.41e+04</td> <td>  751.597</td>\n",
       "</tr>\n",
       "<tr>\n",
       "  <th>Roof Style_Gable</th>     <td>-1.421e+04</td> <td> 6828.459</td> <td>   -2.081</td> <td> 0.038</td> <td>-2.76e+04</td> <td> -819.285</td>\n",
       "</tr>\n",
       "<tr>\n",
       "  <th>Roof Style_Gambrel</th>   <td>-1.826e+04</td> <td> 9037.463</td> <td>   -2.020</td> <td> 0.043</td> <td> -3.6e+04</td> <td> -534.731</td>\n",
       "</tr>\n",
       "<tr>\n",
       "  <th>Roof Style_Hip</th>       <td>-1.173e+04</td> <td> 6895.890</td> <td>   -1.701</td> <td> 0.089</td> <td>-2.53e+04</td> <td> 1796.581</td>\n",
       "</tr>\n",
       "<tr>\n",
       "  <th>Roof Style_Mansard</th>   <td> -4.47e+04</td> <td> 1.04e+04</td> <td>   -4.319</td> <td> 0.000</td> <td> -6.5e+04</td> <td>-2.44e+04</td>\n",
       "</tr>\n",
       "<tr>\n",
       "  <th>Roof Style_Shed</th>      <td> -1.46e+04</td> <td> 1.46e+04</td> <td>   -1.003</td> <td> 0.316</td> <td>-4.31e+04</td> <td> 1.39e+04</td>\n",
       "</tr>\n",
       "<tr>\n",
       "  <th>Exterior 1st_AsbShng</th> <td> 8409.9666</td> <td> 1.59e+04</td> <td>    0.528</td> <td> 0.597</td> <td>-2.28e+04</td> <td> 3.96e+04</td>\n",
       "</tr>\n",
       "<tr>\n",
       "  <th>Exterior 1st_AsphShn</th> <td>-9738.4402</td> <td> 3.51e+04</td> <td>   -0.278</td> <td> 0.781</td> <td>-7.85e+04</td> <td>  5.9e+04</td>\n",
       "</tr>\n",
       "<tr>\n",
       "  <th>Exterior 1st_BrkComm</th> <td>-9279.9304</td> <td> 2.56e+04</td> <td>   -0.362</td> <td> 0.717</td> <td>-5.95e+04</td> <td> 4.09e+04</td>\n",
       "</tr>\n",
       "<tr>\n",
       "  <th>Exterior 1st_BrkFace</th> <td>  2.67e+04</td> <td>  1.4e+04</td> <td>    1.914</td> <td> 0.056</td> <td> -659.462</td> <td> 5.41e+04</td>\n",
       "</tr>\n",
       "<tr>\n",
       "  <th>Exterior 1st_CemntBd</th> <td> 3.253e+04</td> <td> 2.32e+04</td> <td>    1.403</td> <td> 0.161</td> <td>-1.29e+04</td> <td>  7.8e+04</td>\n",
       "</tr>\n",
       "<tr>\n",
       "  <th>Exterior 1st_HdBoard</th> <td>  273.9765</td> <td> 1.36e+04</td> <td>    0.020</td> <td> 0.984</td> <td>-2.65e+04</td> <td>  2.7e+04</td>\n",
       "</tr>\n",
       "<tr>\n",
       "  <th>Exterior 1st_MetalSd</th> <td> 6121.0871</td> <td> 1.54e+04</td> <td>    0.397</td> <td> 0.691</td> <td>-2.41e+04</td> <td> 3.63e+04</td>\n",
       "</tr>\n",
       "<tr>\n",
       "  <th>Exterior 1st_Plywood</th> <td> 3379.2965</td> <td> 1.38e+04</td> <td>    0.245</td> <td> 0.807</td> <td>-2.37e+04</td> <td> 3.05e+04</td>\n",
       "</tr>\n",
       "<tr>\n",
       "  <th>Exterior 1st_Stucco</th>  <td>-9035.7133</td> <td>  1.5e+04</td> <td>   -0.603</td> <td> 0.547</td> <td>-3.84e+04</td> <td> 2.04e+04</td>\n",
       "</tr>\n",
       "<tr>\n",
       "  <th>Exterior 1st_VinylSd</th> <td> -240.8380</td> <td> 1.41e+04</td> <td>   -0.017</td> <td> 0.986</td> <td>-2.79e+04</td> <td> 2.74e+04</td>\n",
       "</tr>\n",
       "<tr>\n",
       "  <th>Exterior 1st_Wd Sdng</th> <td>-3247.5632</td> <td> 1.38e+04</td> <td>   -0.236</td> <td> 0.814</td> <td>-3.03e+04</td> <td> 2.38e+04</td>\n",
       "</tr>\n",
       "<tr>\n",
       "  <th>Exterior 1st_WdShing</th> <td> 3509.7075</td> <td> 1.42e+04</td> <td>    0.247</td> <td> 0.805</td> <td>-2.44e+04</td> <td> 3.14e+04</td>\n",
       "</tr>\n",
       "<tr>\n",
       "  <th>Exterior 2nd_AsbShng</th> <td> 5978.6798</td> <td> 1.45e+04</td> <td>    0.412</td> <td> 0.681</td> <td>-2.25e+04</td> <td> 3.45e+04</td>\n",
       "</tr>\n",
       "<tr>\n",
       "  <th>Exterior 2nd_AsphShn</th> <td> 3.904e+04</td> <td>  2.2e+04</td> <td>    1.773</td> <td> 0.076</td> <td>-4140.611</td> <td> 8.22e+04</td>\n",
       "</tr>\n",
       "<tr>\n",
       "  <th>Exterior 2nd_Brk Cmn</th> <td> 2.657e+04</td> <td> 1.98e+04</td> <td>    1.339</td> <td> 0.181</td> <td>-1.24e+04</td> <td> 6.55e+04</td>\n",
       "</tr>\n",
       "<tr>\n",
       "  <th>Exterior 2nd_BrkFace</th> <td> 4647.8022</td> <td>  1.2e+04</td> <td>    0.387</td> <td> 0.699</td> <td>-1.89e+04</td> <td> 2.82e+04</td>\n",
       "</tr>\n",
       "<tr>\n",
       "  <th>Exterior 2nd_CBlock</th>  <td> 1.327e+04</td> <td> 2.99e+04</td> <td>    0.444</td> <td> 0.657</td> <td>-4.53e+04</td> <td> 7.19e+04</td>\n",
       "</tr>\n",
       "<tr>\n",
       "  <th>Exterior 2nd_CmentBd</th> <td>-7652.7793</td> <td>  2.2e+04</td> <td>   -0.348</td> <td> 0.728</td> <td>-5.08e+04</td> <td> 3.55e+04</td>\n",
       "</tr>\n",
       "<tr>\n",
       "  <th>Exterior 2nd_HdBoard</th> <td> 1.614e+04</td> <td> 1.19e+04</td> <td>    1.354</td> <td> 0.176</td> <td>-7232.914</td> <td> 3.95e+04</td>\n",
       "</tr>\n",
       "<tr>\n",
       "  <th>Exterior 2nd_ImStucc</th> <td> 1.208e+04</td> <td> 1.36e+04</td> <td>    0.885</td> <td> 0.376</td> <td>-1.47e+04</td> <td> 3.88e+04</td>\n",
       "</tr>\n",
       "<tr>\n",
       "  <th>Exterior 2nd_MetalSd</th> <td> 1.675e+04</td> <td> 1.34e+04</td> <td>    1.247</td> <td> 0.213</td> <td>-9602.528</td> <td> 4.31e+04</td>\n",
       "</tr>\n",
       "<tr>\n",
       "  <th>Exterior 2nd_Plywood</th> <td>  1.61e+04</td> <td> 1.18e+04</td> <td>    1.363</td> <td> 0.173</td> <td>-7071.292</td> <td> 3.93e+04</td>\n",
       "</tr>\n",
       "<tr>\n",
       "  <th>Exterior 2nd_Stucco</th>  <td> 1.038e+04</td> <td> 1.25e+04</td> <td>    0.828</td> <td> 0.408</td> <td>-1.42e+04</td> <td>  3.5e+04</td>\n",
       "</tr>\n",
       "<tr>\n",
       "  <th>Exterior 2nd_VinylSd</th> <td> 2.273e+04</td> <td> 1.27e+04</td> <td>    1.796</td> <td> 0.073</td> <td>-2086.061</td> <td> 4.75e+04</td>\n",
       "</tr>\n",
       "<tr>\n",
       "  <th>Exterior 2nd_Wd Sdng</th> <td>  2.24e+04</td> <td> 1.16e+04</td> <td>    1.938</td> <td> 0.053</td> <td> -272.541</td> <td> 4.51e+04</td>\n",
       "</tr>\n",
       "<tr>\n",
       "  <th>Exterior 2nd_Wd Shng</th> <td> 1.599e+04</td> <td> 1.21e+04</td> <td>    1.325</td> <td> 0.185</td> <td>-7673.281</td> <td> 3.97e+04</td>\n",
       "</tr>\n",
       "<tr>\n",
       "  <th>Exter Qual_Ex</th>        <td>-1.097e+04</td> <td> 9365.228</td> <td>   -1.171</td> <td> 0.242</td> <td>-2.93e+04</td> <td> 7400.263</td>\n",
       "</tr>\n",
       "<tr>\n",
       "  <th>Exter Qual_Fa</th>        <td>-3.364e+04</td> <td> 9937.832</td> <td>   -3.385</td> <td> 0.001</td> <td>-5.31e+04</td> <td>-1.42e+04</td>\n",
       "</tr>\n",
       "<tr>\n",
       "  <th>Exter Qual_Gd</th>        <td>-3.534e+04</td> <td> 8868.324</td> <td>   -3.984</td> <td> 0.000</td> <td>-5.27e+04</td> <td>-1.79e+04</td>\n",
       "</tr>\n",
       "<tr>\n",
       "  <th>Exter Qual_TA</th>        <td>-4.025e+04</td> <td> 8694.552</td> <td>   -4.629</td> <td> 0.000</td> <td>-5.73e+04</td> <td>-2.32e+04</td>\n",
       "</tr>\n",
       "<tr>\n",
       "  <th>Exter Cond_Ex</th>        <td>-1.688e+04</td> <td> 1.15e+04</td> <td>   -1.471</td> <td> 0.142</td> <td>-3.94e+04</td> <td> 5632.534</td>\n",
       "</tr>\n",
       "<tr>\n",
       "  <th>Exter Cond_Fa</th>        <td>-3.105e+04</td> <td> 8827.868</td> <td>   -3.517</td> <td> 0.000</td> <td>-4.84e+04</td> <td>-1.37e+04</td>\n",
       "</tr>\n",
       "<tr>\n",
       "  <th>Exter Cond_Gd</th>        <td>-2.413e+04</td> <td> 8571.019</td> <td>   -2.816</td> <td> 0.005</td> <td>-4.09e+04</td> <td>-7323.149</td>\n",
       "</tr>\n",
       "<tr>\n",
       "  <th>Exter Cond_Po</th>        <td>-2.259e+04</td> <td> 1.84e+04</td> <td>   -1.229</td> <td> 0.219</td> <td>-5.86e+04</td> <td> 1.34e+04</td>\n",
       "</tr>\n",
       "<tr>\n",
       "  <th>Exter Cond_TA</th>        <td>-2.554e+04</td> <td> 8476.224</td> <td>   -3.013</td> <td> 0.003</td> <td>-4.22e+04</td> <td>-8915.934</td>\n",
       "</tr>\n",
       "<tr>\n",
       "  <th>Foundation_BrkTil</th>    <td>-2.381e+04</td> <td> 6670.895</td> <td>   -3.569</td> <td> 0.000</td> <td>-3.69e+04</td> <td>-1.07e+04</td>\n",
       "</tr>\n",
       "<tr>\n",
       "  <th>Foundation_CBlock</th>    <td>-2.031e+04</td> <td> 6774.416</td> <td>   -2.999</td> <td> 0.003</td> <td>-3.36e+04</td> <td>-7028.763</td>\n",
       "</tr>\n",
       "<tr>\n",
       "  <th>Foundation_PConc</th>     <td>-1.821e+04</td> <td> 7071.836</td> <td>   -2.575</td> <td> 0.010</td> <td>-3.21e+04</td> <td>-4342.834</td>\n",
       "</tr>\n",
       "<tr>\n",
       "  <th>Foundation_Slab</th>      <td>-2.339e+04</td> <td> 9046.006</td> <td>   -2.586</td> <td> 0.010</td> <td>-4.11e+04</td> <td>-5652.604</td>\n",
       "</tr>\n",
       "<tr>\n",
       "  <th>Foundation_Stone</th>     <td>-2.105e+04</td> <td> 1.22e+04</td> <td>   -1.721</td> <td> 0.085</td> <td> -4.5e+04</td> <td> 2937.410</td>\n",
       "</tr>\n",
       "<tr>\n",
       "  <th>Foundation_Wood</th>      <td>-1.341e+04</td> <td> 1.64e+04</td> <td>   -0.819</td> <td> 0.413</td> <td>-4.55e+04</td> <td> 1.87e+04</td>\n",
       "</tr>\n",
       "<tr>\n",
       "  <th>Bsmt Qual_Ex</th>         <td>-1.477e+04</td> <td> 9777.907</td> <td>   -1.511</td> <td> 0.131</td> <td>-3.39e+04</td> <td> 4403.847</td>\n",
       "</tr>\n",
       "<tr>\n",
       "  <th>Bsmt Qual_Fa</th>         <td>-2.483e+04</td> <td> 9132.799</td> <td>   -2.719</td> <td> 0.007</td> <td>-4.27e+04</td> <td>-6915.982</td>\n",
       "</tr>\n",
       "<tr>\n",
       "  <th>Bsmt Qual_Gd</th>         <td>-3.112e+04</td> <td> 9451.968</td> <td>   -3.293</td> <td> 0.001</td> <td>-4.97e+04</td> <td>-1.26e+04</td>\n",
       "</tr>\n",
       "<tr>\n",
       "  <th>Bsmt Qual_Po</th>         <td>-2.125e+04</td> <td> 2.35e+04</td> <td>   -0.905</td> <td> 0.366</td> <td>-6.73e+04</td> <td> 2.48e+04</td>\n",
       "</tr>\n",
       "<tr>\n",
       "  <th>Bsmt Qual_TA</th>         <td>-2.822e+04</td> <td> 9035.021</td> <td>   -3.123</td> <td> 0.002</td> <td>-4.59e+04</td> <td>-1.05e+04</td>\n",
       "</tr>\n",
       "<tr>\n",
       "  <th>Bsmt Cond_Fa</th>         <td>-3919.2218</td> <td> 6669.742</td> <td>   -0.588</td> <td> 0.557</td> <td> -1.7e+04</td> <td> 9161.713</td>\n",
       "</tr>\n",
       "<tr>\n",
       "  <th>Bsmt Cond_Gd</th>         <td> 3866.7663</td> <td> 6437.918</td> <td>    0.601</td> <td> 0.548</td> <td>-8759.507</td> <td> 1.65e+04</td>\n",
       "</tr>\n",
       "<tr>\n",
       "  <th>Bsmt Cond_TA</th>         <td> 2198.5058</td> <td> 5868.733</td> <td>    0.375</td> <td> 0.708</td> <td>-9311.461</td> <td> 1.37e+04</td>\n",
       "</tr>\n",
       "<tr>\n",
       "  <th>Bsmt Exposure_Av</th>     <td>-3.032e+04</td> <td> 8710.785</td> <td>   -3.481</td> <td> 0.001</td> <td>-4.74e+04</td> <td>-1.32e+04</td>\n",
       "</tr>\n",
       "<tr>\n",
       "  <th>Bsmt Exposure_Gd</th>     <td>-1.717e+04</td> <td> 8822.951</td> <td>   -1.946</td> <td> 0.052</td> <td>-3.45e+04</td> <td>  131.188</td>\n",
       "</tr>\n",
       "<tr>\n",
       "  <th>Bsmt Exposure_Mn</th>     <td>-3.661e+04</td> <td> 8660.782</td> <td>   -4.227</td> <td> 0.000</td> <td>-5.36e+04</td> <td>-1.96e+04</td>\n",
       "</tr>\n",
       "<tr>\n",
       "  <th>Bsmt Exposure_No</th>     <td>-3.609e+04</td> <td> 8628.642</td> <td>   -4.182</td> <td> 0.000</td> <td> -5.3e+04</td> <td>-1.92e+04</td>\n",
       "</tr>\n",
       "<tr>\n",
       "  <th>BsmtFin Type 1_ALQ</th>   <td>-1.779e+04</td> <td> 5972.570</td> <td>   -2.979</td> <td> 0.003</td> <td>-2.95e+04</td> <td>-6078.966</td>\n",
       "</tr>\n",
       "<tr>\n",
       "  <th>BsmtFin Type 1_BLQ</th>   <td>-1.984e+04</td> <td> 5925.398</td> <td>   -3.349</td> <td> 0.001</td> <td>-3.15e+04</td> <td>-8220.680</td>\n",
       "</tr>\n",
       "<tr>\n",
       "  <th>BsmtFin Type 1_GLQ</th>   <td>-1.625e+04</td> <td> 6017.129</td> <td>   -2.701</td> <td> 0.007</td> <td>-2.81e+04</td> <td>-4449.373</td>\n",
       "</tr>\n",
       "<tr>\n",
       "  <th>BsmtFin Type 1_LwQ</th>   <td>-2.274e+04</td> <td> 6091.831</td> <td>   -3.734</td> <td> 0.000</td> <td>-3.47e+04</td> <td>-1.08e+04</td>\n",
       "</tr>\n",
       "<tr>\n",
       "  <th>BsmtFin Type 1_Rec</th>   <td>-2.084e+04</td> <td> 5957.459</td> <td>   -3.497</td> <td> 0.000</td> <td>-3.25e+04</td> <td>-9151.566</td>\n",
       "</tr>\n",
       "<tr>\n",
       "  <th>BsmtFin Type 1_Unf</th>   <td>-2.273e+04</td> <td> 5916.136</td> <td>   -3.842</td> <td> 0.000</td> <td>-3.43e+04</td> <td>-1.11e+04</td>\n",
       "</tr>\n",
       "<tr>\n",
       "  <th>Heating QC_Ex</th>        <td> 2.478e+04</td> <td> 1.73e+04</td> <td>    1.432</td> <td> 0.152</td> <td>-9162.690</td> <td> 5.87e+04</td>\n",
       "</tr>\n",
       "<tr>\n",
       "  <th>Heating QC_Fa</th>        <td> 1.908e+04</td> <td> 1.74e+04</td> <td>    1.097</td> <td> 0.273</td> <td> -1.5e+04</td> <td> 5.32e+04</td>\n",
       "</tr>\n",
       "<tr>\n",
       "  <th>Heating QC_Gd</th>        <td> 2.382e+04</td> <td> 1.73e+04</td> <td>    1.374</td> <td> 0.170</td> <td>-1.02e+04</td> <td> 5.78e+04</td>\n",
       "</tr>\n",
       "<tr>\n",
       "  <th>Heating QC_TA</th>        <td> 1.964e+04</td> <td> 1.73e+04</td> <td>    1.134</td> <td> 0.257</td> <td>-1.43e+04</td> <td> 5.36e+04</td>\n",
       "</tr>\n",
       "<tr>\n",
       "  <th>Central Air_N</th>        <td> -5.97e+04</td> <td> 1.71e+04</td> <td>   -3.482</td> <td> 0.001</td> <td>-9.33e+04</td> <td>-2.61e+04</td>\n",
       "</tr>\n",
       "<tr>\n",
       "  <th>Central Air_Y</th>        <td> -6.05e+04</td> <td> 1.73e+04</td> <td>   -3.503</td> <td> 0.000</td> <td>-9.44e+04</td> <td>-2.66e+04</td>\n",
       "</tr>\n",
       "<tr>\n",
       "  <th>Electrical_FuseA</th>     <td> 1.656e+04</td> <td> 2.79e+04</td> <td>    0.594</td> <td> 0.552</td> <td>-3.81e+04</td> <td> 7.12e+04</td>\n",
       "</tr>\n",
       "<tr>\n",
       "  <th>Electrical_FuseF</th>     <td> 1.933e+04</td> <td> 2.82e+04</td> <td>    0.686</td> <td> 0.493</td> <td>-3.59e+04</td> <td> 7.46e+04</td>\n",
       "</tr>\n",
       "<tr>\n",
       "  <th>Electrical_FuseP</th>     <td>   2.3e+04</td> <td> 2.95e+04</td> <td>    0.780</td> <td> 0.435</td> <td>-3.48e+04</td> <td> 8.08e+04</td>\n",
       "</tr>\n",
       "<tr>\n",
       "  <th>Electrical_SBrkr</th>     <td> 1.721e+04</td> <td> 2.78e+04</td> <td>    0.619</td> <td> 0.536</td> <td>-3.74e+04</td> <td> 7.18e+04</td>\n",
       "</tr>\n",
       "<tr>\n",
       "  <th>Kitchen Qual_Ex</th>      <td>-1.013e+04</td> <td> 9163.827</td> <td>   -1.105</td> <td> 0.269</td> <td>-2.81e+04</td> <td> 7842.008</td>\n",
       "</tr>\n",
       "<tr>\n",
       "  <th>Kitchen Qual_Fa</th>      <td>-3.969e+04</td> <td> 8909.558</td> <td>   -4.455</td> <td> 0.000</td> <td>-5.72e+04</td> <td>-2.22e+04</td>\n",
       "</tr>\n",
       "<tr>\n",
       "  <th>Kitchen Qual_Gd</th>      <td>-3.398e+04</td> <td> 8878.022</td> <td>   -3.828</td> <td> 0.000</td> <td>-5.14e+04</td> <td>-1.66e+04</td>\n",
       "</tr>\n",
       "<tr>\n",
       "  <th>Kitchen Qual_TA</th>      <td>-3.639e+04</td> <td> 8619.260</td> <td>   -4.222</td> <td> 0.000</td> <td>-5.33e+04</td> <td>-1.95e+04</td>\n",
       "</tr>\n",
       "<tr>\n",
       "  <th>Functional_Maj1</th>      <td> 2.656e+04</td> <td> 1.61e+04</td> <td>    1.653</td> <td> 0.098</td> <td>-4951.853</td> <td> 5.81e+04</td>\n",
       "</tr>\n",
       "<tr>\n",
       "  <th>Functional_Maj2</th>      <td> 3.025e+04</td> <td> 1.79e+04</td> <td>    1.694</td> <td> 0.090</td> <td>-4763.081</td> <td> 6.53e+04</td>\n",
       "</tr>\n",
       "<tr>\n",
       "  <th>Functional_Min1</th>      <td> 4.094e+04</td> <td> 1.48e+04</td> <td>    2.773</td> <td> 0.006</td> <td>  1.2e+04</td> <td> 6.99e+04</td>\n",
       "</tr>\n",
       "<tr>\n",
       "  <th>Functional_Min2</th>      <td> 4.308e+04</td> <td> 1.48e+04</td> <td>    2.917</td> <td> 0.004</td> <td> 1.41e+04</td> <td>  7.2e+04</td>\n",
       "</tr>\n",
       "<tr>\n",
       "  <th>Functional_Mod</th>       <td> 3.069e+04</td> <td> 1.47e+04</td> <td>    2.093</td> <td> 0.037</td> <td> 1928.390</td> <td> 5.94e+04</td>\n",
       "</tr>\n",
       "<tr>\n",
       "  <th>Functional_Typ</th>       <td> 5.057e+04</td> <td> 1.42e+04</td> <td>    3.563</td> <td> 0.000</td> <td> 2.27e+04</td> <td> 7.84e+04</td>\n",
       "</tr>\n",
       "<tr>\n",
       "  <th>Garage Type_2Types</th>   <td>-2.737e+04</td> <td> 7635.636</td> <td>   -3.585</td> <td> 0.000</td> <td>-4.23e+04</td> <td>-1.24e+04</td>\n",
       "</tr>\n",
       "<tr>\n",
       "  <th>Garage Type_Attchd</th>   <td>-1.583e+04</td> <td> 6256.431</td> <td>   -2.530</td> <td> 0.011</td> <td>-2.81e+04</td> <td>-3560.521</td>\n",
       "</tr>\n",
       "<tr>\n",
       "  <th>Garage Type_Basment</th>  <td>-2.204e+04</td> <td> 7365.024</td> <td>   -2.992</td> <td> 0.003</td> <td>-3.65e+04</td> <td>-7592.845</td>\n",
       "</tr>\n",
       "<tr>\n",
       "  <th>Garage Type_BuiltIn</th>  <td>-1.542e+04</td> <td> 6770.253</td> <td>   -2.277</td> <td> 0.023</td> <td>-2.87e+04</td> <td>-2138.300</td>\n",
       "</tr>\n",
       "<tr>\n",
       "  <th>Garage Type_CarPort</th>  <td>-2.308e+04</td> <td> 8772.059</td> <td>   -2.631</td> <td> 0.009</td> <td>-4.03e+04</td> <td>-5875.144</td>\n",
       "</tr>\n",
       "<tr>\n",
       "  <th>Garage Type_Detchd</th>   <td>-1.645e+04</td> <td> 6176.480</td> <td>   -2.664</td> <td> 0.008</td> <td>-2.86e+04</td> <td>-4340.698</td>\n",
       "</tr>\n",
       "<tr>\n",
       "  <th>Garage Finish_Fin</th>    <td>-3.947e+04</td> <td> 1.16e+04</td> <td>   -3.412</td> <td> 0.001</td> <td>-6.22e+04</td> <td>-1.68e+04</td>\n",
       "</tr>\n",
       "<tr>\n",
       "  <th>Garage Finish_RFn</th>    <td>-4.271e+04</td> <td> 1.15e+04</td> <td>   -3.729</td> <td> 0.000</td> <td>-6.52e+04</td> <td>-2.03e+04</td>\n",
       "</tr>\n",
       "<tr>\n",
       "  <th>Garage Finish_Unf</th>    <td>-3.801e+04</td> <td> 1.14e+04</td> <td>   -3.327</td> <td> 0.001</td> <td>-6.04e+04</td> <td>-1.56e+04</td>\n",
       "</tr>\n",
       "<tr>\n",
       "  <th>Paved Drive_N</th>        <td>-4.102e+04</td> <td> 1.15e+04</td> <td>   -3.553</td> <td> 0.000</td> <td>-6.37e+04</td> <td>-1.84e+04</td>\n",
       "</tr>\n",
       "<tr>\n",
       "  <th>Paved Drive_P</th>        <td>-4.173e+04</td> <td> 1.16e+04</td> <td>   -3.592</td> <td> 0.000</td> <td>-6.45e+04</td> <td>-1.89e+04</td>\n",
       "</tr>\n",
       "<tr>\n",
       "  <th>Paved Drive_Y</th>        <td>-3.745e+04</td> <td> 1.18e+04</td> <td>   -3.168</td> <td> 0.002</td> <td>-6.06e+04</td> <td>-1.43e+04</td>\n",
       "</tr>\n",
       "<tr>\n",
       "  <th>Sale Type_COD</th>        <td>-2.603e+04</td> <td> 5431.976</td> <td>   -4.792</td> <td> 0.000</td> <td>-3.67e+04</td> <td>-1.54e+04</td>\n",
       "</tr>\n",
       "<tr>\n",
       "  <th>Sale Type_CWD</th>        <td>-1.126e+04</td> <td> 8337.862</td> <td>   -1.351</td> <td> 0.177</td> <td>-2.76e+04</td> <td> 5088.188</td>\n",
       "</tr>\n",
       "<tr>\n",
       "  <th>Sale Type_Con</th>        <td> 1.351e+04</td> <td> 1.21e+04</td> <td>    1.117</td> <td> 0.264</td> <td>-1.02e+04</td> <td> 3.72e+04</td>\n",
       "</tr>\n",
       "<tr>\n",
       "  <th>Sale Type_ConLD</th>      <td>-1.452e+04</td> <td> 7549.843</td> <td>   -1.924</td> <td> 0.055</td> <td>-2.93e+04</td> <td>  283.635</td>\n",
       "</tr>\n",
       "<tr>\n",
       "  <th>Sale Type_ConLI</th>      <td>-1.966e+04</td> <td> 9594.495</td> <td>   -2.049</td> <td> 0.041</td> <td>-3.85e+04</td> <td> -839.305</td>\n",
       "</tr>\n",
       "<tr>\n",
       "  <th>Sale Type_ConLw</th>      <td>-2.296e+04</td> <td> 1.08e+04</td> <td>   -2.119</td> <td> 0.034</td> <td>-4.42e+04</td> <td>-1709.213</td>\n",
       "</tr>\n",
       "<tr>\n",
       "  <th>Sale Type_New</th>        <td>-1.023e+04</td> <td> 5407.132</td> <td>   -1.893</td> <td> 0.059</td> <td>-2.08e+04</td> <td>  371.423</td>\n",
       "</tr>\n",
       "<tr>\n",
       "  <th>Sale Type_Oth</th>        <td>-9519.0393</td> <td> 1.19e+04</td> <td>   -0.798</td> <td> 0.425</td> <td>-3.29e+04</td> <td> 1.39e+04</td>\n",
       "</tr>\n",
       "<tr>\n",
       "  <th>Sale Type_WD </th>        <td>-1.951e+04</td> <td> 4762.694</td> <td>   -4.097</td> <td> 0.000</td> <td>-2.89e+04</td> <td>-1.02e+04</td>\n",
       "</tr>\n",
       "</table>\n",
       "<table class=\"simpletable\">\n",
       "<tr>\n",
       "  <th>Omnibus:</th>       <td>1058.469</td> <th>  Durbin-Watson:     </th>  <td>   1.990</td> \n",
       "</tr>\n",
       "<tr>\n",
       "  <th>Prob(Omnibus):</th>  <td> 0.000</td>  <th>  Jarque-Bera (JB):  </th> <td>140260.996</td>\n",
       "</tr>\n",
       "<tr>\n",
       "  <th>Skew:</th>           <td>-1.411</td>  <th>  Prob(JB):          </th>  <td>    0.00</td> \n",
       "</tr>\n",
       "<tr>\n",
       "  <th>Kurtosis:</th>       <td>43.434</td>  <th>  Cond. No.          </th>  <td>1.00e+16</td> \n",
       "</tr>\n",
       "</table><br/><br/>Warnings:<br/>[1] Standard Errors assume that the covariance matrix of the errors is correctly specified.<br/>[2] The smallest eigenvalue is 1.11e-11. This might indicate that there are<br/>strong multicollinearity problems or that the design matrix is singular."
      ],
      "text/plain": [
       "<class 'statsmodels.iolib.summary.Summary'>\n",
       "\"\"\"\n",
       "                            OLS Regression Results                            \n",
       "==============================================================================\n",
       "Dep. Variable:              SalePrice   R-squared:                       0.916\n",
       "Model:                            OLS   Adj. R-squared:                  0.907\n",
       "Method:                 Least Squares   F-statistic:                     111.8\n",
       "Date:                Fri, 04 Oct 2019   Prob (F-statistic):               0.00\n",
       "Time:                        14:21:11   Log-Likelihood:                -23489.\n",
       "No. Observations:                2049   AIC:                         4.734e+04\n",
       "Df Residuals:                    1867   BIC:                         4.837e+04\n",
       "Df Model:                         181                                         \n",
       "Covariance Type:            nonrobust                                         \n",
       "========================================================================================\n",
       "                           coef    std err          t      P>|t|      [0.025      0.975]\n",
       "----------------------------------------------------------------------------------------\n",
       "PID                   4.052e-06   8.39e-06      0.483      0.629   -1.24e-05    2.05e-05\n",
       "Lot Area                 0.4623      0.124      3.723      0.000       0.219       0.706\n",
       "Overall Qual          8322.6192    838.098      9.930      0.000    6678.912    9966.326\n",
       "Year Built              82.6012     61.374      1.346      0.179     -37.767     202.969\n",
       "Year Remod/Add         175.3168     45.482      3.855      0.000      86.115     264.519\n",
       "BsmtFin SF 1             2.7126      3.979      0.682      0.495      -5.091      10.516\n",
       "Bsmt Unf SF             -4.2612      4.153     -1.026      0.305     -12.407       3.885\n",
       "Total Bsmt SF           10.5984      4.975      2.130      0.033       0.842      20.355\n",
       "1st Flr SF              14.8489     13.278      1.118      0.264     -11.193      40.891\n",
       "2nd Flr SF              17.1750     12.561      1.367      0.172      -7.459      41.810\n",
       "Gr Liv Area             32.6575     13.020      2.508      0.012       7.123      58.192\n",
       "Bsmt Full Bath        5411.8743   1553.669      3.483      0.001    2364.763    8458.986\n",
       "Full Bath             4791.7565   1807.013      2.652      0.008    1247.779    8335.735\n",
       "Half Bath             3449.4462   1718.101      2.008      0.045      79.846    6819.046\n",
       "Bedroom AbvGr        -3236.9260   1112.557     -2.909      0.004   -5418.913   -1054.939\n",
       "Kitchen AbvGr        -1.339e+04   5081.979     -2.635      0.008   -2.34e+04   -3422.825\n",
       "TotRms AbvGrd         1600.5107    786.041      2.036      0.042      58.899    3142.123\n",
       "Fireplaces            4318.6819   1164.483      3.709      0.000    2034.856    6602.508\n",
       "Garage Yr Blt          -10.3933     42.214     -0.246      0.806     -93.186      72.399\n",
       "Garage Cars           6446.7428   1894.833      3.402      0.001    2730.530    1.02e+04\n",
       "Garage Area              5.0954      6.738      0.756      0.450      -8.120      18.311\n",
       "Wood Deck SF            15.5675      4.933      3.156      0.002       5.892      25.243\n",
       "Open Porch SF            0.3517      9.643      0.036      0.971     -18.560      19.264\n",
       "Enclosed Porch           6.7388     10.788      0.625      0.532     -14.420      27.897\n",
       "Screen Porch            77.1549     10.298      7.492      0.000      56.958      97.352\n",
       "Lot Shape_IR1        -1.692e+04   8684.346     -1.948      0.052   -3.39e+04     116.661\n",
       "Lot Shape_IR2        -1.203e+04   9159.929     -1.313      0.189      -3e+04    5935.980\n",
       "Lot Shape_IR3        -7.465e+04   1.13e+04     -6.617      0.000   -9.68e+04   -5.25e+04\n",
       "Lot Shape_Reg         -1.66e+04   8701.196     -1.908      0.057   -3.37e+04     463.556\n",
       "Land Contour_Bnk     -3.823e+04   8872.336     -4.309      0.000   -5.56e+04   -2.08e+04\n",
       "Land Contour_HLS     -2.233e+04   9146.254     -2.441      0.015   -4.03e+04   -4391.439\n",
       "Land Contour_Low     -2.955e+04   9320.062     -3.171      0.002   -4.78e+04   -1.13e+04\n",
       "Land Contour_Lvl     -3.008e+04   8756.304     -3.435      0.001   -4.73e+04   -1.29e+04\n",
       "Utilities_AllPub      2.366e+04    2.6e+04      0.911      0.362   -2.73e+04    7.46e+04\n",
       "Utilities_NoSewr       1.24e+04   3.72e+04      0.333      0.739   -6.06e+04    8.54e+04\n",
       "Lot Config_Corner    -2.323e+04   7127.313     -3.259      0.001   -3.72e+04   -9250.971\n",
       "Lot Config_CulDSac   -1.602e+04   7394.761     -2.166      0.030   -3.05e+04   -1514.154\n",
       "Lot Config_FR2       -2.509e+04   7559.094     -3.319      0.001   -3.99e+04   -1.03e+04\n",
       "Lot Config_FR3        -3.38e+04   1.02e+04     -3.324      0.001   -5.37e+04   -1.39e+04\n",
       "Lot Config_Inside    -2.206e+04   7120.357     -3.099      0.002    -3.6e+04   -8098.457\n",
       "Land Slope_Gtl       -3.887e+04    1.2e+04     -3.235      0.001   -6.24e+04   -1.53e+04\n",
       "Land Slope_Mod       -3.751e+04    1.2e+04     -3.134      0.002    -6.1e+04    -1.4e+04\n",
       "Land Slope_Sev       -4.381e+04   1.29e+04     -3.385      0.001   -6.92e+04   -1.84e+04\n",
       "Neighborhood_Blmngtn -7.144e+04   1.58e+04     -4.529      0.000   -1.02e+05   -4.05e+04\n",
       "Neighborhood_Blueste -6.742e+04   1.77e+04     -3.817      0.000   -1.02e+05   -3.28e+04\n",
       "Neighborhood_BrDale  -5.665e+04   1.61e+04     -3.526      0.000   -8.82e+04   -2.51e+04\n",
       "Neighborhood_BrkSide -7.887e+04   1.51e+04     -5.214      0.000   -1.09e+05   -4.92e+04\n",
       "Neighborhood_ClearCr -7.526e+04   1.55e+04     -4.862      0.000   -1.06e+05   -4.49e+04\n",
       "Neighborhood_CollgCr -7.884e+04   1.46e+04     -5.392      0.000   -1.08e+05   -5.02e+04\n",
       "Neighborhood_Crawfor -6.406e+04   1.49e+04     -4.293      0.000   -9.33e+04   -3.48e+04\n",
       "Neighborhood_Edwards -8.845e+04   1.47e+04     -6.009      0.000   -1.17e+05   -5.96e+04\n",
       "Neighborhood_Gilbert -8.078e+04   1.51e+04     -5.366      0.000    -1.1e+05   -5.13e+04\n",
       "Neighborhood_Greens  -6.074e+04   2.09e+04     -2.909      0.004   -1.02e+05   -1.98e+04\n",
       "Neighborhood_IDOTRR  -8.324e+04   1.51e+04     -5.497      0.000   -1.13e+05   -5.35e+04\n",
       "Neighborhood_MeadowV -7.018e+04   1.58e+04     -4.446      0.000   -1.01e+05   -3.92e+04\n",
       "Neighborhood_Mitchel     -8e+04   1.48e+04     -5.403      0.000   -1.09e+05    -5.1e+04\n",
       "Neighborhood_NAmes    -8.17e+04    1.5e+04     -5.436      0.000   -1.11e+05   -5.22e+04\n",
       "Neighborhood_NPkVill -6.617e+04   2.07e+04     -3.198      0.001   -1.07e+05   -2.56e+04\n",
       "Neighborhood_NWAmes  -8.044e+04   1.52e+04     -5.296      0.000    -1.1e+05   -5.06e+04\n",
       "Neighborhood_NoRidge -3.924e+04   1.54e+04     -2.546      0.011   -6.95e+04   -9013.760\n",
       "Neighborhood_NridgHt -4.041e+04    1.5e+04     -2.688      0.007   -6.99e+04   -1.09e+04\n",
       "Neighborhood_OldTown -8.831e+04    1.5e+04     -5.903      0.000   -1.18e+05    -5.9e+04\n",
       "Neighborhood_SWISU   -8.185e+04   1.55e+04     -5.287      0.000   -1.12e+05   -5.15e+04\n",
       "Neighborhood_Sawyer  -7.938e+04   1.48e+04     -5.346      0.000   -1.09e+05   -5.03e+04\n",
       "Neighborhood_SawyerW -7.792e+04   1.48e+04     -5.249      0.000   -1.07e+05   -4.88e+04\n",
       "Neighborhood_Somerst -5.922e+04   1.49e+04     -3.965      0.000   -8.85e+04   -2.99e+04\n",
       "Neighborhood_StoneBr -2.947e+04   1.54e+04     -1.911      0.056   -5.97e+04     767.974\n",
       "Neighborhood_Timber  -7.662e+04    1.5e+04     -5.120      0.000   -1.06e+05   -4.73e+04\n",
       "Neighborhood_Veenker -6.852e+04   1.62e+04     -4.232      0.000      -1e+05   -3.68e+04\n",
       "Condition 1_Artery   -1.561e+04   5275.039     -2.960      0.003    -2.6e+04   -5266.881\n",
       "Condition 1_Feedr    -1.711e+04   4964.947     -3.447      0.001   -2.69e+04   -7375.924\n",
       "Condition 1_Norm     -7801.3674   4561.385     -1.710      0.087   -1.67e+04    1144.582\n",
       "Condition 1_PosA      -529.0427   8440.793     -0.063      0.950   -1.71e+04     1.6e+04\n",
       "Condition 1_PosN      4884.3864   6403.111      0.763      0.446   -7673.622    1.74e+04\n",
       "Condition 1_RRAe     -2.413e+04   6982.211     -3.456      0.001   -3.78e+04   -1.04e+04\n",
       "Condition 1_RRAn     -1.305e+04   6048.160     -2.157      0.031   -2.49e+04   -1186.123\n",
       "Condition 1_RRNe     -2.517e+04   1.38e+04     -1.829      0.068   -5.22e+04    1823.645\n",
       "Condition 1_RRNn     -2.167e+04   1.03e+04     -2.100      0.036   -4.19e+04   -1431.388\n",
       "Condition 2_Feedr     5795.3718   1.19e+04      0.487      0.626   -1.75e+04    2.91e+04\n",
       "Condition 2_Norm      -551.0904   9028.610     -0.061      0.951   -1.83e+04    1.72e+04\n",
       "Condition 2_PosA      1.182e+04   1.85e+04      0.638      0.524   -2.45e+04    4.81e+04\n",
       "Condition 2_PosN     -1.644e+04   1.77e+04     -0.926      0.354   -5.12e+04    1.84e+04\n",
       "Bldg Type_1Fam       -8519.4225   6963.847     -1.223      0.221   -2.22e+04    5138.320\n",
       "Bldg Type_2fmCon     -1.411e+04   7778.082     -1.815      0.070   -2.94e+04    1140.006\n",
       "Bldg Type_Duplex     -1.641e+04   8233.127     -1.993      0.046   -3.26e+04    -258.297\n",
       "Bldg Type_Twnhs      -4.245e+04   7942.144     -5.346      0.000    -5.8e+04   -2.69e+04\n",
       "Bldg Type_TwnhsE      -3.87e+04   7373.329     -5.248      0.000   -5.32e+04   -2.42e+04\n",
       "House Style_1.5Fin   -1.793e+04   4906.086     -3.655      0.000   -2.76e+04   -8311.273\n",
       "House Style_1.5Unf   -6829.1149   8302.764     -0.823      0.411   -2.31e+04    9454.560\n",
       "House Style_1Story   -9771.4030   5494.077     -1.779      0.075   -2.05e+04    1003.776\n",
       "House Style_2.5Fin   -1.645e+04   1.15e+04     -1.429      0.153    -3.9e+04    6123.002\n",
       "House Style_2.5Unf   -1.342e+04   7889.540     -1.702      0.089   -2.89e+04    2048.723\n",
       "House Style_2Story   -2.272e+04   5132.715     -4.426      0.000   -3.28e+04   -1.27e+04\n",
       "House Style_SFoyer    -1.29e+04   6457.824     -1.998      0.046   -2.56e+04    -236.739\n",
       "House Style_SLvl     -2.017e+04   5700.567     -3.538      0.000   -3.13e+04   -8986.184\n",
       "Roof Style_Flat      -1.669e+04   8894.103     -1.877      0.061   -3.41e+04     751.597\n",
       "Roof Style_Gable     -1.421e+04   6828.459     -2.081      0.038   -2.76e+04    -819.285\n",
       "Roof Style_Gambrel   -1.826e+04   9037.463     -2.020      0.043    -3.6e+04    -534.731\n",
       "Roof Style_Hip       -1.173e+04   6895.890     -1.701      0.089   -2.53e+04    1796.581\n",
       "Roof Style_Mansard    -4.47e+04   1.04e+04     -4.319      0.000    -6.5e+04   -2.44e+04\n",
       "Roof Style_Shed       -1.46e+04   1.46e+04     -1.003      0.316   -4.31e+04    1.39e+04\n",
       "Exterior 1st_AsbShng  8409.9666   1.59e+04      0.528      0.597   -2.28e+04    3.96e+04\n",
       "Exterior 1st_AsphShn -9738.4402   3.51e+04     -0.278      0.781   -7.85e+04     5.9e+04\n",
       "Exterior 1st_BrkComm -9279.9304   2.56e+04     -0.362      0.717   -5.95e+04    4.09e+04\n",
       "Exterior 1st_BrkFace   2.67e+04    1.4e+04      1.914      0.056    -659.462    5.41e+04\n",
       "Exterior 1st_CemntBd  3.253e+04   2.32e+04      1.403      0.161   -1.29e+04     7.8e+04\n",
       "Exterior 1st_HdBoard   273.9765   1.36e+04      0.020      0.984   -2.65e+04     2.7e+04\n",
       "Exterior 1st_MetalSd  6121.0871   1.54e+04      0.397      0.691   -2.41e+04    3.63e+04\n",
       "Exterior 1st_Plywood  3379.2965   1.38e+04      0.245      0.807   -2.37e+04    3.05e+04\n",
       "Exterior 1st_Stucco  -9035.7133    1.5e+04     -0.603      0.547   -3.84e+04    2.04e+04\n",
       "Exterior 1st_VinylSd  -240.8380   1.41e+04     -0.017      0.986   -2.79e+04    2.74e+04\n",
       "Exterior 1st_Wd Sdng -3247.5632   1.38e+04     -0.236      0.814   -3.03e+04    2.38e+04\n",
       "Exterior 1st_WdShing  3509.7075   1.42e+04      0.247      0.805   -2.44e+04    3.14e+04\n",
       "Exterior 2nd_AsbShng  5978.6798   1.45e+04      0.412      0.681   -2.25e+04    3.45e+04\n",
       "Exterior 2nd_AsphShn  3.904e+04    2.2e+04      1.773      0.076   -4140.611    8.22e+04\n",
       "Exterior 2nd_Brk Cmn  2.657e+04   1.98e+04      1.339      0.181   -1.24e+04    6.55e+04\n",
       "Exterior 2nd_BrkFace  4647.8022    1.2e+04      0.387      0.699   -1.89e+04    2.82e+04\n",
       "Exterior 2nd_CBlock   1.327e+04   2.99e+04      0.444      0.657   -4.53e+04    7.19e+04\n",
       "Exterior 2nd_CmentBd -7652.7793    2.2e+04     -0.348      0.728   -5.08e+04    3.55e+04\n",
       "Exterior 2nd_HdBoard  1.614e+04   1.19e+04      1.354      0.176   -7232.914    3.95e+04\n",
       "Exterior 2nd_ImStucc  1.208e+04   1.36e+04      0.885      0.376   -1.47e+04    3.88e+04\n",
       "Exterior 2nd_MetalSd  1.675e+04   1.34e+04      1.247      0.213   -9602.528    4.31e+04\n",
       "Exterior 2nd_Plywood   1.61e+04   1.18e+04      1.363      0.173   -7071.292    3.93e+04\n",
       "Exterior 2nd_Stucco   1.038e+04   1.25e+04      0.828      0.408   -1.42e+04     3.5e+04\n",
       "Exterior 2nd_VinylSd  2.273e+04   1.27e+04      1.796      0.073   -2086.061    4.75e+04\n",
       "Exterior 2nd_Wd Sdng   2.24e+04   1.16e+04      1.938      0.053    -272.541    4.51e+04\n",
       "Exterior 2nd_Wd Shng  1.599e+04   1.21e+04      1.325      0.185   -7673.281    3.97e+04\n",
       "Exter Qual_Ex        -1.097e+04   9365.228     -1.171      0.242   -2.93e+04    7400.263\n",
       "Exter Qual_Fa        -3.364e+04   9937.832     -3.385      0.001   -5.31e+04   -1.42e+04\n",
       "Exter Qual_Gd        -3.534e+04   8868.324     -3.984      0.000   -5.27e+04   -1.79e+04\n",
       "Exter Qual_TA        -4.025e+04   8694.552     -4.629      0.000   -5.73e+04   -2.32e+04\n",
       "Exter Cond_Ex        -1.688e+04   1.15e+04     -1.471      0.142   -3.94e+04    5632.534\n",
       "Exter Cond_Fa        -3.105e+04   8827.868     -3.517      0.000   -4.84e+04   -1.37e+04\n",
       "Exter Cond_Gd        -2.413e+04   8571.019     -2.816      0.005   -4.09e+04   -7323.149\n",
       "Exter Cond_Po        -2.259e+04   1.84e+04     -1.229      0.219   -5.86e+04    1.34e+04\n",
       "Exter Cond_TA        -2.554e+04   8476.224     -3.013      0.003   -4.22e+04   -8915.934\n",
       "Foundation_BrkTil    -2.381e+04   6670.895     -3.569      0.000   -3.69e+04   -1.07e+04\n",
       "Foundation_CBlock    -2.031e+04   6774.416     -2.999      0.003   -3.36e+04   -7028.763\n",
       "Foundation_PConc     -1.821e+04   7071.836     -2.575      0.010   -3.21e+04   -4342.834\n",
       "Foundation_Slab      -2.339e+04   9046.006     -2.586      0.010   -4.11e+04   -5652.604\n",
       "Foundation_Stone     -2.105e+04   1.22e+04     -1.721      0.085    -4.5e+04    2937.410\n",
       "Foundation_Wood      -1.341e+04   1.64e+04     -0.819      0.413   -4.55e+04    1.87e+04\n",
       "Bsmt Qual_Ex         -1.477e+04   9777.907     -1.511      0.131   -3.39e+04    4403.847\n",
       "Bsmt Qual_Fa         -2.483e+04   9132.799     -2.719      0.007   -4.27e+04   -6915.982\n",
       "Bsmt Qual_Gd         -3.112e+04   9451.968     -3.293      0.001   -4.97e+04   -1.26e+04\n",
       "Bsmt Qual_Po         -2.125e+04   2.35e+04     -0.905      0.366   -6.73e+04    2.48e+04\n",
       "Bsmt Qual_TA         -2.822e+04   9035.021     -3.123      0.002   -4.59e+04   -1.05e+04\n",
       "Bsmt Cond_Fa         -3919.2218   6669.742     -0.588      0.557    -1.7e+04    9161.713\n",
       "Bsmt Cond_Gd          3866.7663   6437.918      0.601      0.548   -8759.507    1.65e+04\n",
       "Bsmt Cond_TA          2198.5058   5868.733      0.375      0.708   -9311.461    1.37e+04\n",
       "Bsmt Exposure_Av     -3.032e+04   8710.785     -3.481      0.001   -4.74e+04   -1.32e+04\n",
       "Bsmt Exposure_Gd     -1.717e+04   8822.951     -1.946      0.052   -3.45e+04     131.188\n",
       "Bsmt Exposure_Mn     -3.661e+04   8660.782     -4.227      0.000   -5.36e+04   -1.96e+04\n",
       "Bsmt Exposure_No     -3.609e+04   8628.642     -4.182      0.000    -5.3e+04   -1.92e+04\n",
       "BsmtFin Type 1_ALQ   -1.779e+04   5972.570     -2.979      0.003   -2.95e+04   -6078.966\n",
       "BsmtFin Type 1_BLQ   -1.984e+04   5925.398     -3.349      0.001   -3.15e+04   -8220.680\n",
       "BsmtFin Type 1_GLQ   -1.625e+04   6017.129     -2.701      0.007   -2.81e+04   -4449.373\n",
       "BsmtFin Type 1_LwQ   -2.274e+04   6091.831     -3.734      0.000   -3.47e+04   -1.08e+04\n",
       "BsmtFin Type 1_Rec   -2.084e+04   5957.459     -3.497      0.000   -3.25e+04   -9151.566\n",
       "BsmtFin Type 1_Unf   -2.273e+04   5916.136     -3.842      0.000   -3.43e+04   -1.11e+04\n",
       "Heating QC_Ex         2.478e+04   1.73e+04      1.432      0.152   -9162.690    5.87e+04\n",
       "Heating QC_Fa         1.908e+04   1.74e+04      1.097      0.273    -1.5e+04    5.32e+04\n",
       "Heating QC_Gd         2.382e+04   1.73e+04      1.374      0.170   -1.02e+04    5.78e+04\n",
       "Heating QC_TA         1.964e+04   1.73e+04      1.134      0.257   -1.43e+04    5.36e+04\n",
       "Central Air_N         -5.97e+04   1.71e+04     -3.482      0.001   -9.33e+04   -2.61e+04\n",
       "Central Air_Y         -6.05e+04   1.73e+04     -3.503      0.000   -9.44e+04   -2.66e+04\n",
       "Electrical_FuseA      1.656e+04   2.79e+04      0.594      0.552   -3.81e+04    7.12e+04\n",
       "Electrical_FuseF      1.933e+04   2.82e+04      0.686      0.493   -3.59e+04    7.46e+04\n",
       "Electrical_FuseP        2.3e+04   2.95e+04      0.780      0.435   -3.48e+04    8.08e+04\n",
       "Electrical_SBrkr      1.721e+04   2.78e+04      0.619      0.536   -3.74e+04    7.18e+04\n",
       "Kitchen Qual_Ex      -1.013e+04   9163.827     -1.105      0.269   -2.81e+04    7842.008\n",
       "Kitchen Qual_Fa      -3.969e+04   8909.558     -4.455      0.000   -5.72e+04   -2.22e+04\n",
       "Kitchen Qual_Gd      -3.398e+04   8878.022     -3.828      0.000   -5.14e+04   -1.66e+04\n",
       "Kitchen Qual_TA      -3.639e+04   8619.260     -4.222      0.000   -5.33e+04   -1.95e+04\n",
       "Functional_Maj1       2.656e+04   1.61e+04      1.653      0.098   -4951.853    5.81e+04\n",
       "Functional_Maj2       3.025e+04   1.79e+04      1.694      0.090   -4763.081    6.53e+04\n",
       "Functional_Min1       4.094e+04   1.48e+04      2.773      0.006     1.2e+04    6.99e+04\n",
       "Functional_Min2       4.308e+04   1.48e+04      2.917      0.004    1.41e+04     7.2e+04\n",
       "Functional_Mod        3.069e+04   1.47e+04      2.093      0.037    1928.390    5.94e+04\n",
       "Functional_Typ        5.057e+04   1.42e+04      3.563      0.000    2.27e+04    7.84e+04\n",
       "Garage Type_2Types   -2.737e+04   7635.636     -3.585      0.000   -4.23e+04   -1.24e+04\n",
       "Garage Type_Attchd   -1.583e+04   6256.431     -2.530      0.011   -2.81e+04   -3560.521\n",
       "Garage Type_Basment  -2.204e+04   7365.024     -2.992      0.003   -3.65e+04   -7592.845\n",
       "Garage Type_BuiltIn  -1.542e+04   6770.253     -2.277      0.023   -2.87e+04   -2138.300\n",
       "Garage Type_CarPort  -2.308e+04   8772.059     -2.631      0.009   -4.03e+04   -5875.144\n",
       "Garage Type_Detchd   -1.645e+04   6176.480     -2.664      0.008   -2.86e+04   -4340.698\n",
       "Garage Finish_Fin    -3.947e+04   1.16e+04     -3.412      0.001   -6.22e+04   -1.68e+04\n",
       "Garage Finish_RFn    -4.271e+04   1.15e+04     -3.729      0.000   -6.52e+04   -2.03e+04\n",
       "Garage Finish_Unf    -3.801e+04   1.14e+04     -3.327      0.001   -6.04e+04   -1.56e+04\n",
       "Paved Drive_N        -4.102e+04   1.15e+04     -3.553      0.000   -6.37e+04   -1.84e+04\n",
       "Paved Drive_P        -4.173e+04   1.16e+04     -3.592      0.000   -6.45e+04   -1.89e+04\n",
       "Paved Drive_Y        -3.745e+04   1.18e+04     -3.168      0.002   -6.06e+04   -1.43e+04\n",
       "Sale Type_COD        -2.603e+04   5431.976     -4.792      0.000   -3.67e+04   -1.54e+04\n",
       "Sale Type_CWD        -1.126e+04   8337.862     -1.351      0.177   -2.76e+04    5088.188\n",
       "Sale Type_Con         1.351e+04   1.21e+04      1.117      0.264   -1.02e+04    3.72e+04\n",
       "Sale Type_ConLD      -1.452e+04   7549.843     -1.924      0.055   -2.93e+04     283.635\n",
       "Sale Type_ConLI      -1.966e+04   9594.495     -2.049      0.041   -3.85e+04    -839.305\n",
       "Sale Type_ConLw      -2.296e+04   1.08e+04     -2.119      0.034   -4.42e+04   -1709.213\n",
       "Sale Type_New        -1.023e+04   5407.132     -1.893      0.059   -2.08e+04     371.423\n",
       "Sale Type_Oth        -9519.0393   1.19e+04     -0.798      0.425   -3.29e+04    1.39e+04\n",
       "Sale Type_WD         -1.951e+04   4762.694     -4.097      0.000   -2.89e+04   -1.02e+04\n",
       "==============================================================================\n",
       "Omnibus:                     1058.469   Durbin-Watson:                   1.990\n",
       "Prob(Omnibus):                  0.000   Jarque-Bera (JB):           140260.996\n",
       "Skew:                          -1.411   Prob(JB):                         0.00\n",
       "Kurtosis:                      43.434   Cond. No.                     1.00e+16\n",
       "==============================================================================\n",
       "\n",
       "Warnings:\n",
       "[1] Standard Errors assume that the covariance matrix of the errors is correctly specified.\n",
       "[2] The smallest eigenvalue is 1.11e-11. This might indicate that there are\n",
       "strong multicollinearity problems or that the design matrix is singular.\n",
       "\"\"\""
      ]
     },
     "execution_count": 42,
     "metadata": {},
     "output_type": "execute_result"
    }
   ],
   "source": [
    "# This will produce a summary table where we can see how each prediction variable affects he SalePrice\n",
    "\n",
    "import statsmodels.api as sm\n",
    "lr2 = sm.OLS(y_train, X_train).fit()\n",
    "lr2.summary()"
   ]
  },
  {
   "cell_type": "code",
   "execution_count": null,
   "metadata": {},
   "outputs": [],
   "source": []
  },
  {
   "cell_type": "code",
   "execution_count": 43,
   "metadata": {},
   "outputs": [],
   "source": [
    "# Read in test file. to get the Id.\n",
    "test_org = pd.read_csv('./datasets/test.csv')"
   ]
  },
  {
   "cell_type": "raw",
   "metadata": {},
   "source": [
    "test_org.head()"
   ]
  },
  {
   "cell_type": "code",
   "execution_count": 44,
   "metadata": {},
   "outputs": [
    {
     "data": {
      "text/plain": [
       "(879, 1)"
      ]
     },
     "execution_count": 44,
     "metadata": {},
     "output_type": "execute_result"
    }
   ],
   "source": [
    "id_number = test_org['Id']\n",
    "id_number = pd.DataFrame(id_number)\n",
    "id_number.dropna()\n",
    "id_number.shape"
   ]
  },
  {
   "cell_type": "code",
   "execution_count": 45,
   "metadata": {},
   "outputs": [],
   "source": [
    "# Save prediction to csv file for submission\n",
    "pred = pd.DataFrame(pred)\n",
    "frame = [id_number, pred]\n",
    "result = pd.concat(frame, axis = 1)\n",
    "result.columns = ['Id','SalePrice']\n",
    "\n",
    "result.to_csv(r'\\Users\\carne\\Documents\\Djuwita_DSI\\Submissions\\project_2\\datasets\\result2.csv', index = False)"
   ]
  },
  {
   "cell_type": "markdown",
   "metadata": {},
   "source": [
    "## This tunning in process improved the model"
   ]
  },
  {
   "cell_type": "code",
   "execution_count": null,
   "metadata": {},
   "outputs": [],
   "source": []
  }
 ],
 "metadata": {
  "anaconda-cloud": {},
  "kernelspec": {
   "display_name": "Python 3",
   "language": "python",
   "name": "python3"
  },
  "language_info": {
   "codemirror_mode": {
    "name": "ipython",
    "version": 3
   },
   "file_extension": ".py",
   "mimetype": "text/x-python",
   "name": "python",
   "nbconvert_exporter": "python",
   "pygments_lexer": "ipython3",
   "version": "3.7.3"
  }
 },
 "nbformat": 4,
 "nbformat_minor": 4
}
