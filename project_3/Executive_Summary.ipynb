{
 "cells": [
  {
   "cell_type": "markdown",
   "metadata": {},
   "source": [
    "# Project - 3\n",
    "\n",
    "# Document Classification"
   ]
  },
  {
   "cell_type": "markdown",
   "metadata": {},
   "source": [
    "## Executive Summary"
   ]
  },
  {
   "cell_type": "markdown",
   "metadata": {},
   "source": [
    "### 1. In this project, reviews from two types of products (movies and book downloaded from reddit.com) are classified. The two groups of reviews were combined in one dataframe.\n",
    "\n",
    "### 2. A total of 32,270 reviews were collected. After data cleaning, only 16,261 can be used in this project\n",
    "\n",
    "### 3. Logistic Regression model was used to predict the classification of the products (whether they are books or movies) with the results shown below:\n",
    "    - training score = 0.9400\n",
    "    - testing score = 0.9270\n",
    "    - prediction accuracy for books is 0.4041 and for movies is 0.5959\n",
    "    - baseline accuracy for books is 0.4406 and for movies is 0.5594\n",
    "    - this model seems to be overfitted\n",
    "    \n",
    "### 4. GridSearch  with CountVectorizer and TfidfVectorizer was performed to find the best hyperparameters, resulted in:\n",
    "    - training score = 0.9624\n",
    "    - testing score = 0.9545\n",
    "    - prediction accuracy for books is 0.4493 and for movies is 0.5507\n",
    "    - this model still seems to be overfitting althoguh the accuracy has increrased\n",
    "    - the best hyperparametes are as follows: max_df=0.9,\n",
    "                                 max_features=1000, min_df=3,\n",
    "                                 ngram_range=(1, 1), preprocessor=None,\n",
    "                                 stop_words=None\n",
    "                                 \n",
    "### 5. Naive - Bayes model with TfidfVectorizer resulted in the best prediction, with hyperparameter values as follows:\n",
    "\n",
    "    - tfidf__max_df': 0.9,\n",
    "    - tfidf__max_features': 100,\n",
    "    - tfidf__ngram_range': (1, 2),\n",
    "    - tfidf__stop_words': None}\n",
    " \n",
    "### 6. the top ten common words for each reviews are as follows:\n",
    "### for movies:                               \n",
    "\n",
    "\n",
    "words     count\n",
    "  \n",
    " ('the', 46369),                          \n",
    " ('i', 26627),\n",
    " ('a', 22584),\n",
    " ('and', 22375),\n",
    " ('to', 20820),\n",
    " ('of', 19034),\n",
    " ('it', 17051),\n",
    " ('in', 12802),\n",
    " ('that', 11951),\n",
    " ('is', 11092)]\n",
    " \n",
    "  for books\n",
    " ('the', 44181),\n",
    " ('i', 39961),\n",
    " ('and', 26387),\n",
    " ('to', 25761),\n",
    " ('a', 24129),\n",
    " ('of', 23063),\n",
    " ('it', 17372),\n",
    " ('in', 13541),\n",
    " ('that', 12504),\n",
    " ('is', 11484)]\n",
    " \n",
    " These words are common words and some of them are in the standard English stopwords\n",
    " \n",
    "###  The performance of the model might be improved by introducing more stopwords so the two sources of the reviews would be more differentiable"
   ]
  },
  {
   "cell_type": "code",
   "execution_count": null,
   "metadata": {},
   "outputs": [],
   "source": [
    "\n",
    "###"
   ]
  }
 ],
 "metadata": {
  "kernelspec": {
   "display_name": "Python 3",
   "language": "python",
   "name": "python3"
  },
  "language_info": {
   "codemirror_mode": {
    "name": "ipython",
    "version": 3
   },
   "file_extension": ".py",
   "mimetype": "text/x-python",
   "name": "python",
   "nbconvert_exporter": "python",
   "pygments_lexer": "ipython3",
   "version": "3.7.3"
  }
 },
 "nbformat": 4,
 "nbformat_minor": 4
}
